{
  "nbformat": 4,
  "nbformat_minor": 0,
  "metadata": {
    "colab": {
      "name": "demand_forecasting.ipynb",
      "provenance": [],
      "collapsed_sections": []
    },
    "kernelspec": {
      "name": "python3",
      "display_name": "Python 3"
    },
    "language_info": {
      "name": "python"
    }
  },
  "cells": [
    {
      "cell_type": "markdown",
      "source": [
        "Time series is a sequence of observations recorded at regular time intervals.\n",
        "\n",
        "Depending on the frequency of observations, a time series may typically be hourly, daily, weekly, monthly, quarterly and annual. Sometimes, you might have seconds and minute-wise time series as well, like, number of clicks and user visits every minute, etc.\n",
        "\n",
        "Time series analysis involves understanding various aspects of the inherent nature of the series so that you are better informed to create meaningful and accurate forecasts.\n",
        "\n",
        "Time series analysis is the preparatory step before you develop a forecast of the series. The more you learn about the data, the better the forecast.\n",
        "\n"
      ],
      "metadata": {
        "id": "1FhVFc5Fxldy"
      }
    },
    {
      "cell_type": "markdown",
      "source": [
        "The Basic Steps in a Forecasting Task\n",
        "**bold text**\n",
        "\n",
        "**Problem definition**. Often this is the most difficult part of forecasting. Defining the problem carefully requires an understanding of the way the forecasts will be used, who requires the forecasts, and how the forecasting function fits within the organization requiring the forecasts. A forecaster needs to spend time talking to everyone who will be involved in collecting data, maintaining databases, and using the forecasts for future planning.\n",
        "\n",
        "**Gathering information** :- There are always at least two kinds of information required: (a) statistical data, and (b) the accumulated expertise of the people who collect the data and use the forecasts. Often, it will be difficult to obtain enough historical data to be able to fit a good statistical model. Occasionally, old data will be less useful due to structural changes in the system being forecast; then we may choose to use only the most recent data. However, remember that a good statistical model will handle evolutionary changes in the system; don’t throw away good data unnecessarily.\n",
        "\n",
        "**Exploratory analysis**. Always start by graphing the data. Are there consistent patterns? Is there a significant trend? Is seasonality important? Is there evidence of the presence of business cycles? Are there any outliers in the data that need to be explained by those with expert knowledge? How strong are the relationships among the variables available for analysis? Various tools have been developed to help with this analysis.\n",
        "\n",
        "Choosing and fitting models. The best model to use depends on the availability of historical data, the strength of relationships between the forecast variable and any explanatory variables, and the way in which the forecasts are to be used. It is common to compare two or three potential models. Each model is itself an artificial construct that is based on a set of assumptions (explicit and implicit) and usually involves one or more parameters that must be estimated using the known historical data.\n",
        "\n",
        "**Using and evaluating a forecasting model**. Once a model has been selected and its parameters estimated, the model is used to make forecasts. The performance of the model can only be properly evaluated after the data for the forecast period has become available. A number of methods have been developed to help in assessing the accuracy of forecasts. There are also organizational issues in using and acting on the forecasts."
      ],
      "metadata": {
        "id": "pfu8305wyJfy"
      }
    },
    {
      "cell_type": "code",
      "execution_count": 44,
      "metadata": {
        "id": "Ucgi0TFh7n7g"
      },
      "outputs": [],
      "source": [
        "#Import libraries\n",
        "import numpy as np\n",
        "import pandas as pd\n",
        "import statsmodels.api as sm\n",
        "from statsmodels.tsa.stattools import adfuller, kpss, acf, grangercausalitytests\n",
        "from statsmodels.graphics.tsaplots import plot_acf, plot_pacf,month_plot,quarter_plot\n",
        "from scipy import signal\n",
        "import matplotlib.pyplot as plt\n",
        "import seaborn as sns"
      ]
    },
    {
      "cell_type": "code",
      "source": [
        "#Import Data\n",
        "df_train = pd.read_csv(\"/content/train_E1GspfA.csv\")\n",
        "df_test = pd.read_csv(\"/content/test_6QvDdzb.csv\")"
      ],
      "metadata": {
        "id": "N0yfYvlf71nD"
      },
      "execution_count": 45,
      "outputs": []
    },
    {
      "cell_type": "code",
      "source": [
        "# checking the first row \n",
        "df_train.head()"
      ],
      "metadata": {
        "colab": {
          "base_uri": "https://localhost:8080/",
          "height": 206
        },
        "id": "2DHl5fUY8ByG",
        "outputId": "d3e6a44e-8d7b-49ed-c915-6bee2a618cd0"
      },
      "execution_count": 46,
      "outputs": [
        {
          "output_type": "execute_result",
          "data": {
            "text/plain": [
              "         date  hour  demand\n",
              "0  2018-08-18     9      91\n",
              "1  2018-08-18    10      21\n",
              "2  2018-08-18    13      23\n",
              "3  2018-08-18    14     104\n",
              "4  2018-08-18    15      81"
            ],
            "text/html": [
              "\n",
              "  <div id=\"df-717c05fa-4f96-43d8-9241-bbd843a80541\">\n",
              "    <div class=\"colab-df-container\">\n",
              "      <div>\n",
              "<style scoped>\n",
              "    .dataframe tbody tr th:only-of-type {\n",
              "        vertical-align: middle;\n",
              "    }\n",
              "\n",
              "    .dataframe tbody tr th {\n",
              "        vertical-align: top;\n",
              "    }\n",
              "\n",
              "    .dataframe thead th {\n",
              "        text-align: right;\n",
              "    }\n",
              "</style>\n",
              "<table border=\"1\" class=\"dataframe\">\n",
              "  <thead>\n",
              "    <tr style=\"text-align: right;\">\n",
              "      <th></th>\n",
              "      <th>date</th>\n",
              "      <th>hour</th>\n",
              "      <th>demand</th>\n",
              "    </tr>\n",
              "  </thead>\n",
              "  <tbody>\n",
              "    <tr>\n",
              "      <th>0</th>\n",
              "      <td>2018-08-18</td>\n",
              "      <td>9</td>\n",
              "      <td>91</td>\n",
              "    </tr>\n",
              "    <tr>\n",
              "      <th>1</th>\n",
              "      <td>2018-08-18</td>\n",
              "      <td>10</td>\n",
              "      <td>21</td>\n",
              "    </tr>\n",
              "    <tr>\n",
              "      <th>2</th>\n",
              "      <td>2018-08-18</td>\n",
              "      <td>13</td>\n",
              "      <td>23</td>\n",
              "    </tr>\n",
              "    <tr>\n",
              "      <th>3</th>\n",
              "      <td>2018-08-18</td>\n",
              "      <td>14</td>\n",
              "      <td>104</td>\n",
              "    </tr>\n",
              "    <tr>\n",
              "      <th>4</th>\n",
              "      <td>2018-08-18</td>\n",
              "      <td>15</td>\n",
              "      <td>81</td>\n",
              "    </tr>\n",
              "  </tbody>\n",
              "</table>\n",
              "</div>\n",
              "      <button class=\"colab-df-convert\" onclick=\"convertToInteractive('df-717c05fa-4f96-43d8-9241-bbd843a80541')\"\n",
              "              title=\"Convert this dataframe to an interactive table.\"\n",
              "              style=\"display:none;\">\n",
              "        \n",
              "  <svg xmlns=\"http://www.w3.org/2000/svg\" height=\"24px\"viewBox=\"0 0 24 24\"\n",
              "       width=\"24px\">\n",
              "    <path d=\"M0 0h24v24H0V0z\" fill=\"none\"/>\n",
              "    <path d=\"M18.56 5.44l.94 2.06.94-2.06 2.06-.94-2.06-.94-.94-2.06-.94 2.06-2.06.94zm-11 1L8.5 8.5l.94-2.06 2.06-.94-2.06-.94L8.5 2.5l-.94 2.06-2.06.94zm10 10l.94 2.06.94-2.06 2.06-.94-2.06-.94-.94-2.06-.94 2.06-2.06.94z\"/><path d=\"M17.41 7.96l-1.37-1.37c-.4-.4-.92-.59-1.43-.59-.52 0-1.04.2-1.43.59L10.3 9.45l-7.72 7.72c-.78.78-.78 2.05 0 2.83L4 21.41c.39.39.9.59 1.41.59.51 0 1.02-.2 1.41-.59l7.78-7.78 2.81-2.81c.8-.78.8-2.07 0-2.86zM5.41 20L4 18.59l7.72-7.72 1.47 1.35L5.41 20z\"/>\n",
              "  </svg>\n",
              "      </button>\n",
              "      \n",
              "  <style>\n",
              "    .colab-df-container {\n",
              "      display:flex;\n",
              "      flex-wrap:wrap;\n",
              "      gap: 12px;\n",
              "    }\n",
              "\n",
              "    .colab-df-convert {\n",
              "      background-color: #E8F0FE;\n",
              "      border: none;\n",
              "      border-radius: 50%;\n",
              "      cursor: pointer;\n",
              "      display: none;\n",
              "      fill: #1967D2;\n",
              "      height: 32px;\n",
              "      padding: 0 0 0 0;\n",
              "      width: 32px;\n",
              "    }\n",
              "\n",
              "    .colab-df-convert:hover {\n",
              "      background-color: #E2EBFA;\n",
              "      box-shadow: 0px 1px 2px rgba(60, 64, 67, 0.3), 0px 1px 3px 1px rgba(60, 64, 67, 0.15);\n",
              "      fill: #174EA6;\n",
              "    }\n",
              "\n",
              "    [theme=dark] .colab-df-convert {\n",
              "      background-color: #3B4455;\n",
              "      fill: #D2E3FC;\n",
              "    }\n",
              "\n",
              "    [theme=dark] .colab-df-convert:hover {\n",
              "      background-color: #434B5C;\n",
              "      box-shadow: 0px 1px 3px 1px rgba(0, 0, 0, 0.15);\n",
              "      filter: drop-shadow(0px 1px 2px rgba(0, 0, 0, 0.3));\n",
              "      fill: #FFFFFF;\n",
              "    }\n",
              "  </style>\n",
              "\n",
              "      <script>\n",
              "        const buttonEl =\n",
              "          document.querySelector('#df-717c05fa-4f96-43d8-9241-bbd843a80541 button.colab-df-convert');\n",
              "        buttonEl.style.display =\n",
              "          google.colab.kernel.accessAllowed ? 'block' : 'none';\n",
              "\n",
              "        async function convertToInteractive(key) {\n",
              "          const element = document.querySelector('#df-717c05fa-4f96-43d8-9241-bbd843a80541');\n",
              "          const dataTable =\n",
              "            await google.colab.kernel.invokeFunction('convertToInteractive',\n",
              "                                                     [key], {});\n",
              "          if (!dataTable) return;\n",
              "\n",
              "          const docLinkHtml = 'Like what you see? Visit the ' +\n",
              "            '<a target=\"_blank\" href=https://colab.research.google.com/notebooks/data_table.ipynb>data table notebook</a>'\n",
              "            + ' to learn more about interactive tables.';\n",
              "          element.innerHTML = '';\n",
              "          dataTable['output_type'] = 'display_data';\n",
              "          await google.colab.output.renderOutput(dataTable, element);\n",
              "          const docLink = document.createElement('div');\n",
              "          docLink.innerHTML = docLinkHtml;\n",
              "          element.appendChild(docLink);\n",
              "        }\n",
              "      </script>\n",
              "    </div>\n",
              "  </div>\n",
              "  "
            ]
          },
          "metadata": {},
          "execution_count": 46
        }
      ]
    },
    {
      "cell_type": "code",
      "source": [
        "# checking the data shape of training data\n",
        "df_train.shape"
      ],
      "metadata": {
        "colab": {
          "base_uri": "https://localhost:8080/"
        },
        "id": "UkYeHV7fodS_",
        "outputId": "62ddf450-9083-4e0d-e82f-a26d851c8e8d"
      },
      "execution_count": 47,
      "outputs": [
        {
          "output_type": "execute_result",
          "data": {
            "text/plain": [
              "(18247, 3)"
            ]
          },
          "metadata": {},
          "execution_count": 47
        }
      ]
    },
    {
      "cell_type": "code",
      "source": [
        "#checking the rows and columns of the test data \n",
        "df_test.head()"
      ],
      "metadata": {
        "colab": {
          "base_uri": "https://localhost:8080/",
          "height": 206
        },
        "id": "IusVSYH6mIfg",
        "outputId": "679aa783-66a4-497a-be0c-62eba7b6dd5d"
      },
      "execution_count": 48,
      "outputs": [
        {
          "output_type": "execute_result",
          "data": {
            "text/plain": [
              "         date  hour\n",
              "0  2021-03-01     0\n",
              "1  2021-03-01     1\n",
              "2  2021-03-01     2\n",
              "3  2021-03-01     3\n",
              "4  2021-03-01     5"
            ],
            "text/html": [
              "\n",
              "  <div id=\"df-16dcece5-863b-496c-bb92-3f67d145c821\">\n",
              "    <div class=\"colab-df-container\">\n",
              "      <div>\n",
              "<style scoped>\n",
              "    .dataframe tbody tr th:only-of-type {\n",
              "        vertical-align: middle;\n",
              "    }\n",
              "\n",
              "    .dataframe tbody tr th {\n",
              "        vertical-align: top;\n",
              "    }\n",
              "\n",
              "    .dataframe thead th {\n",
              "        text-align: right;\n",
              "    }\n",
              "</style>\n",
              "<table border=\"1\" class=\"dataframe\">\n",
              "  <thead>\n",
              "    <tr style=\"text-align: right;\">\n",
              "      <th></th>\n",
              "      <th>date</th>\n",
              "      <th>hour</th>\n",
              "    </tr>\n",
              "  </thead>\n",
              "  <tbody>\n",
              "    <tr>\n",
              "      <th>0</th>\n",
              "      <td>2021-03-01</td>\n",
              "      <td>0</td>\n",
              "    </tr>\n",
              "    <tr>\n",
              "      <th>1</th>\n",
              "      <td>2021-03-01</td>\n",
              "      <td>1</td>\n",
              "    </tr>\n",
              "    <tr>\n",
              "      <th>2</th>\n",
              "      <td>2021-03-01</td>\n",
              "      <td>2</td>\n",
              "    </tr>\n",
              "    <tr>\n",
              "      <th>3</th>\n",
              "      <td>2021-03-01</td>\n",
              "      <td>3</td>\n",
              "    </tr>\n",
              "    <tr>\n",
              "      <th>4</th>\n",
              "      <td>2021-03-01</td>\n",
              "      <td>5</td>\n",
              "    </tr>\n",
              "  </tbody>\n",
              "</table>\n",
              "</div>\n",
              "      <button class=\"colab-df-convert\" onclick=\"convertToInteractive('df-16dcece5-863b-496c-bb92-3f67d145c821')\"\n",
              "              title=\"Convert this dataframe to an interactive table.\"\n",
              "              style=\"display:none;\">\n",
              "        \n",
              "  <svg xmlns=\"http://www.w3.org/2000/svg\" height=\"24px\"viewBox=\"0 0 24 24\"\n",
              "       width=\"24px\">\n",
              "    <path d=\"M0 0h24v24H0V0z\" fill=\"none\"/>\n",
              "    <path d=\"M18.56 5.44l.94 2.06.94-2.06 2.06-.94-2.06-.94-.94-2.06-.94 2.06-2.06.94zm-11 1L8.5 8.5l.94-2.06 2.06-.94-2.06-.94L8.5 2.5l-.94 2.06-2.06.94zm10 10l.94 2.06.94-2.06 2.06-.94-2.06-.94-.94-2.06-.94 2.06-2.06.94z\"/><path d=\"M17.41 7.96l-1.37-1.37c-.4-.4-.92-.59-1.43-.59-.52 0-1.04.2-1.43.59L10.3 9.45l-7.72 7.72c-.78.78-.78 2.05 0 2.83L4 21.41c.39.39.9.59 1.41.59.51 0 1.02-.2 1.41-.59l7.78-7.78 2.81-2.81c.8-.78.8-2.07 0-2.86zM5.41 20L4 18.59l7.72-7.72 1.47 1.35L5.41 20z\"/>\n",
              "  </svg>\n",
              "      </button>\n",
              "      \n",
              "  <style>\n",
              "    .colab-df-container {\n",
              "      display:flex;\n",
              "      flex-wrap:wrap;\n",
              "      gap: 12px;\n",
              "    }\n",
              "\n",
              "    .colab-df-convert {\n",
              "      background-color: #E8F0FE;\n",
              "      border: none;\n",
              "      border-radius: 50%;\n",
              "      cursor: pointer;\n",
              "      display: none;\n",
              "      fill: #1967D2;\n",
              "      height: 32px;\n",
              "      padding: 0 0 0 0;\n",
              "      width: 32px;\n",
              "    }\n",
              "\n",
              "    .colab-df-convert:hover {\n",
              "      background-color: #E2EBFA;\n",
              "      box-shadow: 0px 1px 2px rgba(60, 64, 67, 0.3), 0px 1px 3px 1px rgba(60, 64, 67, 0.15);\n",
              "      fill: #174EA6;\n",
              "    }\n",
              "\n",
              "    [theme=dark] .colab-df-convert {\n",
              "      background-color: #3B4455;\n",
              "      fill: #D2E3FC;\n",
              "    }\n",
              "\n",
              "    [theme=dark] .colab-df-convert:hover {\n",
              "      background-color: #434B5C;\n",
              "      box-shadow: 0px 1px 3px 1px rgba(0, 0, 0, 0.15);\n",
              "      filter: drop-shadow(0px 1px 2px rgba(0, 0, 0, 0.3));\n",
              "      fill: #FFFFFF;\n",
              "    }\n",
              "  </style>\n",
              "\n",
              "      <script>\n",
              "        const buttonEl =\n",
              "          document.querySelector('#df-16dcece5-863b-496c-bb92-3f67d145c821 button.colab-df-convert');\n",
              "        buttonEl.style.display =\n",
              "          google.colab.kernel.accessAllowed ? 'block' : 'none';\n",
              "\n",
              "        async function convertToInteractive(key) {\n",
              "          const element = document.querySelector('#df-16dcece5-863b-496c-bb92-3f67d145c821');\n",
              "          const dataTable =\n",
              "            await google.colab.kernel.invokeFunction('convertToInteractive',\n",
              "                                                     [key], {});\n",
              "          if (!dataTable) return;\n",
              "\n",
              "          const docLinkHtml = 'Like what you see? Visit the ' +\n",
              "            '<a target=\"_blank\" href=https://colab.research.google.com/notebooks/data_table.ipynb>data table notebook</a>'\n",
              "            + ' to learn more about interactive tables.';\n",
              "          element.innerHTML = '';\n",
              "          dataTable['output_type'] = 'display_data';\n",
              "          await google.colab.output.renderOutput(dataTable, element);\n",
              "          const docLink = document.createElement('div');\n",
              "          docLink.innerHTML = docLinkHtml;\n",
              "          element.appendChild(docLink);\n",
              "        }\n",
              "      </script>\n",
              "    </div>\n",
              "  </div>\n",
              "  "
            ]
          },
          "metadata": {},
          "execution_count": 48
        }
      ]
    },
    {
      "cell_type": "code",
      "source": [
        "#checking data shape \n",
        "df_test.shape"
      ],
      "metadata": {
        "colab": {
          "base_uri": "https://localhost:8080/"
        },
        "id": "nv8XWbNVokzO",
        "outputId": "ccbafbb3-7701-4b9f-ed08-4f739e04a465"
      },
      "execution_count": 49,
      "outputs": [
        {
          "output_type": "execute_result",
          "data": {
            "text/plain": [
              "(7650, 2)"
            ]
          },
          "metadata": {},
          "execution_count": 49
        }
      ]
    },
    {
      "cell_type": "code",
      "source": [
        "df_train.info()"
      ],
      "metadata": {
        "colab": {
          "base_uri": "https://localhost:8080/"
        },
        "id": "Zkr2ca4I8D08",
        "outputId": "50de35d0-934c-48f1-9b80-5b256e4b9678"
      },
      "execution_count": 50,
      "outputs": [
        {
          "output_type": "stream",
          "name": "stdout",
          "text": [
            "<class 'pandas.core.frame.DataFrame'>\n",
            "RangeIndex: 18247 entries, 0 to 18246\n",
            "Data columns (total 3 columns):\n",
            " #   Column  Non-Null Count  Dtype \n",
            "---  ------  --------------  ----- \n",
            " 0   date    18247 non-null  object\n",
            " 1   hour    18247 non-null  int64 \n",
            " 2   demand  18247 non-null  int64 \n",
            "dtypes: int64(2), object(1)\n",
            "memory usage: 427.8+ KB\n"
          ]
        }
      ]
    },
    {
      "cell_type": "code",
      "source": [
        "df_test.info()"
      ],
      "metadata": {
        "colab": {
          "base_uri": "https://localhost:8080/"
        },
        "id": "VVRyN3ITmQpi",
        "outputId": "b559bd0d-e627-43ca-b84c-c345412248c8"
      },
      "execution_count": 51,
      "outputs": [
        {
          "output_type": "stream",
          "name": "stdout",
          "text": [
            "<class 'pandas.core.frame.DataFrame'>\n",
            "RangeIndex: 7650 entries, 0 to 7649\n",
            "Data columns (total 2 columns):\n",
            " #   Column  Non-Null Count  Dtype \n",
            "---  ------  --------------  ----- \n",
            " 0   date    7650 non-null   object\n",
            " 1   hour    7650 non-null   int64 \n",
            "dtypes: int64(1), object(1)\n",
            "memory usage: 119.7+ KB\n"
          ]
        }
      ]
    },
    {
      "cell_type": "code",
      "source": [
        "df_train.describe()"
      ],
      "metadata": {
        "colab": {
          "base_uri": "https://localhost:8080/",
          "height": 300
        },
        "id": "1AsgaUFB8S56",
        "outputId": "61fcafef-fbb2-461d-8042-ff313f2fc162"
      },
      "execution_count": 52,
      "outputs": [
        {
          "output_type": "execute_result",
          "data": {
            "text/plain": [
              "               hour        demand\n",
              "count  18247.000000  18247.000000\n",
              "mean      12.614731     73.991451\n",
              "std        6.544963     41.678988\n",
              "min        0.000000      1.000000\n",
              "25%        8.000000     43.000000\n",
              "50%       13.000000     71.000000\n",
              "75%       18.000000     98.000000\n",
              "max       23.000000    379.000000"
            ],
            "text/html": [
              "\n",
              "  <div id=\"df-2c5afba9-65d9-408e-871e-33207fa23679\">\n",
              "    <div class=\"colab-df-container\">\n",
              "      <div>\n",
              "<style scoped>\n",
              "    .dataframe tbody tr th:only-of-type {\n",
              "        vertical-align: middle;\n",
              "    }\n",
              "\n",
              "    .dataframe tbody tr th {\n",
              "        vertical-align: top;\n",
              "    }\n",
              "\n",
              "    .dataframe thead th {\n",
              "        text-align: right;\n",
              "    }\n",
              "</style>\n",
              "<table border=\"1\" class=\"dataframe\">\n",
              "  <thead>\n",
              "    <tr style=\"text-align: right;\">\n",
              "      <th></th>\n",
              "      <th>hour</th>\n",
              "      <th>demand</th>\n",
              "    </tr>\n",
              "  </thead>\n",
              "  <tbody>\n",
              "    <tr>\n",
              "      <th>count</th>\n",
              "      <td>18247.000000</td>\n",
              "      <td>18247.000000</td>\n",
              "    </tr>\n",
              "    <tr>\n",
              "      <th>mean</th>\n",
              "      <td>12.614731</td>\n",
              "      <td>73.991451</td>\n",
              "    </tr>\n",
              "    <tr>\n",
              "      <th>std</th>\n",
              "      <td>6.544963</td>\n",
              "      <td>41.678988</td>\n",
              "    </tr>\n",
              "    <tr>\n",
              "      <th>min</th>\n",
              "      <td>0.000000</td>\n",
              "      <td>1.000000</td>\n",
              "    </tr>\n",
              "    <tr>\n",
              "      <th>25%</th>\n",
              "      <td>8.000000</td>\n",
              "      <td>43.000000</td>\n",
              "    </tr>\n",
              "    <tr>\n",
              "      <th>50%</th>\n",
              "      <td>13.000000</td>\n",
              "      <td>71.000000</td>\n",
              "    </tr>\n",
              "    <tr>\n",
              "      <th>75%</th>\n",
              "      <td>18.000000</td>\n",
              "      <td>98.000000</td>\n",
              "    </tr>\n",
              "    <tr>\n",
              "      <th>max</th>\n",
              "      <td>23.000000</td>\n",
              "      <td>379.000000</td>\n",
              "    </tr>\n",
              "  </tbody>\n",
              "</table>\n",
              "</div>\n",
              "      <button class=\"colab-df-convert\" onclick=\"convertToInteractive('df-2c5afba9-65d9-408e-871e-33207fa23679')\"\n",
              "              title=\"Convert this dataframe to an interactive table.\"\n",
              "              style=\"display:none;\">\n",
              "        \n",
              "  <svg xmlns=\"http://www.w3.org/2000/svg\" height=\"24px\"viewBox=\"0 0 24 24\"\n",
              "       width=\"24px\">\n",
              "    <path d=\"M0 0h24v24H0V0z\" fill=\"none\"/>\n",
              "    <path d=\"M18.56 5.44l.94 2.06.94-2.06 2.06-.94-2.06-.94-.94-2.06-.94 2.06-2.06.94zm-11 1L8.5 8.5l.94-2.06 2.06-.94-2.06-.94L8.5 2.5l-.94 2.06-2.06.94zm10 10l.94 2.06.94-2.06 2.06-.94-2.06-.94-.94-2.06-.94 2.06-2.06.94z\"/><path d=\"M17.41 7.96l-1.37-1.37c-.4-.4-.92-.59-1.43-.59-.52 0-1.04.2-1.43.59L10.3 9.45l-7.72 7.72c-.78.78-.78 2.05 0 2.83L4 21.41c.39.39.9.59 1.41.59.51 0 1.02-.2 1.41-.59l7.78-7.78 2.81-2.81c.8-.78.8-2.07 0-2.86zM5.41 20L4 18.59l7.72-7.72 1.47 1.35L5.41 20z\"/>\n",
              "  </svg>\n",
              "      </button>\n",
              "      \n",
              "  <style>\n",
              "    .colab-df-container {\n",
              "      display:flex;\n",
              "      flex-wrap:wrap;\n",
              "      gap: 12px;\n",
              "    }\n",
              "\n",
              "    .colab-df-convert {\n",
              "      background-color: #E8F0FE;\n",
              "      border: none;\n",
              "      border-radius: 50%;\n",
              "      cursor: pointer;\n",
              "      display: none;\n",
              "      fill: #1967D2;\n",
              "      height: 32px;\n",
              "      padding: 0 0 0 0;\n",
              "      width: 32px;\n",
              "    }\n",
              "\n",
              "    .colab-df-convert:hover {\n",
              "      background-color: #E2EBFA;\n",
              "      box-shadow: 0px 1px 2px rgba(60, 64, 67, 0.3), 0px 1px 3px 1px rgba(60, 64, 67, 0.15);\n",
              "      fill: #174EA6;\n",
              "    }\n",
              "\n",
              "    [theme=dark] .colab-df-convert {\n",
              "      background-color: #3B4455;\n",
              "      fill: #D2E3FC;\n",
              "    }\n",
              "\n",
              "    [theme=dark] .colab-df-convert:hover {\n",
              "      background-color: #434B5C;\n",
              "      box-shadow: 0px 1px 3px 1px rgba(0, 0, 0, 0.15);\n",
              "      filter: drop-shadow(0px 1px 2px rgba(0, 0, 0, 0.3));\n",
              "      fill: #FFFFFF;\n",
              "    }\n",
              "  </style>\n",
              "\n",
              "      <script>\n",
              "        const buttonEl =\n",
              "          document.querySelector('#df-2c5afba9-65d9-408e-871e-33207fa23679 button.colab-df-convert');\n",
              "        buttonEl.style.display =\n",
              "          google.colab.kernel.accessAllowed ? 'block' : 'none';\n",
              "\n",
              "        async function convertToInteractive(key) {\n",
              "          const element = document.querySelector('#df-2c5afba9-65d9-408e-871e-33207fa23679');\n",
              "          const dataTable =\n",
              "            await google.colab.kernel.invokeFunction('convertToInteractive',\n",
              "                                                     [key], {});\n",
              "          if (!dataTable) return;\n",
              "\n",
              "          const docLinkHtml = 'Like what you see? Visit the ' +\n",
              "            '<a target=\"_blank\" href=https://colab.research.google.com/notebooks/data_table.ipynb>data table notebook</a>'\n",
              "            + ' to learn more about interactive tables.';\n",
              "          element.innerHTML = '';\n",
              "          dataTable['output_type'] = 'display_data';\n",
              "          await google.colab.output.renderOutput(dataTable, element);\n",
              "          const docLink = document.createElement('div');\n",
              "          docLink.innerHTML = docLinkHtml;\n",
              "          element.appendChild(docLink);\n",
              "        }\n",
              "      </script>\n",
              "    </div>\n",
              "  </div>\n",
              "  "
            ]
          },
          "metadata": {},
          "execution_count": 52
        }
      ]
    },
    {
      "cell_type": "code",
      "source": [
        "df_test.describe()"
      ],
      "metadata": {
        "id": "HTMn_a-28bRK",
        "colab": {
          "base_uri": "https://localhost:8080/",
          "height": 300
        },
        "outputId": "4bef8fd9-29f6-4e18-eed9-2bf46bf97702"
      },
      "execution_count": 53,
      "outputs": [
        {
          "output_type": "execute_result",
          "data": {
            "text/plain": [
              "              hour\n",
              "count  7650.000000\n",
              "mean     12.539085\n",
              "std       6.620355\n",
              "min       0.000000\n",
              "25%       8.000000\n",
              "50%      13.000000\n",
              "75%      18.000000\n",
              "max      23.000000"
            ],
            "text/html": [
              "\n",
              "  <div id=\"df-ad7c5c08-2b18-4c04-a452-324e3423a208\">\n",
              "    <div class=\"colab-df-container\">\n",
              "      <div>\n",
              "<style scoped>\n",
              "    .dataframe tbody tr th:only-of-type {\n",
              "        vertical-align: middle;\n",
              "    }\n",
              "\n",
              "    .dataframe tbody tr th {\n",
              "        vertical-align: top;\n",
              "    }\n",
              "\n",
              "    .dataframe thead th {\n",
              "        text-align: right;\n",
              "    }\n",
              "</style>\n",
              "<table border=\"1\" class=\"dataframe\">\n",
              "  <thead>\n",
              "    <tr style=\"text-align: right;\">\n",
              "      <th></th>\n",
              "      <th>hour</th>\n",
              "    </tr>\n",
              "  </thead>\n",
              "  <tbody>\n",
              "    <tr>\n",
              "      <th>count</th>\n",
              "      <td>7650.000000</td>\n",
              "    </tr>\n",
              "    <tr>\n",
              "      <th>mean</th>\n",
              "      <td>12.539085</td>\n",
              "    </tr>\n",
              "    <tr>\n",
              "      <th>std</th>\n",
              "      <td>6.620355</td>\n",
              "    </tr>\n",
              "    <tr>\n",
              "      <th>min</th>\n",
              "      <td>0.000000</td>\n",
              "    </tr>\n",
              "    <tr>\n",
              "      <th>25%</th>\n",
              "      <td>8.000000</td>\n",
              "    </tr>\n",
              "    <tr>\n",
              "      <th>50%</th>\n",
              "      <td>13.000000</td>\n",
              "    </tr>\n",
              "    <tr>\n",
              "      <th>75%</th>\n",
              "      <td>18.000000</td>\n",
              "    </tr>\n",
              "    <tr>\n",
              "      <th>max</th>\n",
              "      <td>23.000000</td>\n",
              "    </tr>\n",
              "  </tbody>\n",
              "</table>\n",
              "</div>\n",
              "      <button class=\"colab-df-convert\" onclick=\"convertToInteractive('df-ad7c5c08-2b18-4c04-a452-324e3423a208')\"\n",
              "              title=\"Convert this dataframe to an interactive table.\"\n",
              "              style=\"display:none;\">\n",
              "        \n",
              "  <svg xmlns=\"http://www.w3.org/2000/svg\" height=\"24px\"viewBox=\"0 0 24 24\"\n",
              "       width=\"24px\">\n",
              "    <path d=\"M0 0h24v24H0V0z\" fill=\"none\"/>\n",
              "    <path d=\"M18.56 5.44l.94 2.06.94-2.06 2.06-.94-2.06-.94-.94-2.06-.94 2.06-2.06.94zm-11 1L8.5 8.5l.94-2.06 2.06-.94-2.06-.94L8.5 2.5l-.94 2.06-2.06.94zm10 10l.94 2.06.94-2.06 2.06-.94-2.06-.94-.94-2.06-.94 2.06-2.06.94z\"/><path d=\"M17.41 7.96l-1.37-1.37c-.4-.4-.92-.59-1.43-.59-.52 0-1.04.2-1.43.59L10.3 9.45l-7.72 7.72c-.78.78-.78 2.05 0 2.83L4 21.41c.39.39.9.59 1.41.59.51 0 1.02-.2 1.41-.59l7.78-7.78 2.81-2.81c.8-.78.8-2.07 0-2.86zM5.41 20L4 18.59l7.72-7.72 1.47 1.35L5.41 20z\"/>\n",
              "  </svg>\n",
              "      </button>\n",
              "      \n",
              "  <style>\n",
              "    .colab-df-container {\n",
              "      display:flex;\n",
              "      flex-wrap:wrap;\n",
              "      gap: 12px;\n",
              "    }\n",
              "\n",
              "    .colab-df-convert {\n",
              "      background-color: #E8F0FE;\n",
              "      border: none;\n",
              "      border-radius: 50%;\n",
              "      cursor: pointer;\n",
              "      display: none;\n",
              "      fill: #1967D2;\n",
              "      height: 32px;\n",
              "      padding: 0 0 0 0;\n",
              "      width: 32px;\n",
              "    }\n",
              "\n",
              "    .colab-df-convert:hover {\n",
              "      background-color: #E2EBFA;\n",
              "      box-shadow: 0px 1px 2px rgba(60, 64, 67, 0.3), 0px 1px 3px 1px rgba(60, 64, 67, 0.15);\n",
              "      fill: #174EA6;\n",
              "    }\n",
              "\n",
              "    [theme=dark] .colab-df-convert {\n",
              "      background-color: #3B4455;\n",
              "      fill: #D2E3FC;\n",
              "    }\n",
              "\n",
              "    [theme=dark] .colab-df-convert:hover {\n",
              "      background-color: #434B5C;\n",
              "      box-shadow: 0px 1px 3px 1px rgba(0, 0, 0, 0.15);\n",
              "      filter: drop-shadow(0px 1px 2px rgba(0, 0, 0, 0.3));\n",
              "      fill: #FFFFFF;\n",
              "    }\n",
              "  </style>\n",
              "\n",
              "      <script>\n",
              "        const buttonEl =\n",
              "          document.querySelector('#df-ad7c5c08-2b18-4c04-a452-324e3423a208 button.colab-df-convert');\n",
              "        buttonEl.style.display =\n",
              "          google.colab.kernel.accessAllowed ? 'block' : 'none';\n",
              "\n",
              "        async function convertToInteractive(key) {\n",
              "          const element = document.querySelector('#df-ad7c5c08-2b18-4c04-a452-324e3423a208');\n",
              "          const dataTable =\n",
              "            await google.colab.kernel.invokeFunction('convertToInteractive',\n",
              "                                                     [key], {});\n",
              "          if (!dataTable) return;\n",
              "\n",
              "          const docLinkHtml = 'Like what you see? Visit the ' +\n",
              "            '<a target=\"_blank\" href=https://colab.research.google.com/notebooks/data_table.ipynb>data table notebook</a>'\n",
              "            + ' to learn more about interactive tables.';\n",
              "          element.innerHTML = '';\n",
              "          dataTable['output_type'] = 'display_data';\n",
              "          await google.colab.output.renderOutput(dataTable, element);\n",
              "          const docLink = document.createElement('div');\n",
              "          docLink.innerHTML = docLinkHtml;\n",
              "          element.appendChild(docLink);\n",
              "        }\n",
              "      </script>\n",
              "    </div>\n",
              "  </div>\n",
              "  "
            ]
          },
          "metadata": {},
          "execution_count": 53
        }
      ]
    },
    {
      "cell_type": "code",
      "source": [
        "df_train['date'] = pd.to_datetime(df_train['date'])"
      ],
      "metadata": {
        "id": "TatzJtAvmd5u"
      },
      "execution_count": 54,
      "outputs": []
    },
    {
      "cell_type": "code",
      "source": [
        "print(f\"starting date : {str(df_train['date'].dt.date.min())}\")\n",
        "print(f\"end date : {str(df_train['date'].dt.date.max())}\")"
      ],
      "metadata": {
        "colab": {
          "base_uri": "https://localhost:8080/"
        },
        "id": "nKuUq_fopIa5",
        "outputId": "6f80648e-2363-48f6-87be-c67b73b14005"
      },
      "execution_count": 55,
      "outputs": [
        {
          "output_type": "stream",
          "name": "stdout",
          "text": [
            "starting date : 2018-08-18\n",
            "end date : 2021-02-28\n"
          ]
        }
      ]
    },
    {
      "cell_type": "code",
      "source": [
        "def dataPreprocessing(dataFrame):\n",
        "    dataFrame['date'] = pd.to_datetime(dataFrame['date']) + dataFrame['hour'].astype('timedelta64[h]')\n",
        "    dataFrame.drop(columns=['hour'], axis=1, inplace=True)\n",
        "    return dataFrame"
      ],
      "metadata": {
        "id": "9XkOqCJbpavB"
      },
      "execution_count": 56,
      "outputs": []
    },
    {
      "cell_type": "code",
      "source": [
        "df_train = dataPreprocessing(df_train)\n",
        "df_train.head()"
      ],
      "metadata": {
        "colab": {
          "base_uri": "https://localhost:8080/",
          "height": 206
        },
        "id": "rHFYzo6tpmnl",
        "outputId": "02d269fb-c80c-43d1-c3bf-b3d92d341633"
      },
      "execution_count": 57,
      "outputs": [
        {
          "output_type": "execute_result",
          "data": {
            "text/plain": [
              "                 date  demand\n",
              "0 2018-08-18 09:00:00      91\n",
              "1 2018-08-18 10:00:00      21\n",
              "2 2018-08-18 13:00:00      23\n",
              "3 2018-08-18 14:00:00     104\n",
              "4 2018-08-18 15:00:00      81"
            ],
            "text/html": [
              "\n",
              "  <div id=\"df-015689b7-39c3-4421-878a-b9303f657a63\">\n",
              "    <div class=\"colab-df-container\">\n",
              "      <div>\n",
              "<style scoped>\n",
              "    .dataframe tbody tr th:only-of-type {\n",
              "        vertical-align: middle;\n",
              "    }\n",
              "\n",
              "    .dataframe tbody tr th {\n",
              "        vertical-align: top;\n",
              "    }\n",
              "\n",
              "    .dataframe thead th {\n",
              "        text-align: right;\n",
              "    }\n",
              "</style>\n",
              "<table border=\"1\" class=\"dataframe\">\n",
              "  <thead>\n",
              "    <tr style=\"text-align: right;\">\n",
              "      <th></th>\n",
              "      <th>date</th>\n",
              "      <th>demand</th>\n",
              "    </tr>\n",
              "  </thead>\n",
              "  <tbody>\n",
              "    <tr>\n",
              "      <th>0</th>\n",
              "      <td>2018-08-18 09:00:00</td>\n",
              "      <td>91</td>\n",
              "    </tr>\n",
              "    <tr>\n",
              "      <th>1</th>\n",
              "      <td>2018-08-18 10:00:00</td>\n",
              "      <td>21</td>\n",
              "    </tr>\n",
              "    <tr>\n",
              "      <th>2</th>\n",
              "      <td>2018-08-18 13:00:00</td>\n",
              "      <td>23</td>\n",
              "    </tr>\n",
              "    <tr>\n",
              "      <th>3</th>\n",
              "      <td>2018-08-18 14:00:00</td>\n",
              "      <td>104</td>\n",
              "    </tr>\n",
              "    <tr>\n",
              "      <th>4</th>\n",
              "      <td>2018-08-18 15:00:00</td>\n",
              "      <td>81</td>\n",
              "    </tr>\n",
              "  </tbody>\n",
              "</table>\n",
              "</div>\n",
              "      <button class=\"colab-df-convert\" onclick=\"convertToInteractive('df-015689b7-39c3-4421-878a-b9303f657a63')\"\n",
              "              title=\"Convert this dataframe to an interactive table.\"\n",
              "              style=\"display:none;\">\n",
              "        \n",
              "  <svg xmlns=\"http://www.w3.org/2000/svg\" height=\"24px\"viewBox=\"0 0 24 24\"\n",
              "       width=\"24px\">\n",
              "    <path d=\"M0 0h24v24H0V0z\" fill=\"none\"/>\n",
              "    <path d=\"M18.56 5.44l.94 2.06.94-2.06 2.06-.94-2.06-.94-.94-2.06-.94 2.06-2.06.94zm-11 1L8.5 8.5l.94-2.06 2.06-.94-2.06-.94L8.5 2.5l-.94 2.06-2.06.94zm10 10l.94 2.06.94-2.06 2.06-.94-2.06-.94-.94-2.06-.94 2.06-2.06.94z\"/><path d=\"M17.41 7.96l-1.37-1.37c-.4-.4-.92-.59-1.43-.59-.52 0-1.04.2-1.43.59L10.3 9.45l-7.72 7.72c-.78.78-.78 2.05 0 2.83L4 21.41c.39.39.9.59 1.41.59.51 0 1.02-.2 1.41-.59l7.78-7.78 2.81-2.81c.8-.78.8-2.07 0-2.86zM5.41 20L4 18.59l7.72-7.72 1.47 1.35L5.41 20z\"/>\n",
              "  </svg>\n",
              "      </button>\n",
              "      \n",
              "  <style>\n",
              "    .colab-df-container {\n",
              "      display:flex;\n",
              "      flex-wrap:wrap;\n",
              "      gap: 12px;\n",
              "    }\n",
              "\n",
              "    .colab-df-convert {\n",
              "      background-color: #E8F0FE;\n",
              "      border: none;\n",
              "      border-radius: 50%;\n",
              "      cursor: pointer;\n",
              "      display: none;\n",
              "      fill: #1967D2;\n",
              "      height: 32px;\n",
              "      padding: 0 0 0 0;\n",
              "      width: 32px;\n",
              "    }\n",
              "\n",
              "    .colab-df-convert:hover {\n",
              "      background-color: #E2EBFA;\n",
              "      box-shadow: 0px 1px 2px rgba(60, 64, 67, 0.3), 0px 1px 3px 1px rgba(60, 64, 67, 0.15);\n",
              "      fill: #174EA6;\n",
              "    }\n",
              "\n",
              "    [theme=dark] .colab-df-convert {\n",
              "      background-color: #3B4455;\n",
              "      fill: #D2E3FC;\n",
              "    }\n",
              "\n",
              "    [theme=dark] .colab-df-convert:hover {\n",
              "      background-color: #434B5C;\n",
              "      box-shadow: 0px 1px 3px 1px rgba(0, 0, 0, 0.15);\n",
              "      filter: drop-shadow(0px 1px 2px rgba(0, 0, 0, 0.3));\n",
              "      fill: #FFFFFF;\n",
              "    }\n",
              "  </style>\n",
              "\n",
              "      <script>\n",
              "        const buttonEl =\n",
              "          document.querySelector('#df-015689b7-39c3-4421-878a-b9303f657a63 button.colab-df-convert');\n",
              "        buttonEl.style.display =\n",
              "          google.colab.kernel.accessAllowed ? 'block' : 'none';\n",
              "\n",
              "        async function convertToInteractive(key) {\n",
              "          const element = document.querySelector('#df-015689b7-39c3-4421-878a-b9303f657a63');\n",
              "          const dataTable =\n",
              "            await google.colab.kernel.invokeFunction('convertToInteractive',\n",
              "                                                     [key], {});\n",
              "          if (!dataTable) return;\n",
              "\n",
              "          const docLinkHtml = 'Like what you see? Visit the ' +\n",
              "            '<a target=\"_blank\" href=https://colab.research.google.com/notebooks/data_table.ipynb>data table notebook</a>'\n",
              "            + ' to learn more about interactive tables.';\n",
              "          element.innerHTML = '';\n",
              "          dataTable['output_type'] = 'display_data';\n",
              "          await google.colab.output.renderOutput(dataTable, element);\n",
              "          const docLink = document.createElement('div');\n",
              "          docLink.innerHTML = docLinkHtml;\n",
              "          element.appendChild(docLink);\n",
              "        }\n",
              "      </script>\n",
              "    </div>\n",
              "  </div>\n",
              "  "
            ]
          },
          "metadata": {},
          "execution_count": 57
        }
      ]
    },
    {
      "cell_type": "markdown",
      "source": [
        "** Time Plot**\n",
        "\n",
        "For time-series data, the obvious graph to start with is a time plot. That is, the observations are plotted against the time of observation, with consecutive observations joined by straight lines\n",
        "\n"
      ],
      "metadata": {
        "id": "9cFyAyRQswe9"
      }
    },
    {
      "cell_type": "code",
      "source": [
        "ig, ax = plt.subplots(figsize=(15, 6))\n",
        "d = df_train\n",
        "sns.lineplot(d['date'], d['demand'] )\n",
        "\n",
        "ax.set_title('demand over time', fontsize = 20, loc='center', fontdict=dict(weight='bold'))\n",
        "ax.set_xlabel('Year', fontsize = 16, fontdict=dict(weight='bold'))\n",
        "ax.set_ylabel('demand', fontsize = 16, fontdict=dict(weight='bold'))\n",
        "plt.tick_params(axis='y', which='major', labelsize=16)\n",
        "plt.tick_params(axis='x', which='major', labelsize=16)"
      ],
      "metadata": {
        "colab": {
          "base_uri": "https://localhost:8080/",
          "height": 513
        },
        "id": "DBejwdH_p7Xu",
        "outputId": "be4e7c66-1b95-4236-83f7-613f485e334b"
      },
      "execution_count": 58,
      "outputs": [
        {
          "output_type": "stream",
          "name": "stderr",
          "text": [
            "/usr/local/lib/python3.7/dist-packages/seaborn/_decorators.py:43: FutureWarning:\n",
            "\n",
            "Pass the following variables as keyword args: x, y. From version 0.12, the only valid positional argument will be `data`, and passing other arguments without an explicit keyword will result in an error or misinterpretation.\n",
            "\n"
          ]
        },
        {
          "output_type": "display_data",
          "data": {
            "text/plain": [
              "<Figure size 1080x432 with 1 Axes>"
            ],
            "image/png": "[encoded data removed]"
          },
          "metadata": {
            "needs_background": "light"
          }
        }
      ]
    },
    {
      "cell_type": "markdown",
      "source": [
        "The monthly data show some seasonality within each year. There is no cyclic behavior and no trend."
      ],
      "metadata": {
        "id": "U_usEUDF3RqF"
      }
    },
    {
      "cell_type": "markdown",
      "source": [
        "**Seasonal Plots**\n",
        "\n",
        "A seasonal plot is similar to a time plot except that the data are plotted against the individual “seasons” in which the data were observed. The data for each season are overlapped."
      ],
      "metadata": {
        "id": "xS5LfVLFtBq_"
      }
    },
    {
      "cell_type": "markdown",
      "source": [
        "Split arrays or matrices into random train and test subsets\n",
        "\n",
        "Quick utility that wraps input validation and next(ShuffleSplit().split(X, y)) and application to input data into a single call for splitting (and optionally subsampling) data in a oneliner."
      ],
      "metadata": {
        "id": "nmxhQSdQ4qdY"
      }
    },
    {
      "cell_type": "code",
      "source": [
        "from sklearn.model_selection import train_test_split\n",
        "import matplotlib.pyplot as plt"
      ],
      "metadata": {
        "id": "mPlaU1fI3lxV"
      },
      "execution_count": 59,
      "outputs": []
    },
    {
      "cell_type": "code",
      "source": [
        "df_train.rename(columns={'date': 'ds', 'demand': 'y'}, inplace=True)\n",
        "train_data = df_train.sample(frac=0.8, random_state=10)\n",
        "\n",
        "validation_data = df_train.drop(train_data.index)\n",
        "\n",
        "print(f'training data size : {train_data.shape}')\n",
        "print(f'validation data size : {validation_data.shape}')\n",
        "\n",
        "train_data = train_data.reset_index()\n",
        "validation_data = validation_data.reset_index()"
      ],
      "metadata": {
        "colab": {
          "base_uri": "https://localhost:8080/"
        },
        "id": "XHJ9D_Il3sHE",
        "outputId": "3772e92a-8aa9-4594-96aa-7bf3bd012070"
      },
      "execution_count": 60,
      "outputs": [
        {
          "output_type": "stream",
          "name": "stdout",
          "text": [
            "training data size : (14598, 2)\n",
            "validation data size : (3649, 2)\n"
          ]
        }
      ]
    },
    {
      "cell_type": "markdown",
      "source": [
        "**Forecasting by FB Prophet**\n",
        "\n",
        "There are many forecasting tools available in the market, even Excel worksheet also provides a simple forecasting function, which I have shown how to use it (Yiu, 2019). Other more sophisticated software can provide ARIMA and HP Filter methods for forecasting, but they can be costly.\n",
        "\n",
        "I learned that FB Prophet provides an open source code and free forecasting tool in R or Python. It allows more detailed parameter settings for making forecasts including three additive components: trend, seasonality and holidays. For more details, one may refer Lyla (2019)."
      ],
      "metadata": {
        "id": "l0CgZnHd8OkU"
      }
    },
    {
      "cell_type": "code",
      "source": [
        "#install FB Prophet and yfinance\n",
        "!pip install fbprophet\n",
        "!pip install yfinance\n",
        "from fbprophet import Prophet"
      ],
      "metadata": {
        "id": "B13L0bdm8GKs",
        "colab": {
          "base_uri": "https://localhost:8080/"
        },
        "outputId": "c7fa25a7-7686-4722-e718-102898fad247"
      },
      "execution_count": 61,
      "outputs": [
        {
          "output_type": "stream",
          "name": "stdout",
          "text": [
            "Requirement already satisfied: fbprophet in /usr/local/lib/python3.7/dist-packages (0.7.1)\n",
            "Requirement already satisfied: Cython>=0.22 in /usr/local/lib/python3.7/dist-packages (from fbprophet) (0.29.28)\n",
            "Requirement already satisfied: cmdstanpy==0.9.5 in /usr/local/lib/python3.7/dist-packages (from fbprophet) (0.9.5)\n",
            "Requirement already satisfied: pystan>=2.14 in /usr/local/lib/python3.7/dist-packages (from fbprophet) (2.19.1.1)\n",
            "Requirement already satisfied: numpy>=1.15.4 in /usr/local/lib/python3.7/dist-packages (from fbprophet) (1.21.6)\n",
            "Requirement already satisfied: pandas>=1.0.4 in /usr/local/lib/python3.7/dist-packages (from fbprophet) (1.3.5)\n",
            "Requirement already satisfied: matplotlib>=2.0.0 in /usr/local/lib/python3.7/dist-packages (from fbprophet) (3.2.2)\n",
            "Requirement already satisfied: LunarCalendar>=0.0.9 in /usr/local/lib/python3.7/dist-packages (from fbprophet) (0.0.9)\n",
            "Requirement already satisfied: convertdate>=2.1.2 in /usr/local/lib/python3.7/dist-packages (from fbprophet) (2.4.0)\n",
            "Requirement already satisfied: holidays>=0.10.2 in /usr/local/lib/python3.7/dist-packages (from fbprophet) (0.10.5.2)\n",
            "Requirement already satisfied: setuptools-git>=1.2 in /usr/local/lib/python3.7/dist-packages (from fbprophet) (1.2)\n",
            "Requirement already satisfied: python-dateutil>=2.8.0 in /usr/local/lib/python3.7/dist-packages (from fbprophet) (2.8.2)\n",
            "Requirement already satisfied: tqdm>=4.36.1 in /usr/local/lib/python3.7/dist-packages (from fbprophet) (4.64.0)\n",
            "Requirement already satisfied: pymeeus<=1,>=0.3.13 in /usr/local/lib/python3.7/dist-packages (from convertdate>=2.1.2->fbprophet) (0.5.11)\n",
            "Requirement already satisfied: korean-lunar-calendar in /usr/local/lib/python3.7/dist-packages (from holidays>=0.10.2->fbprophet) (0.2.1)\n",
            "Requirement already satisfied: six in /usr/local/lib/python3.7/dist-packages (from holidays>=0.10.2->fbprophet) (1.15.0)\n",
            "Requirement already satisfied: hijri-converter in /usr/local/lib/python3.7/dist-packages (from holidays>=0.10.2->fbprophet) (2.2.3)\n",
            "Requirement already satisfied: ephem>=3.7.5.3 in /usr/local/lib/python3.7/dist-packages (from LunarCalendar>=0.0.9->fbprophet) (4.1.3)\n",
            "Requirement already satisfied: pytz in /usr/local/lib/python3.7/dist-packages (from LunarCalendar>=0.0.9->fbprophet) (2022.1)\n",
            "Requirement already satisfied: cycler>=0.10 in /usr/local/lib/python3.7/dist-packages (from matplotlib>=2.0.0->fbprophet) (0.11.0)\n",
            "Requirement already satisfied: pyparsing!=2.0.4,!=2.1.2,!=2.1.6,>=2.0.1 in /usr/local/lib/python3.7/dist-packages (from matplotlib>=2.0.0->fbprophet) (3.0.8)\n",
            "Requirement already satisfied: kiwisolver>=1.0.1 in /usr/local/lib/python3.7/dist-packages (from matplotlib>=2.0.0->fbprophet) (1.4.2)\n",
            "Requirement already satisfied: typing-extensions in /usr/local/lib/python3.7/dist-packages (from kiwisolver>=1.0.1->matplotlib>=2.0.0->fbprophet) (4.1.1)\n",
            "Requirement already satisfied: yfinance in /usr/local/lib/python3.7/dist-packages (0.1.70)\n",
            "Requirement already satisfied: numpy>=1.15 in /usr/local/lib/python3.7/dist-packages (from yfinance) (1.21.6)\n",
            "Requirement already satisfied: pandas>=0.24.0 in /usr/local/lib/python3.7/dist-packages (from yfinance) (1.3.5)\n",
            "Requirement already satisfied: requests>=2.26 in /usr/local/lib/python3.7/dist-packages (from yfinance) (2.27.1)\n",
            "Requirement already satisfied: lxml>=4.5.1 in /usr/local/lib/python3.7/dist-packages (from yfinance) (4.8.0)\n",
            "Requirement already satisfied: multitasking>=0.0.7 in /usr/local/lib/python3.7/dist-packages (from yfinance) (0.0.10)\n",
            "Requirement already satisfied: pytz>=2017.3 in /usr/local/lib/python3.7/dist-packages (from pandas>=0.24.0->yfinance) (2022.1)\n",
            "Requirement already satisfied: python-dateutil>=2.7.3 in /usr/local/lib/python3.7/dist-packages (from pandas>=0.24.0->yfinance) (2.8.2)\n",
            "Requirement already satisfied: six>=1.5 in /usr/local/lib/python3.7/dist-packages (from python-dateutil>=2.7.3->pandas>=0.24.0->yfinance) (1.15.0)\n",
            "Requirement already satisfied: certifi>=2017.4.17 in /usr/local/lib/python3.7/dist-packages (from requests>=2.26->yfinance) (2021.10.8)\n",
            "Requirement already satisfied: urllib3<1.27,>=1.21.1 in /usr/local/lib/python3.7/dist-packages (from requests>=2.26->yfinance) (1.24.3)\n",
            "Requirement already satisfied: idna<4,>=2.5 in /usr/local/lib/python3.7/dist-packages (from requests>=2.26->yfinance) (2.10)\n",
            "Requirement already satisfied: charset-normalizer~=2.0.0 in /usr/local/lib/python3.7/dist-packages (from requests>=2.26->yfinance) (2.0.12)\n"
          ]
        }
      ]
    },
    {
      "cell_type": "code",
      "source": [
        "model = Prophet()\n",
        "model.fit(train_data)"
      ],
      "metadata": {
        "colab": {
          "base_uri": "https://localhost:8080/"
        },
        "id": "-Dw3ut4K8gAX",
        "outputId": "97895ea8-fbb0-4ed1-e83c-683b857a4e89"
      },
      "execution_count": 62,
      "outputs": [
        {
          "output_type": "execute_result",
          "data": {
            "text/plain": [
              "<fbprophet.forecaster.Prophet at 0x7ffa6e179f50>"
            ]
          },
          "metadata": {},
          "execution_count": 62
        }
      ]
    },
    {
      "cell_type": "code",
      "source": [
        "prediction = model.predict(pd.DataFrame({'ds':validation_data['ds']}))\n",
        "y_actual = validation_data['y']\n",
        "y_predicted = prediction['yhat']\n",
        "y_predicted = y_predicted.astype(int)"
      ],
      "metadata": {
        "id": "Ax_MdRd7_9CL"
      },
      "execution_count": 63,
      "outputs": []
    },
    {
      "cell_type": "markdown",
      "source": [
        "\n",
        "**Root Mean Square Error (RMSE**) :- is the standard deviation of the residuals (prediction errors). Residuals are a measure of how far from the regression line data points are; RMSE is a measure of how spread out these residuals are. In other words, it tells you how concentrated the data is around the line of best fit. Root mean square error is commonly used in climatology, forecasting, and regression analysis to verify experimental results."
      ],
      "metadata": {
        "id": "9a_4csO15Vre"
      }
    },
    {
      "cell_type": "code",
      "source": [
        "\n",
        "from sklearn.metrics import mean_squared_error\n",
        "MSE = mean_squared_error(y_actual, y_predicted)\n",
        "# Calculate and print Root Mean Square Error(RMSE)\n",
        "RMSE = np.sqrt(MSE)\n",
        "print(\"RMSE value: {:.4f}\".format(RMSE))"
      ],
      "metadata": {
        "colab": {
          "base_uri": "https://localhost:8080/"
        },
        "id": "eW88CemQPYft",
        "outputId": "94b27078-66b6-49a5-e7a8-0067c9ac07b9"
      },
      "execution_count": 64,
      "outputs": [
        {
          "output_type": "stream",
          "name": "stdout",
          "text": [
            "RMSE value: 36.6101\n"
          ]
        }
      ]
    },
    {
      "cell_type": "code",
      "source": [
        "from sklearn.metrics import accuracy_score\n",
        "accuracy_score(y_actual, y_predicted )"
      ],
      "metadata": {
        "colab": {
          "base_uri": "https://localhost:8080/"
        },
        "id": "RQ9o9lwRSaNR",
        "outputId": "9806a4ca-436d-403a-c91d-fb6603000ef0"
      },
      "execution_count": 65,
      "outputs": [
        {
          "output_type": "execute_result",
          "data": {
            "text/plain": [
              "0.007399287476020828"
            ]
          },
          "metadata": {},
          "execution_count": 65
        }
      ]
    },
    {
      "cell_type": "code",
      "source": [
        "import plotly.graph_objects as go\n",
        "from plotly.subplots import make_subplots\n",
        "\n",
        "fig = make_subplots(specs=[[{\"secondary_y\": True}]])\n",
        "\n",
        "fig.add_trace(\n",
        "    go.Scatter(x=validation_data['ds'], y=y_actual, name=\"actual targets\"),\n",
        "    secondary_y=False,\n",
        ")\n",
        "\n",
        "fig.add_trace(\n",
        "    go.Scatter(x=validation_data['ds'], y=y_predicted, name=\"predicted targets\"),\n",
        "    secondary_y=True,\n",
        ")\n",
        "\n",
        "fig.update_layout(\n",
        "    title_text=\"Actual vs Predicted Targets\"\n",
        ")\n",
        "\n",
        "fig.update_xaxes(title_text=\"Timeline\")\n",
        "fig.update_yaxes(title_text=\"<b>actual</b> targets\", secondary_y=False)\n",
        "fig.update_yaxes(title_text=\"<b>predicted</b> targets\", secondary_y=True)\n",
        "\n",
        "fig.show()"
      ],
      "metadata": {
        "colab": {
          "base_uri": "https://localhost:8080/",
          "height": 542
        },
        "id": "PvNcB1KyBu9j",
        "outputId": "bab7a46e-fec8-4a22-9b37-9a20e53fd94b"
      },
      "execution_count": 66,
      "outputs": [
        {
          "output_type": "display_data",
          "data": {
            "text/html": [
              "<html>\n",
              "<head><meta charset=\"utf-8\" /></head>\n",
              "<body>\n",
              "    <div>            <script src=\"https://cdnjs.cloudflare.com/ajax/libs/mathjax/2.7.5/MathJax.js?config=TeX-AMS-MML_SVG\"></script><script type=\"text/javascript\">if (window.MathJax) {MathJax.Hub.Config({SVG: {font: \"STIX-Web\"}});}</script>                <script type=\"text/javascript\">window.PlotlyConfig = {MathJaxConfig: 'local'};</script>\n",
              "        <script src=\"https://cdn.plot.ly/plotly-2.8.3.min.js\"></script>                <div id=\"77ed3363-88a5-441c-92d3-648d3f566a98\" class=\"plotly-graph-div\" style=\"height:525px; width:100%;\"></div>            <script type=\"text/javascript\">                                    window.PLOTLYENV=window.PLOTLYENV || {};                                    if (document.getElementById(\"77ed3363-88a5-441c-92d3-648d3f566a98\")) {                    Plotly.newPlot(                        \"77ed3363-88a5-441c-92d3-648d3f566a98\",                        [{\"name\":\"actual targets\",\"x\":[\"2018-08-18T13:00:00\",\"2018-08-18T22:00:00\",\"2018-08-19T08:00:00\",\"2018-08-19T12:00:00\",\"2018-08-19T14:00:00\",\"2018-08-19T17:00:00\",\"2018-08-19T21:00:00\",\"2018-08-20T14:00:00\",\"2018-08-21T09:00:00\",\"2018-08-21T10:00:00\",\"2018-08-21T15:00:00\",\"2018-08-22T12:00:00\",\"2018-08-22T15:00:00\",\"2018-08-22T23:00:00\",\"2018-08-23T10:00:00\",\"2018-08-23T19:00:00\",\"2018-08-23T22:00:00\",\"2018-08-24T11:00:00\",\"2018-08-25T09:00:00\",\"2018-08-25T12:00:00\",\"2018-08-26T15:00:00\",\"2018-08-26T23:00:00\",\"2018-08-27T13:00:00\",\"2018-08-28T08:00:00\",\"2018-08-28T09:00:00\",\"2018-08-28T17:00:00\",\"2018-08-29T03:00:00\",\"2018-08-29T21:00:00\",\"2018-08-29T22:00:00\",\"2018-08-30T16:00:00\",\"2018-08-31T11:00:00\",\"2018-08-31T14:00:00\",\"2018-08-31T23:00:00\",\"2018-09-01T08:00:00\",\"2018-09-01T13:00:00\",\"2018-09-01T16:00:00\",\"2018-09-01T22:00:00\",\"2018-09-02T10:00:00\",\"2018-09-02T20:00:00\",\"2018-09-03T13:00:00\",\"2018-09-03T15:00:00\",\"2018-09-03T17:00:00\",\"2018-09-04T12:00:00\",\"2018-09-04T18:00:00\",\"2018-09-05T08:00:00\",\"2018-09-05T09:00:00\",\"2018-09-05T15:00:00\",\"2018-09-05T16:00:00\",\"2018-09-05T23:00:00\",\"2018-09-06T10:00:00\",\"2018-09-07T11:00:00\",\"2018-09-07T12:00:00\",\"2018-09-07T17:00:00\",\"2018-09-07T19:00:00\",\"2018-09-08T08:00:00\",\"2018-09-08T15:00:00\",\"2018-09-09T01:00:00\",\"2018-09-09T14:00:00\",\"2018-09-10T11:00:00\",\"2018-09-10T16:00:00\",\"2018-09-11T07:00:00\",\"2018-09-11T18:00:00\",\"2018-09-11T19:00:00\",\"2018-09-12T07:00:00\",\"2018-09-12T10:00:00\",\"2018-09-12T15:00:00\",\"2018-09-13T18:00:00\",\"2018-09-14T09:00:00\",\"2018-09-14T12:00:00\",\"2018-09-14T14:00:00\",\"2018-09-14T22:00:00\",\"2018-09-15T10:00:00\",\"2018-09-15T13:00:00\",\"2018-09-15T15:00:00\",\"2018-09-15T21:00:00\",\"2018-09-15T22:00:00\",\"2018-09-16T10:00:00\",\"2018-09-17T06:00:00\",\"2018-09-17T08:00:00\",\"2018-09-17T14:00:00\",\"2018-09-17T15:00:00\",\"2018-09-17T21:00:00\",\"2018-09-18T13:00:00\",\"2018-09-18T19:00:00\",\"2018-09-18T20:00:00\",\"2018-09-19T17:00:00\",\"2018-09-19T19:00:00\",\"2018-09-19T20:00:00\",\"2018-09-19T22:00:00\",\"2018-09-19T23:00:00\",\"2018-09-20T08:00:00\",\"2018-09-20T11:00:00\",\"2018-09-20T15:00:00\",\"2018-09-20T18:00:00\",\"2018-09-20T21:00:00\",\"2018-09-21T10:00:00\",\"2018-09-21T11:00:00\",\"2018-09-21T12:00:00\",\"2018-09-21T16:00:00\",\"2018-09-21T23:00:00\",\"2018-09-22T10:00:00\",\"2018-09-22T22:00:00\",\"2018-09-22T23:00:00\",\"2018-09-23T04:00:00\",\"2018-09-23T15:00:00\",\"2018-09-24T10:00:00\",\"2018-09-24T15:00:00\",\"2018-09-24T16:00:00\",\"2018-09-24T17:00:00\",\"2018-09-26T09:00:00\",\"2018-09-26T11:00:00\",\"2018-09-26T15:00:00\",\"2018-09-26T18:00:00\",\"2018-09-26T21:00:00\",\"2018-09-27T15:00:00\",\"2018-09-27T18:00:00\",\"2018-09-27T19:00:00\",\"2018-09-27T22:00:00\",\"2018-09-28T13:00:00\",\"2018-09-28T17:00:00\",\"2018-09-28T19:00:00\",\"2018-09-29T10:00:00\",\"2018-09-29T12:00:00\",\"2018-09-29T22:00:00\",\"2018-09-30T12:00:00\",\"2018-09-30T13:00:00\",\"2018-10-01T05:00:00\",\"2018-10-01T10:00:00\",\"2018-10-01T17:00:00\",\"2018-10-01T22:00:00\",\"2018-10-02T06:00:00\",\"2018-10-02T08:00:00\",\"2018-10-02T10:00:00\",\"2018-10-02T21:00:00\",\"2018-10-03T20:00:00\",\"2018-10-03T21:00:00\",\"2018-10-04T07:00:00\",\"2018-10-04T10:00:00\",\"2018-10-04T14:00:00\",\"2018-10-04T18:00:00\",\"2018-10-04T20:00:00\",\"2018-10-04T22:00:00\",\"2018-10-05T12:00:00\",\"2018-10-05T14:00:00\",\"2018-10-05T15:00:00\",\"2018-10-05T19:00:00\",\"2018-10-05T20:00:00\",\"2018-10-05T23:00:00\",\"2018-10-06T09:00:00\",\"2018-10-06T11:00:00\",\"2018-10-06T12:00:00\",\"2018-10-06T15:00:00\",\"2018-10-07T02:00:00\",\"2018-10-07T10:00:00\",\"2018-10-07T13:00:00\",\"2018-10-08T08:00:00\",\"2018-10-08T16:00:00\",\"2018-10-08T17:00:00\",\"2018-10-08T21:00:00\",\"2018-10-09T17:00:00\",\"2018-10-09T19:00:00\",\"2018-10-10T15:00:00\",\"2018-10-10T18:00:00\",\"2018-10-10T22:00:00\",\"2018-10-11T11:00:00\",\"2018-10-11T20:00:00\",\"2018-10-11T21:00:00\",\"2018-10-12T11:00:00\",\"2018-10-12T17:00:00\",\"2018-10-12T19:00:00\",\"2018-10-13T12:00:00\",\"2018-10-13T13:00:00\",\"2018-10-13T19:00:00\",\"2018-10-14T02:00:00\",\"2018-10-14T04:00:00\",\"2018-10-14T08:00:00\",\"2018-10-14T12:00:00\",\"2018-10-14T18:00:00\",\"2018-10-14T23:00:00\",\"2018-10-15T12:00:00\",\"2018-10-15T16:00:00\",\"2018-10-15T20:00:00\",\"2018-10-16T04:00:00\",\"2018-10-16T11:00:00\",\"2018-10-16T16:00:00\",\"2018-10-16T20:00:00\",\"2018-10-17T17:00:00\",\"2018-10-17T18:00:00\",\"2018-10-18T11:00:00\",\"2018-10-18T19:00:00\",\"2018-10-18T21:00:00\",\"2018-10-19T08:00:00\",\"2018-10-19T11:00:00\",\"2018-10-19T17:00:00\",\"2018-10-19T21:00:00\",\"2018-10-20T03:00:00\",\"2018-10-20T04:00:00\",\"2018-10-20T12:00:00\",\"2018-10-20T16:00:00\",\"2018-10-21T00:00:00\",\"2018-10-21T08:00:00\",\"2018-10-21T12:00:00\",\"2018-10-21T19:00:00\",\"2018-10-21T21:00:00\",\"2018-10-22T16:00:00\",\"2018-10-22T18:00:00\",\"2018-10-23T12:00:00\",\"2018-10-23T14:00:00\",\"2018-10-24T11:00:00\",\"2018-10-24T21:00:00\",\"2018-10-25T06:00:00\",\"2018-10-26T06:00:00\",\"2018-10-26T07:00:00\",\"2018-10-26T15:00:00\",\"2018-10-27T01:00:00\",\"2018-10-27T15:00:00\",\"2018-10-27T18:00:00\",\"2018-10-28T03:00:00\",\"2018-10-28T12:00:00\",\"2018-10-28T16:00:00\",\"2018-10-29T11:00:00\",\"2018-10-29T19:00:00\",\"2018-10-29T22:00:00\",\"2018-10-30T08:00:00\",\"2018-10-30T09:00:00\",\"2018-10-30T12:00:00\",\"2018-10-30T13:00:00\",\"2018-10-30T19:00:00\",\"2018-10-30T23:00:00\",\"2018-10-31T16:00:00\",\"2018-10-31T19:00:00\",\"2018-10-31T21:00:00\",\"2018-11-01T01:00:00\",\"2018-11-01T11:00:00\",\"2018-11-01T12:00:00\",\"2018-11-01T14:00:00\",\"2018-11-01T16:00:00\",\"2018-11-01T18:00:00\",\"2018-11-01T21:00:00\",\"2018-11-02T01:00:00\",\"2018-11-02T20:00:00\",\"2018-11-02T23:00:00\",\"2018-11-03T00:00:00\",\"2018-11-03T08:00:00\",\"2018-11-03T12:00:00\",\"2018-11-03T18:00:00\",\"2018-11-03T19:00:00\",\"2018-11-03T22:00:00\",\"2018-11-04T03:00:00\",\"2018-11-04T12:00:00\",\"2018-11-05T00:00:00\",\"2018-11-05T08:00:00\",\"2018-11-05T09:00:00\",\"2018-11-05T15:00:00\",\"2018-11-05T18:00:00\",\"2018-11-05T19:00:00\",\"2018-11-05T23:00:00\",\"2018-11-06T01:00:00\",\"2018-11-06T02:00:00\",\"2018-11-06T03:00:00\",\"2018-11-06T06:00:00\",\"2018-11-06T08:00:00\",\"2018-11-06T22:00:00\",\"2018-11-07T02:00:00\",\"2018-11-07T13:00:00\",\"2018-11-07T16:00:00\",\"2018-11-07T21:00:00\",\"2018-11-07T23:00:00\",\"2018-11-08T00:00:00\",\"2018-11-08T10:00:00\",\"2018-11-08T12:00:00\",\"2018-11-08T21:00:00\",\"2018-11-09T10:00:00\",\"2018-11-09T15:00:00\",\"2018-11-09T19:00:00\",\"2018-11-09T21:00:00\",\"2018-11-10T04:00:00\",\"2018-11-10T23:00:00\",\"2018-11-11T03:00:00\",\"2018-11-11T20:00:00\",\"2018-11-11T23:00:00\",\"2018-11-12T08:00:00\",\"2018-11-12T09:00:00\",\"2018-11-12T12:00:00\",\"2018-11-12T20:00:00\",\"2018-11-13T12:00:00\",\"2018-11-13T13:00:00\",\"2018-11-13T16:00:00\",\"2018-11-13T18:00:00\",\"2018-11-13T21:00:00\",\"2018-11-13T22:00:00\",\"2018-11-14T00:00:00\",\"2018-11-14T12:00:00\",\"2018-11-14T13:00:00\",\"2018-11-14T16:00:00\",\"2018-11-14T17:00:00\",\"2018-11-14T22:00:00\",\"2018-11-15T00:00:00\",\"2018-11-15T03:00:00\",\"2018-11-15T11:00:00\",\"2018-11-15T14:00:00\",\"2018-11-15T21:00:00\",\"2018-11-16T01:00:00\",\"2018-11-16T10:00:00\",\"2018-11-16T11:00:00\",\"2018-11-16T12:00:00\",\"2018-11-16T21:00:00\",\"2018-11-16T22:00:00\",\"2018-11-17T10:00:00\",\"2018-11-17T14:00:00\",\"2018-11-18T02:00:00\",\"2018-11-18T10:00:00\",\"2018-11-18T11:00:00\",\"2018-11-18T20:00:00\",\"2018-11-18T23:00:00\",\"2018-11-19T22:00:00\",\"2018-11-20T06:00:00\",\"2018-11-20T12:00:00\",\"2018-11-20T14:00:00\",\"2018-11-20T15:00:00\",\"2018-11-20T20:00:00\",\"2018-11-20T22:00:00\",\"2018-11-21T10:00:00\",\"2018-11-21T19:00:00\",\"2018-11-22T01:00:00\",\"2018-11-22T07:00:00\",\"2018-11-22T08:00:00\",\"2018-11-22T14:00:00\",\"2018-11-22T17:00:00\",\"2018-11-22T21:00:00\",\"2018-11-22T23:00:00\",\"2018-11-23T16:00:00\",\"2018-11-23T23:00:00\",\"2018-11-24T15:00:00\",\"2018-11-24T18:00:00\",\"2018-11-24T19:00:00\",\"2018-11-24T20:00:00\",\"2018-11-24T22:00:00\",\"2018-11-25T03:00:00\",\"2018-11-25T06:00:00\",\"2018-11-25T07:00:00\",\"2018-11-25T11:00:00\",\"2018-11-25T17:00:00\",\"2018-11-26T09:00:00\",\"2018-11-26T20:00:00\",\"2018-11-27T04:00:00\",\"2018-11-27T06:00:00\",\"2018-11-27T07:00:00\",\"2018-11-27T11:00:00\",\"2018-11-27T15:00:00\",\"2018-11-27T21:00:00\",\"2018-11-27T22:00:00\",\"2018-11-28T15:00:00\",\"2018-11-28T19:00:00\",\"2018-11-28T20:00:00\",\"2018-11-28T22:00:00\",\"2018-11-29T02:00:00\",\"2018-11-29T07:00:00\",\"2018-11-29T13:00:00\",\"2018-11-30T00:00:00\",\"2018-11-30T08:00:00\",\"2018-11-30T09:00:00\",\"2018-11-30T14:00:00\",\"2018-12-01T02:00:00\",\"2018-12-01T03:00:00\",\"2018-12-01T07:00:00\",\"2018-12-02T03:00:00\",\"2018-12-02T05:00:00\",\"2018-12-02T11:00:00\",\"2018-12-02T14:00:00\",\"2018-12-03T06:00:00\",\"2018-12-03T08:00:00\",\"2018-12-03T10:00:00\",\"2018-12-03T18:00:00\",\"2018-12-04T19:00:00\",\"2018-12-04T20:00:00\",\"2018-12-05T08:00:00\",\"2018-12-05T10:00:00\",\"2018-12-05T12:00:00\",\"2018-12-05T13:00:00\",\"2018-12-05T16:00:00\",\"2018-12-05T17:00:00\",\"2018-12-06T07:00:00\",\"2018-12-06T19:00:00\",\"2018-12-07T00:00:00\",\"2018-12-07T08:00:00\",\"2018-12-07T10:00:00\",\"2018-12-07T16:00:00\",\"2018-12-07T18:00:00\",\"2018-12-07T19:00:00\",\"2018-12-08T00:00:00\",\"2018-12-08T03:00:00\",\"2018-12-08T08:00:00\",\"2018-12-08T09:00:00\",\"2018-12-08T11:00:00\",\"2018-12-08T13:00:00\",\"2018-12-08T17:00:00\",\"2018-12-09T02:00:00\",\"2018-12-09T12:00:00\",\"2018-12-09T15:00:00\",\"2018-12-09T23:00:00\",\"2018-12-10T05:00:00\",\"2018-12-10T08:00:00\",\"2018-12-10T13:00:00\",\"2018-12-10T19:00:00\",\"2018-12-10T21:00:00\",\"2018-12-11T01:00:00\",\"2018-12-11T11:00:00\",\"2018-12-11T15:00:00\",\"2018-12-11T16:00:00\",\"2018-12-12T02:00:00\",\"2018-12-12T06:00:00\",\"2018-12-12T11:00:00\",\"2018-12-12T14:00:00\",\"2018-12-12T15:00:00\",\"2018-12-12T18:00:00\",\"2018-12-12T19:00:00\",\"2018-12-13T05:00:00\",\"2018-12-13T14:00:00\",\"2018-12-13T15:00:00\",\"2018-12-13T23:00:00\",\"2018-12-14T08:00:00\",\"2018-12-14T09:00:00\",\"2018-12-14T15:00:00\",\"2018-12-14T18:00:00\",\"2018-12-14T20:00:00\",\"2018-12-14T23:00:00\",\"2018-12-15T00:00:00\",\"2018-12-15T20:00:00\",\"2018-12-16T00:00:00\",\"2018-12-16T12:00:00\",\"2018-12-16T18:00:00\",\"2018-12-17T00:00:00\",\"2018-12-17T07:00:00\",\"2018-12-17T08:00:00\",\"2018-12-17T09:00:00\",\"2018-12-17T13:00:00\",\"2018-12-17T19:00:00\",\"2018-12-18T10:00:00\",\"2018-12-18T19:00:00\",\"2018-12-19T07:00:00\",\"2018-12-19T15:00:00\",\"2018-12-19T18:00:00\",\"2018-12-19T19:00:00\",\"2018-12-19T21:00:00\",\"2018-12-20T17:00:00\",\"2018-12-20T18:00:00\",\"2018-12-20T20:00:00\",\"2018-12-20T21:00:00\",\"2018-12-21T00:00:00\",\"2018-12-21T09:00:00\",\"2018-12-21T17:00:00\",\"2018-12-21T20:00:00\",\"2018-12-21T22:00:00\",\"2018-12-22T04:00:00\",\"2018-12-22T08:00:00\",\"2018-12-22T09:00:00\",\"2018-12-22T10:00:00\",\"2018-12-22T22:00:00\",\"2018-12-23T14:00:00\",\"2018-12-23T19:00:00\",\"2018-12-24T00:00:00\",\"2018-12-24T08:00:00\",\"2018-12-24T15:00:00\",\"2018-12-24T16:00:00\",\"2018-12-24T17:00:00\",\"2018-12-25T00:00:00\",\"2018-12-25T07:00:00\",\"2018-12-25T09:00:00\",\"2018-12-25T16:00:00\",\"2018-12-26T06:00:00\",\"2018-12-26T09:00:00\",\"2018-12-26T11:00:00\",\"2018-12-27T00:00:00\",\"2018-12-27T18:00:00\",\"2018-12-27T22:00:00\",\"2018-12-28T00:00:00\",\"2018-12-28T08:00:00\",\"2018-12-28T09:00:00\",\"2018-12-28T11:00:00\",\"2018-12-28T16:00:00\",\"2018-12-28T19:00:00\",\"2018-12-28T23:00:00\",\"2018-12-29T11:00:00\",\"2018-12-29T12:00:00\",\"2018-12-29T14:00:00\",\"2018-12-30T11:00:00\",\"2018-12-30T12:00:00\",\"2018-12-30T18:00:00\",\"2018-12-30T22:00:00\",\"2018-12-30T23:00:00\",\"2018-12-31T02:00:00\",\"2018-12-31T08:00:00\",\"2018-12-31T16:00:00\",\"2018-12-31T18:00:00\",\"2018-12-31T23:00:00\",\"2019-01-01T13:00:00\",\"2019-01-01T17:00:00\",\"2019-01-02T01:00:00\",\"2019-01-02T06:00:00\",\"2019-01-02T07:00:00\",\"2019-01-02T09:00:00\",\"2019-01-02T11:00:00\",\"2019-01-02T15:00:00\",\"2019-01-02T18:00:00\",\"2019-01-02T21:00:00\",\"2019-01-03T06:00:00\",\"2019-01-03T11:00:00\",\"2019-01-03T15:00:00\",\"2019-01-03T18:00:00\",\"2019-01-04T01:00:00\",\"2019-01-04T15:00:00\",\"2019-01-05T07:00:00\",\"2019-01-05T13:00:00\",\"2019-01-05T14:00:00\",\"2019-01-05T17:00:00\",\"2019-01-05T18:00:00\",\"2019-01-06T09:00:00\",\"2019-01-06T18:00:00\",\"2019-01-07T06:00:00\",\"2019-01-07T07:00:00\",\"2019-01-07T10:00:00\",\"2019-01-07T12:00:00\",\"2019-01-07T13:00:00\",\"2019-01-07T22:00:00\",\"2019-01-08T01:00:00\",\"2019-01-09T08:00:00\",\"2019-01-09T16:00:00\",\"2019-01-09T23:00:00\",\"2019-01-10T09:00:00\",\"2019-01-10T11:00:00\",\"2019-01-10T20:00:00\",\"2019-01-10T21:00:00\",\"2019-01-11T06:00:00\",\"2019-01-11T07:00:00\",\"2019-01-11T11:00:00\",\"2019-01-12T00:00:00\",\"2019-01-12T12:00:00\",\"2019-01-12T15:00:00\",\"2019-01-13T04:00:00\",\"2019-01-13T09:00:00\",\"2019-01-13T13:00:00\",\"2019-01-13T15:00:00\",\"2019-01-13T18:00:00\",\"2019-01-14T00:00:00\",\"2019-01-14T07:00:00\",\"2019-01-14T21:00:00\",\"2019-01-14T23:00:00\",\"2019-01-15T00:00:00\",\"2019-01-15T08:00:00\",\"2019-01-15T13:00:00\",\"2019-01-15T19:00:00\",\"2019-01-15T22:00:00\",\"2019-01-15T23:00:00\",\"2019-01-16T11:00:00\",\"2019-01-16T12:00:00\",\"2019-01-16T14:00:00\",\"2019-01-16T17:00:00\",\"2019-01-17T08:00:00\",\"2019-01-17T09:00:00\",\"2019-01-17T12:00:00\",\"2019-01-17T21:00:00\",\"2019-01-18T06:00:00\",\"2019-01-18T07:00:00\",\"2019-01-18T15:00:00\",\"2019-01-18T22:00:00\",\"2019-01-18T23:00:00\",\"2019-01-19T03:00:00\",\"2019-01-19T11:00:00\",\"2019-01-19T14:00:00\",\"2019-01-19T19:00:00\",\"2019-01-19T20:00:00\",\"2019-01-20T00:00:00\",\"2019-01-20T01:00:00\",\"2019-01-20T02:00:00\",\"2019-01-20T08:00:00\",\"2019-01-20T11:00:00\",\"2019-01-20T12:00:00\",\"2019-01-20T14:00:00\",\"2019-01-20T19:00:00\",\"2019-01-20T21:00:00\",\"2019-01-21T01:00:00\",\"2019-01-21T09:00:00\",\"2019-01-21T12:00:00\",\"2019-01-21T16:00:00\",\"2019-01-21T17:00:00\",\"2019-01-21T19:00:00\",\"2019-01-21T22:00:00\",\"2019-01-22T09:00:00\",\"2019-01-22T15:00:00\",\"2019-01-22T20:00:00\",\"2019-01-22T22:00:00\",\"2019-01-23T19:00:00\",\"2019-01-23T20:00:00\",\"2019-01-24T02:00:00\",\"2019-01-24T07:00:00\",\"2019-01-24T12:00:00\",\"2019-01-24T19:00:00\",\"2019-01-24T21:00:00\",\"2019-01-25T03:00:00\",\"2019-01-25T19:00:00\",\"2019-01-25T20:00:00\",\"2019-01-25T21:00:00\",\"2019-01-26T02:00:00\",\"2019-01-26T07:00:00\",\"2019-01-26T12:00:00\",\"2019-01-26T13:00:00\",\"2019-01-26T21:00:00\",\"2019-01-27T00:00:00\",\"2019-01-27T07:00:00\",\"2019-01-27T11:00:00\",\"2019-01-27T12:00:00\",\"2019-01-27T14:00:00\",\"2019-01-27T20:00:00\",\"2019-01-28T07:00:00\",\"2019-01-28T10:00:00\",\"2019-01-28T17:00:00\",\"2019-01-28T19:00:00\",\"2019-01-29T00:00:00\",\"2019-01-29T10:00:00\",\"2019-01-29T12:00:00\",\"2019-01-30T06:00:00\",\"2019-01-30T14:00:00\",\"2019-01-30T21:00:00\",\"2019-01-31T01:00:00\",\"2019-01-31T09:00:00\",\"2019-01-31T15:00:00\",\"2019-02-01T11:00:00\",\"2019-02-01T19:00:00\",\"2019-02-02T00:00:00\",\"2019-02-02T06:00:00\",\"2019-02-02T10:00:00\",\"2019-02-02T11:00:00\",\"2019-02-02T13:00:00\",\"2019-02-02T16:00:00\",\"2019-02-03T02:00:00\",\"2019-02-03T06:00:00\",\"2019-02-03T23:00:00\",\"2019-02-04T08:00:00\",\"2019-02-04T10:00:00\",\"2019-02-04T19:00:00\",\"2019-02-04T22:00:00\",\"2019-02-06T07:00:00\",\"2019-02-06T10:00:00\",\"2019-02-06T11:00:00\",\"2019-02-06T15:00:00\",\"2019-02-06T16:00:00\",\"2019-02-07T07:00:00\",\"2019-02-07T10:00:00\",\"2019-02-07T14:00:00\",\"2019-02-07T18:00:00\",\"2019-02-08T08:00:00\",\"2019-02-08T11:00:00\",\"2019-02-08T14:00:00\",\"2019-02-08T16:00:00\",\"2019-02-09T11:00:00\",\"2019-02-09T12:00:00\",\"2019-02-09T15:00:00\",\"2019-02-09T19:00:00\",\"2019-02-10T19:00:00\",\"2019-02-11T08:00:00\",\"2019-02-11T15:00:00\",\"2019-02-11T16:00:00\",\"2019-02-11T18:00:00\",\"2019-02-11T21:00:00\",\"2019-02-12T07:00:00\",\"2019-02-12T13:00:00\",\"2019-02-12T15:00:00\",\"2019-02-12T16:00:00\",\"2019-02-13T06:00:00\",\"2019-02-13T07:00:00\",\"2019-02-13T10:00:00\",\"2019-02-13T20:00:00\",\"2019-02-13T22:00:00\",\"2019-02-14T03:00:00\",\"2019-02-14T13:00:00\",\"2019-02-15T15:00:00\",\"2019-02-15T16:00:00\",\"2019-02-15T22:00:00\",\"2019-02-16T16:00:00\",\"2019-02-16T17:00:00\",\"2019-02-17T11:00:00\",\"2019-02-17T15:00:00\",\"2019-02-17T19:00:00\",\"2019-02-17T22:00:00\",\"2019-02-18T09:00:00\",\"2019-02-18T13:00:00\",\"2019-02-19T07:00:00\",\"2019-02-19T11:00:00\",\"2019-02-19T14:00:00\",\"2019-02-19T15:00:00\",\"2019-02-20T00:00:00\",\"2019-02-20T12:00:00\",\"2019-02-20T14:00:00\",\"2019-02-20T20:00:00\",\"2019-02-21T00:00:00\",\"2019-02-21T15:00:00\",\"2019-02-21T17:00:00\",\"2019-02-21T20:00:00\",\"2019-02-21T22:00:00\",\"2019-02-21T23:00:00\",\"2019-02-22T08:00:00\",\"2019-02-22T11:00:00\",\"2019-02-22T20:00:00\",\"2019-02-23T01:00:00\",\"2019-02-23T02:00:00\",\"2019-02-23T07:00:00\",\"2019-02-23T08:00:00\",\"2019-02-23T12:00:00\",\"2019-02-24T00:00:00\",\"2019-02-24T02:00:00\",\"2019-02-24T09:00:00\",\"2019-02-24T10:00:00\",\"2019-02-24T15:00:00\",\"2019-02-24T21:00:00\",\"2019-02-25T04:00:00\",\"2019-02-25T09:00:00\",\"2019-02-25T18:00:00\",\"2019-02-25T20:00:00\",\"2019-02-25T23:00:00\",\"2019-02-26T01:00:00\",\"2019-02-26T12:00:00\",\"2019-02-27T10:00:00\",\"2019-02-27T12:00:00\",\"2019-02-27T15:00:00\",\"2019-02-27T16:00:00\",\"2019-02-28T01:00:00\",\"2019-02-28T10:00:00\",\"2019-03-01T01:00:00\",\"2019-03-01T10:00:00\",\"2019-03-01T12:00:00\",\"2019-03-01T21:00:00\",\"2019-03-02T00:00:00\",\"2019-03-02T10:00:00\",\"2019-03-02T14:00:00\",\"2019-03-02T17:00:00\",\"2019-03-02T18:00:00\",\"2019-03-03T01:00:00\",\"2019-03-03T04:00:00\",\"2019-03-03T06:00:00\",\"2019-03-03T09:00:00\",\"2019-03-03T13:00:00\",\"2019-03-03T21:00:00\",\"2019-03-04T11:00:00\",\"2019-03-04T15:00:00\",\"2019-03-05T12:00:00\",\"2019-03-06T02:00:00\",\"2019-03-06T13:00:00\",\"2019-03-06T14:00:00\",\"2019-03-06T19:00:00\",\"2019-03-06T21:00:00\",\"2019-03-07T11:00:00\",\"2019-03-07T17:00:00\",\"2019-03-07T21:00:00\",\"2019-03-08T05:00:00\",\"2019-03-08T06:00:00\",\"2019-03-08T15:00:00\",\"2019-03-08T22:00:00\",\"2019-03-09T00:00:00\",\"2019-03-09T03:00:00\",\"2019-03-09T10:00:00\",\"2019-03-09T13:00:00\",\"2019-03-09T21:00:00\",\"2019-03-10T01:00:00\",\"2019-03-10T03:00:00\",\"2019-03-10T05:00:00\",\"2019-03-10T06:00:00\",\"2019-03-10T15:00:00\",\"2019-03-10T20:00:00\",\"2019-03-11T00:00:00\",\"2019-03-11T05:00:00\",\"2019-03-11T10:00:00\",\"2019-03-11T11:00:00\",\"2019-03-11T12:00:00\",\"2019-03-11T14:00:00\",\"2019-03-11T16:00:00\",\"2019-03-11T21:00:00\",\"2019-03-12T07:00:00\",\"2019-03-12T08:00:00\",\"2019-03-12T20:00:00\",\"2019-03-12T22:00:00\",\"2019-03-13T00:00:00\",\"2019-03-13T02:00:00\",\"2019-03-13T05:00:00\",\"2019-03-13T07:00:00\",\"2019-03-13T08:00:00\",\"2019-03-14T06:00:00\",\"2019-03-14T07:00:00\",\"2019-03-14T09:00:00\",\"2019-03-14T11:00:00\",\"2019-03-15T09:00:00\",\"2019-03-15T15:00:00\",\"2019-03-15T17:00:00\",\"2019-03-15T19:00:00\",\"2019-03-15T20:00:00\",\"2019-03-15T21:00:00\",\"2019-03-16T00:00:00\",\"2019-03-16T08:00:00\",\"2019-03-16T09:00:00\",\"2019-03-16T11:00:00\",\"2019-03-16T17:00:00\",\"2019-03-16T19:00:00\",\"2019-03-16T23:00:00\",\"2019-03-17T08:00:00\",\"2019-03-17T10:00:00\",\"2019-03-17T20:00:00\",\"2019-03-18T00:00:00\",\"2019-03-18T06:00:00\",\"2019-03-18T07:00:00\",\"2019-03-18T08:00:00\",\"2019-03-18T10:00:00\",\"2019-03-18T19:00:00\",\"2019-03-18T22:00:00\",\"2019-03-19T02:00:00\",\"2019-03-19T05:00:00\",\"2019-03-19T07:00:00\",\"2019-03-19T11:00:00\",\"2019-03-19T14:00:00\",\"2019-03-19T22:00:00\",\"2019-03-19T23:00:00\",\"2019-03-20T13:00:00\",\"2019-03-20T22:00:00\",\"2019-03-21T13:00:00\",\"2019-03-21T20:00:00\",\"2019-03-21T22:00:00\",\"2019-03-21T23:00:00\",\"2019-03-22T00:00:00\",\"2019-03-22T10:00:00\",\"2019-03-22T12:00:00\",\"2019-03-22T14:00:00\",\"2019-03-22T22:00:00\",\"2019-03-23T02:00:00\",\"2019-03-23T07:00:00\",\"2019-03-23T08:00:00\",\"2019-03-23T09:00:00\",\"2019-03-23T17:00:00\",\"2019-03-24T00:00:00\",\"2019-03-24T01:00:00\",\"2019-03-24T07:00:00\",\"2019-03-24T19:00:00\",\"2019-03-24T22:00:00\",\"2019-03-25T00:00:00\",\"2019-03-25T05:00:00\",\"2019-03-25T06:00:00\",\"2019-03-25T07:00:00\",\"2019-03-25T08:00:00\",\"2019-03-25T09:00:00\",\"2019-03-25T19:00:00\",\"2019-03-26T00:00:00\",\"2019-03-26T10:00:00\",\"2019-03-26T11:00:00\",\"2019-03-26T15:00:00\",\"2019-03-26T22:00:00\",\"2019-03-27T07:00:00\",\"2019-03-27T21:00:00\",\"2019-03-28T08:00:00\",\"2019-03-28T09:00:00\",\"2019-03-28T10:00:00\",\"2019-03-28T12:00:00\",\"2019-03-28T18:00:00\",\"2019-03-29T11:00:00\",\"2019-03-29T13:00:00\",\"2019-03-29T15:00:00\",\"2019-03-29T17:00:00\",\"2019-03-29T20:00:00\",\"2019-03-29T21:00:00\",\"2019-03-29T23:00:00\",\"2019-03-30T01:00:00\",\"2019-03-30T08:00:00\",\"2019-03-30T14:00:00\",\"2019-03-31T22:00:00\",\"2019-03-31T23:00:00\",\"2019-04-01T07:00:00\",\"2019-04-01T08:00:00\",\"2019-04-01T14:00:00\",\"2019-04-01T15:00:00\",\"2019-04-01T21:00:00\",\"2019-04-01T23:00:00\",\"2019-04-02T18:00:00\",\"2019-04-02T19:00:00\",\"2019-04-03T09:00:00\",\"2019-04-03T12:00:00\",\"2019-04-03T16:00:00\",\"2019-04-03T17:00:00\",\"2019-04-03T18:00:00\",\"2019-04-04T00:00:00\",\"2019-04-04T01:00:00\",\"2019-04-04T06:00:00\",\"2019-04-04T17:00:00\",\"2019-04-05T08:00:00\",\"2019-04-05T09:00:00\",\"2019-04-05T10:00:00\",\"2019-04-05T12:00:00\",\"2019-04-05T18:00:00\",\"2019-04-05T23:00:00\",\"2019-04-06T05:00:00\",\"2019-04-06T07:00:00\",\"2019-04-06T17:00:00\",\"2019-04-06T22:00:00\",\"2019-04-06T23:00:00\",\"2019-04-07T01:00:00\",\"2019-04-07T02:00:00\",\"2019-04-07T06:00:00\",\"2019-04-07T09:00:00\",\"2019-04-07T14:00:00\",\"2019-04-07T16:00:00\",\"2019-04-07T18:00:00\",\"2019-04-07T22:00:00\",\"2019-04-08T09:00:00\",\"2019-04-08T16:00:00\",\"2019-04-08T18:00:00\",\"2019-04-08T19:00:00\",\"2019-04-08T20:00:00\",\"2019-04-08T22:00:00\",\"2019-04-09T03:00:00\",\"2019-04-09T15:00:00\",\"2019-04-09T19:00:00\",\"2019-04-10T00:00:00\",\"2019-04-10T05:00:00\",\"2019-04-10T07:00:00\",\"2019-04-10T14:00:00\",\"2019-04-10T15:00:00\",\"2019-04-10T16:00:00\",\"2019-04-10T19:00:00\",\"2019-04-11T08:00:00\",\"2019-04-11T09:00:00\",\"2019-04-11T17:00:00\",\"2019-04-11T18:00:00\",\"2019-04-11T23:00:00\",\"2019-04-12T06:00:00\",\"2019-04-12T12:00:00\",\"2019-04-13T12:00:00\",\"2019-04-13T13:00:00\",\"2019-04-13T19:00:00\",\"2019-04-14T02:00:00\",\"2019-04-14T05:00:00\",\"2019-04-14T10:00:00\",\"2019-04-14T12:00:00\",\"2019-04-14T14:00:00\",\"2019-04-14T16:00:00\",\"2019-04-14T17:00:00\",\"2019-04-15T00:00:00\",\"2019-04-15T13:00:00\",\"2019-04-15T16:00:00\",\"2019-04-15T18:00:00\",\"2019-04-16T19:00:00\",\"2019-04-17T03:00:00\",\"2019-04-17T08:00:00\",\"2019-04-17T13:00:00\",\"2019-04-17T19:00:00\",\"2019-04-18T07:00:00\",\"2019-04-18T15:00:00\",\"2019-04-19T01:00:00\",\"2019-04-19T02:00:00\",\"2019-04-19T04:00:00\",\"2019-04-19T10:00:00\",\"2019-04-19T23:00:00\",\"2019-04-20T06:00:00\",\"2019-04-20T09:00:00\",\"2019-04-20T17:00:00\",\"2019-04-20T20:00:00\",\"2019-04-20T22:00:00\",\"2019-04-20T23:00:00\",\"2019-04-21T00:00:00\",\"2019-04-21T03:00:00\",\"2019-04-21T08:00:00\",\"2019-04-21T15:00:00\",\"2019-04-21T16:00:00\",\"2019-04-21T23:00:00\",\"2019-04-22T01:00:00\",\"2019-04-22T07:00:00\",\"2019-04-22T10:00:00\",\"2019-04-22T11:00:00\",\"2019-04-22T17:00:00\",\"2019-04-22T19:00:00\",\"2019-04-22T21:00:00\",\"2019-04-23T21:00:00\",\"2019-04-23T22:00:00\",\"2019-04-24T00:00:00\",\"2019-04-24T07:00:00\",\"2019-04-24T19:00:00\",\"2019-04-24T20:00:00\",\"2019-04-25T02:00:00\",\"2019-04-25T06:00:00\",\"2019-04-25T22:00:00\",\"2019-04-26T03:00:00\",\"2019-04-26T11:00:00\",\"2019-04-26T22:00:00\",\"2019-04-27T11:00:00\",\"2019-04-27T14:00:00\",\"2019-04-27T22:00:00\",\"2019-04-29T01:00:00\",\"2019-04-29T13:00:00\",\"2019-04-29T23:00:00\",\"2019-04-30T07:00:00\",\"2019-04-30T17:00:00\",\"2019-04-30T20:00:00\",\"2019-04-30T21:00:00\",\"2019-04-30T22:00:00\",\"2019-05-01T07:00:00\",\"2019-05-01T15:00:00\",\"2019-05-01T16:00:00\",\"2019-05-01T18:00:00\",\"2019-05-02T04:00:00\",\"2019-05-02T19:00:00\",\"2019-05-02T20:00:00\",\"2019-05-03T11:00:00\",\"2019-05-03T14:00:00\",\"2019-05-03T15:00:00\",\"2019-05-03T19:00:00\",\"2019-05-03T22:00:00\",\"2019-05-04T10:00:00\",\"2019-05-04T13:00:00\",\"2019-05-04T16:00:00\",\"2019-05-04T21:00:00\",\"2019-05-05T07:00:00\",\"2019-05-05T13:00:00\",\"2019-05-05T23:00:00\",\"2019-05-06T00:00:00\",\"2019-05-06T03:00:00\",\"2019-05-06T22:00:00\",\"2019-05-07T11:00:00\",\"2019-05-07T12:00:00\",\"2019-05-07T16:00:00\",\"2019-05-07T18:00:00\",\"2019-05-08T00:00:00\",\"2019-05-08T09:00:00\",\"2019-05-08T13:00:00\",\"2019-05-08T14:00:00\",\"2019-05-08T16:00:00\",\"2019-05-08T22:00:00\",\"2019-05-09T06:00:00\",\"2019-05-09T12:00:00\",\"2019-05-09T19:00:00\",\"2019-05-09T23:00:00\",\"2019-05-10T08:00:00\",\"2019-05-10T14:00:00\",\"2019-05-11T07:00:00\",\"2019-05-11T19:00:00\",\"2019-05-11T21:00:00\",\"2019-05-12T03:00:00\",\"2019-05-12T18:00:00\",\"2019-05-13T06:00:00\",\"2019-05-13T08:00:00\",\"2019-05-13T11:00:00\",\"2019-05-14T06:00:00\",\"2019-05-14T15:00:00\",\"2019-05-14T20:00:00\",\"2019-05-15T01:00:00\",\"2019-05-15T19:00:00\",\"2019-05-16T13:00:00\",\"2019-05-16T18:00:00\",\"2019-05-17T11:00:00\",\"2019-05-17T16:00:00\",\"2019-05-18T00:00:00\",\"2019-05-18T01:00:00\",\"2019-05-18T10:00:00\",\"2019-05-18T12:00:00\",\"2019-05-18T15:00:00\",\"2019-05-18T16:00:00\",\"2019-05-18T19:00:00\",\"2019-05-18T23:00:00\",\"2019-05-19T09:00:00\",\"2019-05-19T10:00:00\",\"2019-05-19T13:00:00\",\"2019-05-19T18:00:00\",\"2019-05-19T20:00:00\",\"2019-05-19T22:00:00\",\"2019-05-20T07:00:00\",\"2019-05-20T10:00:00\",\"2019-05-20T18:00:00\",\"2019-05-20T19:00:00\",\"2019-05-20T20:00:00\",\"2019-05-20T23:00:00\",\"2019-05-21T16:00:00\",\"2019-05-22T00:00:00\",\"2019-05-22T08:00:00\",\"2019-05-22T11:00:00\",\"2019-05-22T13:00:00\",\"2019-05-22T14:00:00\",\"2019-05-24T20:00:00\",\"2019-05-25T00:00:00\",\"2019-05-25T04:00:00\",\"2019-05-25T09:00:00\",\"2019-05-25T21:00:00\",\"2019-05-26T17:00:00\",\"2019-05-26T18:00:00\",\"2019-05-26T19:00:00\",\"2019-05-27T07:00:00\",\"2019-05-27T11:00:00\",\"2019-05-27T13:00:00\",\"2019-05-27T22:00:00\",\"2019-05-27T23:00:00\",\"2019-05-28T06:00:00\",\"2019-05-28T09:00:00\",\"2019-05-28T14:00:00\",\"2019-05-28T17:00:00\",\"2019-05-29T07:00:00\",\"2019-05-29T10:00:00\",\"2019-05-29T11:00:00\",\"2019-05-29T20:00:00\",\"2019-05-30T01:00:00\",\"2019-05-30T03:00:00\",\"2019-05-30T06:00:00\",\"2019-05-30T11:00:00\",\"2019-05-30T17:00:00\",\"2019-05-30T19:00:00\",\"2019-05-31T03:00:00\",\"2019-05-31T08:00:00\",\"2019-05-31T12:00:00\",\"2019-05-31T14:00:00\",\"2019-05-31T16:00:00\",\"2019-05-31T20:00:00\",\"2019-05-31T21:00:00\",\"2019-05-31T23:00:00\",\"2019-06-01T06:00:00\",\"2019-06-01T09:00:00\",\"2019-06-01T12:00:00\",\"2019-06-01T15:00:00\",\"2019-06-01T16:00:00\",\"2019-06-01T17:00:00\",\"2019-06-01T19:00:00\",\"2019-06-01T22:00:00\",\"2019-06-01T23:00:00\",\"2019-06-02T03:00:00\",\"2019-06-02T12:00:00\",\"2019-06-02T15:00:00\",\"2019-06-03T06:00:00\",\"2019-06-03T08:00:00\",\"2019-06-03T11:00:00\",\"2019-06-03T19:00:00\",\"2019-06-04T00:00:00\",\"2019-06-04T07:00:00\",\"2019-06-04T10:00:00\",\"2019-06-04T11:00:00\",\"2019-06-05T08:00:00\",\"2019-06-05T13:00:00\",\"2019-06-05T18:00:00\",\"2019-06-05T20:00:00\",\"2019-06-06T00:00:00\",\"2019-06-06T13:00:00\",\"2019-06-06T16:00:00\",\"2019-06-06T17:00:00\",\"2019-06-06T20:00:00\",\"2019-06-07T00:00:00\",\"2019-06-07T11:00:00\",\"2019-06-08T02:00:00\",\"2019-06-08T11:00:00\",\"2019-06-08T14:00:00\",\"2019-06-09T04:00:00\",\"2019-06-09T07:00:00\",\"2019-06-09T18:00:00\",\"2019-06-09T20:00:00\",\"2019-06-09T23:00:00\",\"2019-06-10T02:00:00\",\"2019-06-10T04:00:00\",\"2019-06-10T08:00:00\",\"2019-06-10T09:00:00\",\"2019-06-10T13:00:00\",\"2019-06-10T21:00:00\",\"2019-06-10T23:00:00\",\"2019-06-11T08:00:00\",\"2019-06-11T09:00:00\",\"2019-06-11T21:00:00\",\"2019-06-11T23:00:00\",\"2019-06-12T03:00:00\",\"2019-06-12T10:00:00\",\"2019-06-12T21:00:00\",\"2019-06-12T22:00:00\",\"2019-06-12T23:00:00\",\"2019-06-13T06:00:00\",\"2019-06-13T10:00:00\",\"2019-06-13T19:00:00\",\"2019-06-13T20:00:00\",\"2019-06-13T21:00:00\",\"2019-06-14T01:00:00\",\"2019-06-14T08:00:00\",\"2019-06-14T13:00:00\",\"2019-06-14T14:00:00\",\"2019-06-15T02:00:00\",\"2019-06-15T03:00:00\",\"2019-06-15T15:00:00\",\"2019-06-15T19:00:00\",\"2019-06-15T20:00:00\",\"2019-06-16T02:00:00\",\"2019-06-16T04:00:00\",\"2019-06-16T09:00:00\",\"2019-06-16T10:00:00\",\"2019-06-16T11:00:00\",\"2019-06-16T13:00:00\",\"2019-06-17T00:00:00\",\"2019-06-17T08:00:00\",\"2019-06-17T14:00:00\",\"2019-06-17T15:00:00\",\"2019-06-17T16:00:00\",\"2019-06-17T20:00:00\",\"2019-06-17T23:00:00\",\"2019-06-18T06:00:00\",\"2019-06-18T07:00:00\",\"2019-06-18T10:00:00\",\"2019-06-20T18:00:00\",\"2019-06-21T03:00:00\",\"2019-06-21T07:00:00\",\"2019-06-21T09:00:00\",\"2019-06-21T10:00:00\",\"2019-06-21T13:00:00\",\"2019-06-22T10:00:00\",\"2019-06-22T11:00:00\",\"2019-06-22T15:00:00\",\"2019-06-22T19:00:00\",\"2019-06-23T00:00:00\",\"2019-06-23T02:00:00\",\"2019-06-23T07:00:00\",\"2019-06-23T09:00:00\",\"2019-06-23T14:00:00\",\"2019-06-23T16:00:00\",\"2019-06-23T20:00:00\",\"2019-06-23T23:00:00\",\"2019-06-24T00:00:00\",\"2019-06-24T07:00:00\",\"2019-06-24T10:00:00\",\"2019-06-24T12:00:00\",\"2019-06-24T17:00:00\",\"2019-06-24T19:00:00\",\"2019-06-25T07:00:00\",\"2019-06-25T11:00:00\",\"2019-06-25T12:00:00\",\"2019-06-25T21:00:00\",\"2019-06-25T23:00:00\",\"2019-06-26T00:00:00\",\"2019-06-26T02:00:00\",\"2019-06-26T04:00:00\",\"2019-06-26T07:00:00\",\"2019-06-26T10:00:00\",\"2019-06-26T11:00:00\",\"2019-06-26T12:00:00\",\"2019-06-26T13:00:00\",\"2019-06-26T14:00:00\",\"2019-06-27T01:00:00\",\"2019-06-27T04:00:00\",\"2019-06-27T06:00:00\",\"2019-06-27T12:00:00\",\"2019-06-27T23:00:00\",\"2019-06-28T18:00:00\",\"2019-06-28T19:00:00\",\"2019-06-28T20:00:00\",\"2019-06-29T01:00:00\",\"2019-06-29T20:00:00\",\"2019-06-30T14:00:00\",\"2019-07-01T07:00:00\",\"2019-07-01T08:00:00\",\"2019-07-01T09:00:00\",\"2019-07-01T19:00:00\",\"2019-07-01T20:00:00\",\"2019-07-01T22:00:00\",\"2019-07-02T09:00:00\",\"2019-07-02T10:00:00\",\"2019-07-02T13:00:00\",\"2019-07-02T16:00:00\",\"2019-07-02T17:00:00\",\"2019-07-02T21:00:00\",\"2019-07-03T14:00:00\",\"2019-07-03T16:00:00\",\"2019-07-03T17:00:00\",\"2019-07-03T18:00:00\",\"2019-07-03T19:00:00\",\"2019-07-04T17:00:00\",\"2019-07-04T18:00:00\",\"2019-07-05T01:00:00\",\"2019-07-05T16:00:00\",\"2019-07-05T18:00:00\",\"2019-07-05T21:00:00\",\"2019-07-06T00:00:00\",\"2019-07-06T08:00:00\",\"2019-07-06T10:00:00\",\"2019-07-06T19:00:00\",\"2019-07-06T21:00:00\",\"2019-07-07T02:00:00\",\"2019-07-07T04:00:00\",\"2019-07-07T10:00:00\",\"2019-07-07T16:00:00\",\"2019-07-07T17:00:00\",\"2019-07-07T18:00:00\",\"2019-07-07T20:00:00\",\"2019-07-07T21:00:00\",\"2019-07-08T13:00:00\",\"2019-07-08T19:00:00\",\"2019-07-08T23:00:00\",\"2019-07-09T08:00:00\",\"2019-07-09T10:00:00\",\"2019-07-09T11:00:00\",\"2019-07-09T13:00:00\",\"2019-07-09T14:00:00\",\"2019-07-09T19:00:00\",\"2019-07-10T11:00:00\",\"2019-07-10T15:00:00\",\"2019-07-10T20:00:00\",\"2019-07-10T22:00:00\",\"2019-07-11T11:00:00\",\"2019-07-11T13:00:00\",\"2019-07-11T18:00:00\",\"2019-07-12T11:00:00\",\"2019-07-12T13:00:00\",\"2019-07-12T14:00:00\",\"2019-07-12T16:00:00\",\"2019-07-12T20:00:00\",\"2019-07-13T21:00:00\",\"2019-07-14T11:00:00\",\"2019-07-14T17:00:00\",\"2019-07-15T10:00:00\",\"2019-07-16T07:00:00\",\"2019-07-16T17:00:00\",\"2019-07-17T00:00:00\",\"2019-07-17T22:00:00\",\"2019-07-17T23:00:00\",\"2019-07-18T06:00:00\",\"2019-07-18T12:00:00\",\"2019-07-18T16:00:00\",\"2019-07-19T11:00:00\",\"2019-07-19T23:00:00\",\"2019-07-20T16:00:00\",\"2019-07-20T17:00:00\",\"2019-07-21T14:00:00\",\"2019-07-22T10:00:00\",\"2019-07-22T17:00:00\",\"2019-07-22T18:00:00\",\"2019-07-22T19:00:00\",\"2019-07-23T07:00:00\",\"2019-07-23T11:00:00\",\"2019-07-23T14:00:00\",\"2019-07-23T15:00:00\",\"2019-07-23T18:00:00\",\"2019-07-23T21:00:00\",\"2019-07-24T04:00:00\",\"2019-07-24T11:00:00\",\"2019-07-24T13:00:00\",\"2019-07-24T14:00:00\",\"2019-07-24T19:00:00\",\"2019-07-24T21:00:00\",\"2019-07-25T11:00:00\",\"2019-07-25T13:00:00\",\"2019-07-25T17:00:00\",\"2019-07-26T11:00:00\",\"2019-07-26T12:00:00\",\"2019-07-26T15:00:00\",\"2019-07-27T10:00:00\",\"2019-07-27T17:00:00\",\"2019-07-27T18:00:00\",\"2019-07-27T20:00:00\",\"2019-07-27T21:00:00\",\"2019-07-28T08:00:00\",\"2019-07-28T09:00:00\",\"2019-07-29T00:00:00\",\"2019-07-29T03:00:00\",\"2019-07-29T11:00:00\",\"2019-07-29T20:00:00\",\"2019-07-30T08:00:00\",\"2019-07-30T21:00:00\",\"2019-07-30T23:00:00\",\"2019-07-31T08:00:00\",\"2019-07-31T09:00:00\",\"2019-07-31T11:00:00\",\"2019-07-31T12:00:00\",\"2019-07-31T14:00:00\",\"2019-07-31T19:00:00\",\"2019-07-31T22:00:00\",\"2019-08-01T12:00:00\",\"2019-08-01T17:00:00\",\"2019-08-01T19:00:00\",\"2019-08-01T20:00:00\",\"2019-08-02T06:00:00\",\"2019-08-02T07:00:00\",\"2019-08-02T09:00:00\",\"2019-08-02T12:00:00\",\"2019-08-02T15:00:00\",\"2019-08-02T17:00:00\",\"2019-08-02T23:00:00\",\"2019-08-03T00:00:00\",\"2019-08-03T02:00:00\",\"2019-08-03T11:00:00\",\"2019-08-03T19:00:00\",\"2019-08-03T22:00:00\",\"2019-08-04T06:00:00\",\"2019-08-04T08:00:00\",\"2019-08-04T10:00:00\",\"2019-08-04T13:00:00\",\"2019-08-04T15:00:00\",\"2019-08-05T03:00:00\",\"2019-08-05T11:00:00\",\"2019-08-05T14:00:00\",\"2019-08-05T21:00:00\",\"2019-08-05T23:00:00\",\"2019-08-06T09:00:00\",\"2019-08-06T22:00:00\",\"2019-08-06T23:00:00\",\"2019-08-07T18:00:00\",\"2019-08-07T20:00:00\",\"2019-08-09T09:00:00\",\"2019-08-09T18:00:00\",\"2019-08-10T02:00:00\",\"2019-08-10T10:00:00\",\"2019-08-10T12:00:00\",\"2019-08-10T15:00:00\",\"2019-08-10T17:00:00\",\"2019-08-10T18:00:00\",\"2019-08-10T21:00:00\",\"2019-08-10T23:00:00\",\"2019-08-11T00:00:00\",\"2019-08-11T11:00:00\",\"2019-08-11T15:00:00\",\"2019-08-11T21:00:00\",\"2019-08-11T23:00:00\",\"2019-08-12T09:00:00\",\"2019-08-12T10:00:00\",\"2019-08-12T13:00:00\",\"2019-08-12T15:00:00\",\"2019-08-12T16:00:00\",\"2019-08-12T18:00:00\",\"2019-08-13T07:00:00\",\"2019-08-13T08:00:00\",\"2019-08-13T20:00:00\",\"2019-08-14T09:00:00\",\"2019-08-14T10:00:00\",\"2019-08-14T14:00:00\",\"2019-08-14T16:00:00\",\"2019-08-14T18:00:00\",\"2019-08-14T20:00:00\",\"2019-08-15T11:00:00\",\"2019-08-15T15:00:00\",\"2019-08-15T16:00:00\",\"2019-08-15T19:00:00\",\"2019-08-16T10:00:00\",\"2019-08-16T14:00:00\",\"2019-08-17T08:00:00\",\"2019-08-17T15:00:00\",\"2019-08-17T17:00:00\",\"2019-08-17T20:00:00\",\"2019-08-17T23:00:00\",\"2019-08-18T02:00:00\",\"2019-08-18T13:00:00\",\"2019-08-18T16:00:00\",\"2019-08-18T18:00:00\",\"2019-08-18T21:00:00\",\"2019-08-18T22:00:00\",\"2019-08-19T05:00:00\",\"2019-08-19T11:00:00\",\"2019-08-19T18:00:00\",\"2019-08-19T21:00:00\",\"2019-08-20T07:00:00\",\"2019-08-20T15:00:00\",\"2019-08-21T07:00:00\",\"2019-08-22T11:00:00\",\"2019-08-22T13:00:00\",\"2019-08-22T23:00:00\",\"2019-08-23T06:00:00\",\"2019-08-23T07:00:00\",\"2019-08-23T17:00:00\",\"2019-08-23T18:00:00\",\"2019-08-23T20:00:00\",\"2019-08-24T12:00:00\",\"2019-08-24T17:00:00\",\"2019-08-24T18:00:00\",\"2019-08-25T18:00:00\",\"2019-08-26T15:00:00\",\"2019-08-26T16:00:00\",\"2019-08-26T18:00:00\",\"2019-08-26T22:00:00\",\"2019-08-27T06:00:00\",\"2019-08-27T08:00:00\",\"2019-08-27T21:00:00\",\"2019-08-27T22:00:00\",\"2019-08-28T01:00:00\",\"2019-08-28T14:00:00\",\"2019-08-28T15:00:00\",\"2019-08-28T19:00:00\",\"2019-08-28T23:00:00\",\"2019-08-29T02:00:00\",\"2019-08-29T16:00:00\",\"2019-08-30T10:00:00\",\"2019-08-30T17:00:00\",\"2019-08-31T07:00:00\",\"2019-08-31T11:00:00\",\"2019-08-31T14:00:00\",\"2019-08-31T16:00:00\",\"2019-08-31T20:00:00\",\"2019-09-01T03:00:00\",\"2019-09-01T19:00:00\",\"2019-09-02T09:00:00\",\"2019-09-03T14:00:00\",\"2019-09-03T16:00:00\",\"2019-09-04T10:00:00\",\"2019-09-04T16:00:00\",\"2019-09-04T17:00:00\",\"2019-09-04T21:00:00\",\"2019-09-05T10:00:00\",\"2019-09-05T11:00:00\",\"2019-09-05T15:00:00\",\"2019-09-05T17:00:00\",\"2019-09-06T06:00:00\",\"2019-09-06T07:00:00\",\"2019-09-06T08:00:00\",\"2019-09-06T15:00:00\",\"2019-09-06T16:00:00\",\"2019-09-06T20:00:00\",\"2019-09-07T00:00:00\",\"2019-09-08T12:00:00\",\"2019-09-08T16:00:00\",\"2019-09-08T22:00:00\",\"2019-09-09T10:00:00\",\"2019-09-09T11:00:00\",\"2019-09-09T15:00:00\",\"2019-09-09T17:00:00\",\"2019-09-09T21:00:00\",\"2019-09-10T13:00:00\",\"2019-09-10T18:00:00\",\"2019-09-11T13:00:00\",\"2019-09-11T21:00:00\",\"2019-09-12T06:00:00\",\"2019-09-12T12:00:00\",\"2019-09-12T16:00:00\",\"2019-09-12T17:00:00\",\"2019-09-12T22:00:00\",\"2019-09-13T12:00:00\",\"2019-09-13T18:00:00\",\"2019-09-13T19:00:00\",\"2019-09-13T23:00:00\",\"2019-09-14T02:00:00\",\"2019-09-14T10:00:00\",\"2019-09-14T15:00:00\",\"2019-09-14T16:00:00\",\"2019-09-14T22:00:00\",\"2019-09-15T14:00:00\",\"2019-09-15T15:00:00\",\"2019-09-15T16:00:00\",\"2019-09-16T10:00:00\",\"2019-09-17T08:00:00\",\"2019-09-17T13:00:00\",\"2019-09-17T14:00:00\",\"2019-09-17T22:00:00\",\"2019-09-18T08:00:00\",\"2019-09-18T10:00:00\",\"2019-09-18T12:00:00\",\"2019-09-18T14:00:00\",\"2019-09-18T22:00:00\",\"2019-09-19T00:00:00\",\"2019-09-19T06:00:00\",\"2019-09-19T10:00:00\",\"2019-09-19T21:00:00\",\"2019-09-19T22:00:00\",\"2019-09-20T14:00:00\",\"2019-09-20T15:00:00\",\"2019-09-20T16:00:00\",\"2019-09-20T17:00:00\",\"2019-09-21T02:00:00\",\"2019-09-21T13:00:00\",\"2019-09-21T14:00:00\",\"2019-09-21T15:00:00\",\"2019-09-21T18:00:00\",\"2019-09-21T20:00:00\",\"2019-09-21T23:00:00\",\"2019-09-22T02:00:00\",\"2019-09-22T09:00:00\",\"2019-09-22T18:00:00\",\"2019-09-22T21:00:00\",\"2019-09-23T11:00:00\",\"2019-09-23T12:00:00\",\"2019-09-23T14:00:00\",\"2019-09-23T16:00:00\",\"2019-09-23T18:00:00\",\"2019-09-23T19:00:00\",\"2019-09-23T21:00:00\",\"2019-09-24T15:00:00\",\"2019-09-25T04:00:00\",\"2019-09-25T09:00:00\",\"2019-09-25T13:00:00\",\"2019-09-25T18:00:00\",\"2019-09-25T23:00:00\",\"2019-09-26T08:00:00\",\"2019-09-26T11:00:00\",\"2019-09-26T17:00:00\",\"2019-09-26T22:00:00\",\"2019-09-27T00:00:00\",\"2019-09-27T02:00:00\",\"2019-09-27T07:00:00\",\"2019-09-27T09:00:00\",\"2019-09-27T14:00:00\",\"2019-09-28T11:00:00\",\"2019-09-28T16:00:00\",\"2019-09-29T01:00:00\",\"2019-09-29T09:00:00\",\"2019-09-29T11:00:00\",\"2019-09-29T14:00:00\",\"2019-09-29T16:00:00\",\"2019-09-29T19:00:00\",\"2019-09-29T22:00:00\",\"2019-09-30T09:00:00\",\"2019-09-30T15:00:00\",\"2019-09-30T18:00:00\",\"2019-09-30T20:00:00\",\"2019-10-01T09:00:00\",\"2019-10-01T12:00:00\",\"2019-10-01T17:00:00\",\"2019-10-01T20:00:00\",\"2019-10-02T06:00:00\",\"2019-10-02T08:00:00\",\"2019-10-02T12:00:00\",\"2019-10-02T15:00:00\",\"2019-10-02T20:00:00\",\"2019-10-03T03:00:00\",\"2019-10-03T11:00:00\",\"2019-10-03T14:00:00\",\"2019-10-03T17:00:00\",\"2019-10-03T20:00:00\",\"2019-10-04T01:00:00\",\"2019-10-04T08:00:00\",\"2019-10-04T18:00:00\",\"2019-10-05T07:00:00\",\"2019-10-05T08:00:00\",\"2019-10-05T13:00:00\",\"2019-10-05T22:00:00\",\"2019-10-05T23:00:00\",\"2019-10-06T02:00:00\",\"2019-10-06T09:00:00\",\"2019-10-06T13:00:00\",\"2019-10-06T21:00:00\",\"2019-10-07T13:00:00\",\"2019-10-07T14:00:00\",\"2019-10-07T21:00:00\",\"2019-10-08T12:00:00\",\"2019-10-08T20:00:00\",\"2019-10-08T21:00:00\",\"2019-10-08T22:00:00\",\"2019-10-09T01:00:00\",\"2019-10-09T06:00:00\",\"2019-10-09T21:00:00\",\"2019-10-09T22:00:00\",\"2019-10-10T08:00:00\",\"2019-10-10T12:00:00\",\"2019-10-10T15:00:00\",\"2019-10-10T21:00:00\",\"2019-10-10T22:00:00\",\"2019-10-11T00:00:00\",\"2019-10-11T01:00:00\",\"2019-10-11T09:00:00\",\"2019-10-11T10:00:00\",\"2019-10-11T15:00:00\",\"2019-10-11T20:00:00\",\"2019-10-11T21:00:00\",\"2019-10-12T02:00:00\",\"2019-10-12T13:00:00\",\"2019-10-12T14:00:00\",\"2019-10-12T17:00:00\",\"2019-10-12T21:00:00\",\"2019-10-13T06:00:00\",\"2019-10-13T09:00:00\",\"2019-10-13T12:00:00\",\"2019-10-13T14:00:00\",\"2019-10-13T17:00:00\",\"2019-10-14T19:00:00\",\"2019-10-15T16:00:00\",\"2019-10-15T20:00:00\",\"2019-10-16T08:00:00\",\"2019-10-16T12:00:00\",\"2019-10-16T14:00:00\",\"2019-10-16T15:00:00\",\"2019-10-17T07:00:00\",\"2019-10-17T14:00:00\",\"2019-10-17T18:00:00\",\"2019-10-17T20:00:00\",\"2019-10-18T11:00:00\",\"2019-10-18T16:00:00\",\"2019-10-19T10:00:00\",\"2019-10-19T11:00:00\",\"2019-10-19T13:00:00\",\"2019-10-19T22:00:00\",\"2019-10-20T13:00:00\",\"2019-10-20T14:00:00\",\"2019-10-20T18:00:00\",\"2019-10-21T06:00:00\",\"2019-10-21T08:00:00\",\"2019-10-21T13:00:00\",\"2019-10-21T19:00:00\",\"2019-10-23T08:00:00\",\"2019-10-23T12:00:00\",\"2019-10-23T16:00:00\",\"2019-10-23T17:00:00\",\"2019-10-23T21:00:00\",\"2019-10-24T01:00:00\",\"2019-10-24T08:00:00\",\"2019-10-24T13:00:00\",\"2019-10-24T19:00:00\",\"2019-10-25T12:00:00\",\"2019-10-25T15:00:00\",\"2019-10-25T21:00:00\",\"2019-10-26T22:00:00\",\"2019-10-27T01:00:00\",\"2019-10-27T19:00:00\",\"2019-10-27T20:00:00\",\"2019-10-27T22:00:00\",\"2019-10-28T00:00:00\",\"2019-10-28T03:00:00\",\"2019-10-28T16:00:00\",\"2019-10-28T21:00:00\",\"2019-10-29T09:00:00\",\"2019-10-29T13:00:00\",\"2019-10-29T15:00:00\",\"2019-10-29T22:00:00\",\"2019-10-30T08:00:00\",\"2019-10-30T12:00:00\",\"2019-10-30T15:00:00\",\"2019-10-30T17:00:00\",\"2019-10-30T18:00:00\",\"2019-10-31T19:00:00\",\"2019-10-31T20:00:00\",\"2019-10-31T22:00:00\",\"2019-11-01T16:00:00\",\"2019-11-01T21:00:00\",\"2019-11-02T02:00:00\",\"2019-11-02T16:00:00\",\"2019-11-02T19:00:00\",\"2019-11-02T21:00:00\",\"2019-11-03T04:00:00\",\"2019-11-03T09:00:00\",\"2019-11-03T15:00:00\",\"2019-11-03T18:00:00\",\"2019-11-03T19:00:00\",\"2019-11-03T20:00:00\",\"2019-11-04T14:00:00\",\"2019-11-04T19:00:00\",\"2019-11-05T07:00:00\",\"2019-11-05T14:00:00\",\"2019-11-05T18:00:00\",\"2019-11-05T20:00:00\",\"2019-11-05T23:00:00\",\"2019-11-06T06:00:00\",\"2019-11-06T22:00:00\",\"2019-11-07T09:00:00\",\"2019-11-07T10:00:00\",\"2019-11-07T13:00:00\",\"2019-11-08T00:00:00\",\"2019-11-08T02:00:00\",\"2019-11-08T09:00:00\",\"2019-11-08T12:00:00\",\"2019-11-08T20:00:00\",\"2019-11-09T01:00:00\",\"2019-11-09T12:00:00\",\"2019-11-09T14:00:00\",\"2019-11-10T00:00:00\",\"2019-11-10T03:00:00\",\"2019-11-10T11:00:00\",\"2019-11-10T18:00:00\",\"2019-11-10T19:00:00\",\"2019-11-11T04:00:00\",\"2019-11-11T13:00:00\",\"2019-11-11T14:00:00\",\"2019-11-11T22:00:00\",\"2019-11-12T06:00:00\",\"2019-11-12T14:00:00\",\"2019-11-12T18:00:00\",\"2019-11-12T19:00:00\",\"2019-11-13T19:00:00\",\"2019-11-13T22:00:00\",\"2019-11-13T23:00:00\",\"2019-11-14T02:00:00\",\"2019-11-14T03:00:00\",\"2019-11-14T11:00:00\",\"2019-11-14T12:00:00\",\"2019-11-14T13:00:00\",\"2019-11-14T16:00:00\",\"2019-11-14T21:00:00\",\"2019-11-14T23:00:00\",\"2019-11-15T00:00:00\",\"2019-11-15T11:00:00\",\"2019-11-15T12:00:00\",\"2019-11-15T13:00:00\",\"2019-11-15T15:00:00\",\"2019-11-16T01:00:00\",\"2019-11-16T13:00:00\",\"2019-11-16T18:00:00\",\"2019-11-16T19:00:00\",\"2019-11-16T23:00:00\",\"2019-11-17T01:00:00\",\"2019-11-17T07:00:00\",\"2019-11-17T15:00:00\",\"2019-11-18T13:00:00\",\"2019-11-18T19:00:00\",\"2019-11-20T07:00:00\",\"2019-11-20T08:00:00\",\"2019-11-20T13:00:00\",\"2019-11-20T18:00:00\",\"2019-11-20T23:00:00\",\"2019-11-21T06:00:00\",\"2019-11-21T07:00:00\",\"2019-11-21T21:00:00\",\"2019-11-21T22:00:00\",\"2019-11-22T08:00:00\",\"2019-11-22T09:00:00\",\"2019-11-22T10:00:00\",\"2019-11-22T16:00:00\",\"2019-11-22T22:00:00\",\"2019-11-22T23:00:00\",\"2019-11-23T03:00:00\",\"2019-11-23T06:00:00\",\"2019-11-23T10:00:00\",\"2019-11-23T13:00:00\",\"2019-11-23T14:00:00\",\"2019-11-23T15:00:00\",\"2019-11-23T17:00:00\",\"2019-11-23T18:00:00\",\"2019-11-24T09:00:00\",\"2019-11-24T10:00:00\",\"2019-11-24T12:00:00\",\"2019-11-24T15:00:00\",\"2019-11-25T00:00:00\",\"2019-11-25T15:00:00\",\"2019-11-25T21:00:00\",\"2019-11-26T01:00:00\",\"2019-11-26T11:00:00\",\"2019-11-26T15:00:00\",\"2019-11-26T17:00:00\",\"2019-11-26T21:00:00\",\"2019-11-27T01:00:00\",\"2019-11-27T11:00:00\",\"2019-11-27T13:00:00\",\"2019-11-27T18:00:00\",\"2019-11-27T19:00:00\",\"2019-11-27T20:00:00\",\"2019-11-27T22:00:00\",\"2019-11-28T01:00:00\",\"2019-11-28T06:00:00\",\"2019-11-28T08:00:00\",\"2019-11-28T09:00:00\",\"2019-11-28T13:00:00\",\"2019-11-28T18:00:00\",\"2019-11-28T19:00:00\",\"2019-11-29T00:00:00\",\"2019-11-29T11:00:00\",\"2019-11-29T15:00:00\",\"2019-11-29T16:00:00\",\"2019-11-29T23:00:00\",\"2019-11-30T18:00:00\",\"2019-12-01T02:00:00\",\"2019-12-01T11:00:00\",\"2019-12-01T14:00:00\",\"2019-12-02T00:00:00\",\"2019-12-02T10:00:00\",\"2019-12-02T13:00:00\",\"2019-12-02T19:00:00\",\"2019-12-02T21:00:00\",\"2019-12-02T22:00:00\",\"2019-12-03T05:00:00\",\"2019-12-03T06:00:00\",\"2019-12-03T11:00:00\",\"2019-12-03T12:00:00\",\"2019-12-03T13:00:00\",\"2019-12-03T15:00:00\",\"2019-12-03T17:00:00\",\"2019-12-04T00:00:00\",\"2019-12-04T10:00:00\",\"2019-12-04T13:00:00\",\"2019-12-04T17:00:00\",\"2019-12-05T00:00:00\",\"2019-12-05T01:00:00\",\"2019-12-05T06:00:00\",\"2019-12-05T08:00:00\",\"2019-12-05T20:00:00\",\"2019-12-05T21:00:00\",\"2019-12-06T06:00:00\",\"2019-12-06T09:00:00\",\"2019-12-06T10:00:00\",\"2019-12-06T13:00:00\",\"2019-12-06T15:00:00\",\"2019-12-07T01:00:00\",\"2019-12-07T06:00:00\",\"2019-12-07T12:00:00\",\"2019-12-07T14:00:00\",\"2019-12-07T22:00:00\",\"2019-12-08T01:00:00\",\"2019-12-08T02:00:00\",\"2019-12-08T11:00:00\",\"2019-12-08T13:00:00\",\"2019-12-08T14:00:00\",\"2019-12-08T21:00:00\",\"2019-12-09T07:00:00\",\"2019-12-09T11:00:00\",\"2019-12-09T18:00:00\",\"2019-12-10T14:00:00\",\"2019-12-10T20:00:00\",\"2019-12-10T22:00:00\",\"2019-12-11T00:00:00\",\"2019-12-11T14:00:00\",\"2019-12-11T17:00:00\",\"2019-12-11T19:00:00\",\"2019-12-11T22:00:00\",\"2019-12-11T23:00:00\",\"2019-12-12T10:00:00\",\"2019-12-12T16:00:00\",\"2019-12-13T01:00:00\",\"2019-12-13T07:00:00\",\"2019-12-13T13:00:00\",\"2019-12-13T19:00:00\",\"2019-12-13T21:00:00\",\"2019-12-13T22:00:00\",\"2019-12-14T02:00:00\",\"2019-12-14T11:00:00\",\"2019-12-14T12:00:00\",\"2019-12-14T13:00:00\",\"2019-12-14T22:00:00\",\"2019-12-15T07:00:00\",\"2019-12-15T14:00:00\",\"2019-12-15T16:00:00\",\"2019-12-15T17:00:00\",\"2019-12-15T18:00:00\",\"2019-12-16T07:00:00\",\"2019-12-16T12:00:00\",\"2019-12-16T16:00:00\",\"2019-12-17T17:00:00\",\"2019-12-17T19:00:00\",\"2019-12-18T11:00:00\",\"2019-12-18T17:00:00\",\"2019-12-18T23:00:00\",\"2019-12-19T07:00:00\",\"2019-12-19T08:00:00\",\"2019-12-19T11:00:00\",\"2019-12-19T12:00:00\",\"2019-12-19T14:00:00\",\"2019-12-19T15:00:00\",\"2019-12-19T23:00:00\",\"2019-12-20T02:00:00\",\"2019-12-20T06:00:00\",\"2019-12-20T19:00:00\",\"2019-12-21T03:00:00\",\"2019-12-21T09:00:00\",\"2019-12-21T19:00:00\",\"2019-12-21T21:00:00\",\"2019-12-21T22:00:00\",\"2019-12-22T08:00:00\",\"2019-12-22T12:00:00\",\"2019-12-22T14:00:00\",\"2019-12-22T20:00:00\",\"2019-12-23T07:00:00\",\"2019-12-23T10:00:00\",\"2019-12-23T12:00:00\",\"2019-12-23T13:00:00\",\"2019-12-23T15:00:00\",\"2019-12-23T19:00:00\",\"2019-12-24T16:00:00\",\"2019-12-25T01:00:00\",\"2019-12-25T08:00:00\",\"2019-12-25T10:00:00\",\"2019-12-25T16:00:00\",\"2019-12-25T19:00:00\",\"2019-12-25T23:00:00\",\"2019-12-26T09:00:00\",\"2019-12-26T17:00:00\",\"2019-12-27T01:00:00\",\"2019-12-27T02:00:00\",\"2019-12-27T17:00:00\",\"2019-12-27T19:00:00\",\"2019-12-28T07:00:00\",\"2019-12-28T19:00:00\",\"2019-12-29T00:00:00\",\"2019-12-29T02:00:00\",\"2019-12-29T14:00:00\",\"2019-12-29T17:00:00\",\"2019-12-30T01:00:00\",\"2019-12-30T07:00:00\",\"2019-12-30T08:00:00\",\"2019-12-30T19:00:00\",\"2019-12-30T23:00:00\",\"2019-12-31T05:00:00\",\"2019-12-31T09:00:00\",\"2019-12-31T12:00:00\",\"2019-12-31T15:00:00\",\"2020-01-01T03:00:00\",\"2020-01-01T07:00:00\",\"2020-01-01T08:00:00\",\"2020-01-01T15:00:00\",\"2020-01-01T16:00:00\",\"2020-01-01T18:00:00\",\"2020-01-01T20:00:00\",\"2020-01-01T21:00:00\",\"2020-01-01T23:00:00\",\"2020-01-02T08:00:00\",\"2020-01-02T10:00:00\",\"2020-01-02T14:00:00\",\"2020-01-02T18:00:00\",\"2020-01-02T22:00:00\",\"2020-01-03T00:00:00\",\"2020-01-03T07:00:00\",\"2020-01-03T13:00:00\",\"2020-01-03T18:00:00\",\"2020-01-03T23:00:00\",\"2020-01-04T00:00:00\",\"2020-01-04T11:00:00\",\"2020-01-04T12:00:00\",\"2020-01-04T16:00:00\",\"2020-01-04T19:00:00\",\"2020-01-04T20:00:00\",\"2020-01-05T03:00:00\",\"2020-01-05T04:00:00\",\"2020-01-05T07:00:00\",\"2020-01-05T08:00:00\",\"2020-01-05T12:00:00\",\"2020-01-05T23:00:00\",\"2020-01-06T08:00:00\",\"2020-01-07T06:00:00\",\"2020-01-07T13:00:00\",\"2020-01-07T16:00:00\",\"2020-01-07T19:00:00\",\"2020-01-07T22:00:00\",\"2020-01-08T02:00:00\",\"2020-01-09T09:00:00\",\"2020-01-09T17:00:00\",\"2020-01-09T20:00:00\",\"2020-01-10T22:00:00\",\"2020-01-10T23:00:00\",\"2020-01-11T01:00:00\",\"2020-01-11T09:00:00\",\"2020-01-11T12:00:00\",\"2020-01-11T17:00:00\",\"2020-01-12T01:00:00\",\"2020-01-12T08:00:00\",\"2020-01-12T12:00:00\",\"2020-01-12T15:00:00\",\"2020-01-12T17:00:00\",\"2020-01-12T18:00:00\",\"2020-01-12T21:00:00\",\"2020-01-13T06:00:00\",\"2020-01-13T08:00:00\",\"2020-01-13T17:00:00\",\"2020-01-13T19:00:00\",\"2020-01-13T20:00:00\",\"2020-01-14T13:00:00\",\"2020-01-14T16:00:00\",\"2020-01-14T19:00:00\",\"2020-01-15T06:00:00\",\"2020-01-15T08:00:00\",\"2020-01-15T17:00:00\",\"2020-01-17T07:00:00\",\"2020-01-17T09:00:00\",\"2020-01-17T11:00:00\",\"2020-01-17T14:00:00\",\"2020-01-17T18:00:00\",\"2020-01-17T19:00:00\",\"2020-01-17T23:00:00\",\"2020-01-18T02:00:00\",\"2020-01-18T09:00:00\",\"2020-01-18T19:00:00\",\"2020-01-19T07:00:00\",\"2020-01-19T17:00:00\",\"2020-01-20T01:00:00\",\"2020-01-20T06:00:00\",\"2020-01-20T11:00:00\",\"2020-01-20T13:00:00\",\"2020-01-20T18:00:00\",\"2020-01-21T11:00:00\",\"2020-01-21T15:00:00\",\"2020-01-21T17:00:00\",\"2020-01-22T00:00:00\",\"2020-01-22T01:00:00\",\"2020-01-22T06:00:00\",\"2020-01-22T14:00:00\",\"2020-01-22T16:00:00\",\"2020-01-22T17:00:00\",\"2020-01-22T18:00:00\",\"2020-01-22T20:00:00\",\"2020-01-23T00:00:00\",\"2020-01-23T11:00:00\",\"2020-01-23T12:00:00\",\"2020-01-23T18:00:00\",\"2020-01-23T21:00:00\",\"2020-01-23T23:00:00\",\"2020-01-24T00:00:00\",\"2020-01-24T09:00:00\",\"2020-01-24T15:00:00\",\"2020-01-24T19:00:00\",\"2020-01-24T22:00:00\",\"2020-01-24T23:00:00\",\"2020-01-25T02:00:00\",\"2020-01-25T14:00:00\",\"2020-01-25T16:00:00\",\"2020-01-26T01:00:00\",\"2020-01-26T07:00:00\",\"2020-01-26T13:00:00\",\"2020-01-26T19:00:00\",\"2020-01-26T20:00:00\",\"2020-01-27T05:00:00\",\"2020-01-27T23:00:00\",\"2020-01-28T05:00:00\",\"2020-01-28T14:00:00\",\"2020-01-28T19:00:00\",\"2020-01-29T04:00:00\",\"2020-01-29T08:00:00\",\"2020-01-29T11:00:00\",\"2020-01-29T19:00:00\",\"2020-01-30T13:00:00\",\"2020-01-30T16:00:00\",\"2020-01-30T18:00:00\",\"2020-01-30T19:00:00\",\"2020-01-31T10:00:00\",\"2020-01-31T14:00:00\",\"2020-01-31T20:00:00\",\"2020-01-31T23:00:00\",\"2020-02-01T11:00:00\",\"2020-02-01T12:00:00\",\"2020-02-01T18:00:00\",\"2020-02-02T00:00:00\",\"2020-02-02T18:00:00\",\"2020-02-02T19:00:00\",\"2020-02-03T00:00:00\",\"2020-02-03T07:00:00\",\"2020-02-03T08:00:00\",\"2020-02-03T17:00:00\",\"2020-02-03T18:00:00\",\"2020-02-03T23:00:00\",\"2020-02-04T06:00:00\",\"2020-02-04T12:00:00\",\"2020-02-04T13:00:00\",\"2020-02-04T15:00:00\",\"2020-02-04T21:00:00\",\"2020-02-04T22:00:00\",\"2020-02-05T08:00:00\",\"2020-02-05T10:00:00\",\"2020-02-05T12:00:00\",\"2020-02-05T16:00:00\",\"2020-02-06T00:00:00\",\"2020-02-06T14:00:00\",\"2020-02-06T19:00:00\",\"2020-02-06T20:00:00\",\"2020-02-06T22:00:00\",\"2020-02-07T06:00:00\",\"2020-02-07T08:00:00\",\"2020-02-08T07:00:00\",\"2020-02-08T13:00:00\",\"2020-02-08T19:00:00\",\"2020-02-09T01:00:00\",\"2020-02-09T10:00:00\",\"2020-02-09T13:00:00\",\"2020-02-09T14:00:00\",\"2020-02-09T17:00:00\",\"2020-02-09T19:00:00\",\"2020-02-10T00:00:00\",\"2020-02-10T01:00:00\",\"2020-02-10T05:00:00\",\"2020-02-10T13:00:00\",\"2020-02-10T16:00:00\",\"2020-02-10T23:00:00\",\"2020-02-11T02:00:00\",\"2020-02-11T21:00:00\",\"2020-02-12T14:00:00\",\"2020-02-12T17:00:00\",\"2020-02-12T19:00:00\",\"2020-02-12T20:00:00\",\"2020-02-13T08:00:00\",\"2020-02-13T20:00:00\",\"2020-02-13T21:00:00\",\"2020-02-13T23:00:00\",\"2020-02-14T00:00:00\",\"2020-02-14T04:00:00\",\"2020-02-14T07:00:00\",\"2020-02-14T16:00:00\",\"2020-02-14T17:00:00\",\"2020-02-14T18:00:00\",\"2020-02-14T19:00:00\",\"2020-02-15T00:00:00\",\"2020-02-15T01:00:00\",\"2020-02-15T02:00:00\",\"2020-02-15T03:00:00\",\"2020-02-15T07:00:00\",\"2020-02-15T14:00:00\",\"2020-02-16T10:00:00\",\"2020-02-16T14:00:00\",\"2020-02-16T15:00:00\",\"2020-02-16T16:00:00\",\"2020-02-16T21:00:00\",\"2020-02-17T02:00:00\",\"2020-02-17T06:00:00\",\"2020-02-17T13:00:00\",\"2020-02-17T16:00:00\",\"2020-02-18T01:00:00\",\"2020-02-18T10:00:00\",\"2020-02-18T14:00:00\",\"2020-02-18T18:00:00\",\"2020-02-18T20:00:00\",\"2020-02-19T11:00:00\",\"2020-02-19T16:00:00\",\"2020-02-20T19:00:00\",\"2020-02-20T22:00:00\",\"2020-02-20T23:00:00\",\"2020-02-21T04:00:00\",\"2020-02-21T08:00:00\",\"2020-02-21T09:00:00\",\"2020-02-21T16:00:00\",\"2020-02-21T18:00:00\",\"2020-02-21T19:00:00\",\"2020-02-21T20:00:00\",\"2020-02-22T08:00:00\",\"2020-02-22T13:00:00\",\"2020-02-22T14:00:00\",\"2020-02-22T15:00:00\",\"2020-02-22T17:00:00\",\"2020-02-22T19:00:00\",\"2020-02-22T22:00:00\",\"2020-02-23T01:00:00\",\"2020-02-23T03:00:00\",\"2020-02-23T07:00:00\",\"2020-02-23T09:00:00\",\"2020-02-23T10:00:00\",\"2020-02-23T12:00:00\",\"2020-02-23T13:00:00\",\"2020-02-23T21:00:00\",\"2020-02-24T00:00:00\",\"2020-02-25T00:00:00\",\"2020-02-25T01:00:00\",\"2020-02-25T12:00:00\",\"2020-02-25T14:00:00\",\"2020-02-25T18:00:00\",\"2020-02-25T19:00:00\",\"2020-02-26T00:00:00\",\"2020-02-26T10:00:00\",\"2020-02-26T12:00:00\",\"2020-02-27T02:00:00\",\"2020-02-27T08:00:00\",\"2020-02-27T13:00:00\",\"2020-02-27T18:00:00\",\"2020-02-28T05:00:00\",\"2020-02-28T09:00:00\",\"2020-02-28T22:00:00\",\"2020-02-29T00:00:00\",\"2020-02-29T01:00:00\",\"2020-02-29T02:00:00\",\"2020-02-29T11:00:00\",\"2020-02-29T12:00:00\",\"2020-02-29T13:00:00\",\"2020-02-29T14:00:00\",\"2020-02-29T18:00:00\",\"2020-02-29T22:00:00\",\"2020-03-01T06:00:00\",\"2020-03-01T14:00:00\",\"2020-03-01T16:00:00\",\"2020-03-01T18:00:00\",\"2020-03-01T19:00:00\",\"2020-03-01T20:00:00\",\"2020-03-02T00:00:00\",\"2020-03-02T09:00:00\",\"2020-03-02T12:00:00\",\"2020-03-02T18:00:00\",\"2020-03-03T07:00:00\",\"2020-03-03T10:00:00\",\"2020-03-03T13:00:00\",\"2020-03-03T22:00:00\",\"2020-03-03T23:00:00\",\"2020-03-05T00:00:00\",\"2020-03-05T05:00:00\",\"2020-03-05T10:00:00\",\"2020-03-06T18:00:00\",\"2020-03-07T00:00:00\",\"2020-03-07T08:00:00\",\"2020-03-07T21:00:00\",\"2020-03-07T23:00:00\",\"2020-03-08T02:00:00\",\"2020-03-08T03:00:00\",\"2020-03-08T10:00:00\",\"2020-03-08T12:00:00\",\"2020-03-08T13:00:00\",\"2020-03-08T21:00:00\",\"2020-03-09T06:00:00\",\"2020-03-09T09:00:00\",\"2020-03-09T23:00:00\",\"2020-03-10T07:00:00\",\"2020-03-10T08:00:00\",\"2020-03-10T09:00:00\",\"2020-03-10T14:00:00\",\"2020-03-10T16:00:00\",\"2020-03-10T20:00:00\",\"2020-03-10T23:00:00\",\"2020-03-11T02:00:00\",\"2020-03-11T03:00:00\",\"2020-03-11T05:00:00\",\"2020-03-11T09:00:00\",\"2020-03-11T10:00:00\",\"2020-03-11T20:00:00\",\"2020-03-11T21:00:00\",\"2020-03-12T12:00:00\",\"2020-03-12T18:00:00\",\"2020-03-12T21:00:00\",\"2020-03-12T22:00:00\",\"2020-03-13T04:00:00\",\"2020-03-13T10:00:00\",\"2020-03-13T16:00:00\",\"2020-03-14T06:00:00\",\"2020-03-14T09:00:00\",\"2020-03-14T10:00:00\",\"2020-03-14T13:00:00\",\"2020-03-14T21:00:00\",\"2020-03-15T02:00:00\",\"2020-03-15T13:00:00\",\"2020-03-15T15:00:00\",\"2020-03-15T18:00:00\",\"2020-03-15T19:00:00\",\"2020-03-16T06:00:00\",\"2020-03-16T10:00:00\",\"2020-03-16T14:00:00\",\"2020-03-16T16:00:00\",\"2020-03-16T19:00:00\",\"2020-03-16T23:00:00\",\"2020-03-17T00:00:00\",\"2020-03-17T07:00:00\",\"2020-03-17T08:00:00\",\"2020-03-17T11:00:00\",\"2020-03-17T14:00:00\",\"2020-03-17T17:00:00\",\"2020-03-17T18:00:00\",\"2020-03-17T21:00:00\",\"2020-03-18T13:00:00\",\"2020-03-18T19:00:00\",\"2020-03-19T06:00:00\",\"2020-03-19T09:00:00\",\"2020-03-19T15:00:00\",\"2020-03-20T01:00:00\",\"2020-03-20T02:00:00\",\"2020-03-20T06:00:00\",\"2020-03-20T09:00:00\",\"2020-03-20T12:00:00\",\"2020-03-20T18:00:00\",\"2020-03-20T23:00:00\",\"2020-03-21T01:00:00\",\"2020-03-21T16:00:00\",\"2020-03-21T19:00:00\",\"2020-03-22T01:00:00\",\"2020-03-22T12:00:00\",\"2020-03-22T14:00:00\",\"2020-03-22T21:00:00\",\"2020-03-22T22:00:00\",\"2020-03-23T01:00:00\",\"2020-03-23T07:00:00\",\"2020-03-23T13:00:00\",\"2020-03-23T18:00:00\",\"2020-03-24T08:00:00\",\"2020-03-24T19:00:00\",\"2020-03-24T21:00:00\",\"2020-03-25T01:00:00\",\"2020-03-25T08:00:00\",\"2020-03-25T10:00:00\",\"2020-03-25T13:00:00\",\"2020-03-25T18:00:00\",\"2020-03-26T18:00:00\",\"2020-03-26T19:00:00\",\"2020-03-27T12:00:00\",\"2020-03-27T15:00:00\",\"2020-03-27T17:00:00\",\"2020-03-28T00:00:00\",\"2020-03-28T05:00:00\",\"2020-03-28T13:00:00\",\"2020-03-28T14:00:00\",\"2020-03-28T20:00:00\",\"2020-03-28T21:00:00\",\"2020-03-29T00:00:00\",\"2020-03-29T23:00:00\",\"2020-03-30T07:00:00\",\"2020-03-30T14:00:00\",\"2020-03-30T16:00:00\",\"2020-03-31T01:00:00\",\"2020-03-31T12:00:00\",\"2020-03-31T14:00:00\",\"2020-03-31T17:00:00\",\"2020-03-31T19:00:00\",\"2020-04-01T09:00:00\",\"2020-04-01T10:00:00\",\"2020-04-01T18:00:00\",\"2020-04-01T22:00:00\",\"2020-04-02T03:00:00\",\"2020-04-02T07:00:00\",\"2020-04-02T10:00:00\",\"2020-04-03T20:00:00\",\"2020-04-04T07:00:00\",\"2020-04-04T08:00:00\",\"2020-04-04T11:00:00\",\"2020-04-05T00:00:00\",\"2020-04-05T01:00:00\",\"2020-04-05T03:00:00\",\"2020-04-05T07:00:00\",\"2020-04-05T08:00:00\",\"2020-04-05T10:00:00\",\"2020-04-05T11:00:00\",\"2020-04-05T16:00:00\",\"2020-04-05T17:00:00\",\"2020-04-06T11:00:00\",\"2020-04-06T12:00:00\",\"2020-04-06T21:00:00\",\"2020-04-06T23:00:00\",\"2020-04-07T05:00:00\",\"2020-04-07T13:00:00\",\"2020-04-07T14:00:00\",\"2020-04-07T16:00:00\",\"2020-04-07T17:00:00\",\"2020-04-08T11:00:00\",\"2020-04-08T14:00:00\",\"2020-04-08T15:00:00\",\"2020-04-08T17:00:00\",\"2020-04-08T22:00:00\",\"2020-04-09T00:00:00\",\"2020-04-09T11:00:00\",\"2020-04-09T16:00:00\",\"2020-04-09T18:00:00\",\"2020-04-09T22:00:00\",\"2020-04-10T10:00:00\",\"2020-04-10T11:00:00\",\"2020-04-10T15:00:00\",\"2020-04-10T16:00:00\",\"2020-04-10T17:00:00\",\"2020-04-10T18:00:00\",\"2020-04-10T20:00:00\",\"2020-04-11T04:00:00\",\"2020-04-11T10:00:00\",\"2020-04-11T13:00:00\",\"2020-04-11T14:00:00\",\"2020-04-11T20:00:00\",\"2020-04-12T03:00:00\",\"2020-04-12T12:00:00\",\"2020-04-12T13:00:00\",\"2020-04-13T02:00:00\",\"2020-04-13T11:00:00\",\"2020-04-13T13:00:00\",\"2020-04-13T22:00:00\",\"2020-04-14T06:00:00\",\"2020-04-14T14:00:00\",\"2020-04-14T15:00:00\",\"2020-04-14T22:00:00\",\"2020-04-14T23:00:00\",\"2020-04-15T00:00:00\",\"2020-04-15T13:00:00\",\"2020-04-15T14:00:00\",\"2020-04-15T20:00:00\",\"2020-04-16T01:00:00\",\"2020-04-16T21:00:00\",\"2020-04-17T02:00:00\",\"2020-04-17T05:00:00\",\"2020-04-17T07:00:00\",\"2020-04-17T12:00:00\",\"2020-04-17T21:00:00\",\"2020-04-18T00:00:00\",\"2020-04-18T05:00:00\",\"2020-04-18T06:00:00\",\"2020-04-18T10:00:00\",\"2020-04-18T14:00:00\",\"2020-04-18T17:00:00\",\"2020-04-19T10:00:00\",\"2020-04-19T21:00:00\",\"2020-04-20T07:00:00\",\"2020-04-20T08:00:00\",\"2020-04-20T13:00:00\",\"2020-04-20T14:00:00\",\"2020-04-20T17:00:00\",\"2020-04-20T22:00:00\",\"2020-04-21T01:00:00\",\"2020-04-21T12:00:00\",\"2020-04-21T14:00:00\",\"2020-04-21T16:00:00\",\"2020-04-21T17:00:00\",\"2020-04-21T20:00:00\",\"2020-04-22T00:00:00\",\"2020-04-22T01:00:00\",\"2020-04-22T09:00:00\",\"2020-04-22T12:00:00\",\"2020-04-22T17:00:00\",\"2020-04-22T20:00:00\",\"2020-04-23T00:00:00\",\"2020-04-23T16:00:00\",\"2020-04-23T22:00:00\",\"2020-04-24T06:00:00\",\"2020-04-24T15:00:00\",\"2020-04-24T17:00:00\",\"2020-04-25T06:00:00\",\"2020-04-25T12:00:00\",\"2020-04-25T21:00:00\",\"2020-04-25T23:00:00\",\"2020-04-26T12:00:00\",\"2020-04-26T15:00:00\",\"2020-04-26T17:00:00\",\"2020-04-27T01:00:00\",\"2020-04-27T05:00:00\",\"2020-04-27T23:00:00\",\"2020-04-28T08:00:00\",\"2020-04-28T15:00:00\",\"2020-04-28T17:00:00\",\"2020-04-29T00:00:00\",\"2020-04-29T01:00:00\",\"2020-04-29T07:00:00\",\"2020-04-29T08:00:00\",\"2020-04-29T11:00:00\",\"2020-04-29T17:00:00\",\"2020-04-29T18:00:00\",\"2020-04-29T22:00:00\",\"2020-04-30T02:00:00\",\"2020-04-30T09:00:00\",\"2020-04-30T14:00:00\",\"2020-04-30T19:00:00\",\"2020-04-30T23:00:00\",\"2020-05-01T00:00:00\",\"2020-05-01T01:00:00\",\"2020-05-01T06:00:00\",\"2020-05-01T07:00:00\",\"2020-05-01T08:00:00\",\"2020-05-01T12:00:00\",\"2020-05-01T15:00:00\",\"2020-05-01T20:00:00\",\"2020-05-01T23:00:00\",\"2020-05-02T02:00:00\",\"2020-05-02T03:00:00\",\"2020-05-02T04:00:00\",\"2020-05-02T07:00:00\",\"2020-05-02T10:00:00\",\"2020-05-02T18:00:00\",\"2020-05-02T20:00:00\",\"2020-05-03T09:00:00\",\"2020-05-03T23:00:00\",\"2020-05-04T08:00:00\",\"2020-05-04T12:00:00\",\"2020-05-04T13:00:00\",\"2020-05-04T18:00:00\",\"2020-05-05T00:00:00\",\"2020-05-05T12:00:00\",\"2020-05-05T14:00:00\",\"2020-05-05T21:00:00\",\"2020-05-05T23:00:00\",\"2020-05-06T00:00:00\",\"2020-05-06T08:00:00\",\"2020-05-06T19:00:00\",\"2020-05-07T05:00:00\",\"2020-05-07T10:00:00\",\"2020-05-07T11:00:00\",\"2020-05-07T14:00:00\",\"2020-05-07T16:00:00\",\"2020-05-07T22:00:00\",\"2020-05-08T00:00:00\",\"2020-05-08T02:00:00\",\"2020-05-08T08:00:00\",\"2020-05-08T10:00:00\",\"2020-05-08T13:00:00\",\"2020-05-08T15:00:00\",\"2020-05-09T00:00:00\",\"2020-05-09T01:00:00\",\"2020-05-09T03:00:00\",\"2020-05-09T09:00:00\",\"2020-05-09T21:00:00\",\"2020-05-10T02:00:00\",\"2020-05-10T07:00:00\",\"2020-05-10T08:00:00\",\"2020-05-10T14:00:00\",\"2020-05-10T16:00:00\",\"2020-05-10T20:00:00\",\"2020-05-11T02:00:00\",\"2020-05-11T15:00:00\",\"2020-05-11T23:00:00\",\"2020-05-12T05:00:00\",\"2020-05-12T09:00:00\",\"2020-05-12T19:00:00\",\"2020-05-13T00:00:00\",\"2020-05-13T07:00:00\",\"2020-05-13T10:00:00\",\"2020-05-13T15:00:00\",\"2020-05-13T16:00:00\",\"2020-05-13T21:00:00\",\"2020-05-14T00:00:00\",\"2020-05-14T19:00:00\",\"2020-05-15T00:00:00\",\"2020-05-15T02:00:00\",\"2020-05-15T05:00:00\",\"2020-05-15T13:00:00\",\"2020-05-15T15:00:00\",\"2020-05-15T22:00:00\",\"2020-05-16T00:00:00\",\"2020-05-16T04:00:00\",\"2020-05-16T06:00:00\",\"2020-05-16T17:00:00\",\"2020-05-16T23:00:00\",\"2020-05-17T08:00:00\",\"2020-05-17T12:00:00\",\"2020-05-18T06:00:00\",\"2020-05-18T08:00:00\",\"2020-05-18T10:00:00\",\"2020-05-18T23:00:00\",\"2020-05-19T14:00:00\",\"2020-05-20T01:00:00\",\"2020-05-20T09:00:00\",\"2020-05-20T19:00:00\",\"2020-05-21T01:00:00\",\"2020-05-21T05:00:00\",\"2020-05-21T10:00:00\",\"2020-05-21T12:00:00\",\"2020-05-22T03:00:00\",\"2020-05-22T11:00:00\",\"2020-05-22T20:00:00\",\"2020-05-22T21:00:00\",\"2020-05-23T00:00:00\",\"2020-05-23T05:00:00\",\"2020-05-23T10:00:00\",\"2020-05-23T12:00:00\",\"2020-05-23T14:00:00\",\"2020-05-23T18:00:00\",\"2020-05-23T19:00:00\",\"2020-05-23T22:00:00\",\"2020-05-24T14:00:00\",\"2020-05-24T15:00:00\",\"2020-05-24T19:00:00\",\"2020-05-25T08:00:00\",\"2020-05-25T12:00:00\",\"2020-05-25T19:00:00\",\"2020-05-26T00:00:00\",\"2020-05-26T07:00:00\",\"2020-05-26T09:00:00\",\"2020-05-26T10:00:00\",\"2020-05-26T18:00:00\",\"2020-05-26T19:00:00\",\"2020-05-27T00:00:00\",\"2020-05-27T02:00:00\",\"2020-05-27T05:00:00\",\"2020-05-27T06:00:00\",\"2020-05-27T14:00:00\",\"2020-05-27T20:00:00\",\"2020-05-27T22:00:00\",\"2020-05-28T05:00:00\",\"2020-05-28T13:00:00\",\"2020-05-28T16:00:00\",\"2020-05-28T22:00:00\",\"2020-05-29T00:00:00\",\"2020-05-29T01:00:00\",\"2020-05-29T07:00:00\",\"2020-05-29T13:00:00\",\"2020-05-29T15:00:00\",\"2020-05-30T02:00:00\",\"2020-05-30T10:00:00\",\"2020-05-30T17:00:00\",\"2020-05-30T22:00:00\",\"2020-05-31T07:00:00\",\"2020-05-31T08:00:00\",\"2020-05-31T18:00:00\",\"2020-05-31T19:00:00\",\"2020-05-31T21:00:00\",\"2020-06-01T01:00:00\",\"2020-06-01T16:00:00\",\"2020-06-01T21:00:00\",\"2020-06-02T11:00:00\",\"2020-06-03T06:00:00\",\"2020-06-03T07:00:00\",\"2020-06-03T13:00:00\",\"2020-06-03T23:00:00\",\"2020-06-04T11:00:00\",\"2020-06-04T13:00:00\",\"2020-06-04T14:00:00\",\"2020-06-05T02:00:00\",\"2020-06-05T06:00:00\",\"2020-06-06T00:00:00\",\"2020-06-06T12:00:00\",\"2020-06-06T14:00:00\",\"2020-06-06T20:00:00\",\"2020-06-07T00:00:00\",\"2020-06-07T21:00:00\",\"2020-06-08T01:00:00\",\"2020-06-08T03:00:00\",\"2020-06-08T14:00:00\",\"2020-06-08T15:00:00\",\"2020-06-08T17:00:00\",\"2020-06-08T20:00:00\",\"2020-06-09T07:00:00\",\"2020-06-09T19:00:00\",\"2020-06-10T06:00:00\",\"2020-06-10T17:00:00\",\"2020-06-11T06:00:00\",\"2020-06-11T10:00:00\",\"2020-06-11T13:00:00\",\"2020-06-11T17:00:00\",\"2020-06-11T23:00:00\",\"2020-06-12T07:00:00\",\"2020-06-12T12:00:00\",\"2020-06-12T21:00:00\",\"2020-06-13T07:00:00\",\"2020-06-13T14:00:00\",\"2020-06-13T17:00:00\",\"2020-06-13T20:00:00\",\"2020-06-14T15:00:00\",\"2020-06-14T20:00:00\",\"2020-06-14T21:00:00\",\"2020-06-14T23:00:00\",\"2020-06-15T07:00:00\",\"2020-06-15T09:00:00\",\"2020-06-15T10:00:00\",\"2020-06-16T07:00:00\",\"2020-06-16T08:00:00\",\"2020-06-16T17:00:00\",\"2020-06-17T00:00:00\",\"2020-06-17T22:00:00\",\"2020-06-18T06:00:00\",\"2020-06-18T07:00:00\",\"2020-06-18T09:00:00\",\"2020-06-18T20:00:00\",\"2020-06-18T22:00:00\",\"2020-06-19T00:00:00\",\"2020-06-19T16:00:00\",\"2020-06-20T04:00:00\",\"2020-06-20T16:00:00\",\"2020-06-21T02:00:00\",\"2020-06-21T13:00:00\",\"2020-06-21T17:00:00\",\"2020-06-22T05:00:00\",\"2020-06-22T08:00:00\",\"2020-06-22T09:00:00\",\"2020-06-22T11:00:00\",\"2020-06-22T16:00:00\",\"2020-06-22T17:00:00\",\"2020-06-23T01:00:00\",\"2020-06-23T12:00:00\",\"2020-06-23T13:00:00\",\"2020-06-23T19:00:00\",\"2020-06-24T00:00:00\",\"2020-06-24T02:00:00\",\"2020-06-24T07:00:00\",\"2020-06-24T14:00:00\",\"2020-06-25T06:00:00\",\"2020-06-25T07:00:00\",\"2020-06-25T12:00:00\",\"2020-06-25T20:00:00\",\"2020-06-26T03:00:00\",\"2020-06-26T21:00:00\",\"2020-06-27T00:00:00\",\"2020-06-27T11:00:00\",\"2020-06-27T19:00:00\",\"2020-06-27T20:00:00\",\"2020-06-28T00:00:00\",\"2020-06-28T01:00:00\",\"2020-06-28T06:00:00\",\"2020-06-28T12:00:00\",\"2020-06-28T16:00:00\",\"2020-06-28T18:00:00\",\"2020-06-28T21:00:00\",\"2020-06-29T06:00:00\",\"2020-06-29T12:00:00\",\"2020-06-29T16:00:00\",\"2020-06-30T06:00:00\",\"2020-06-30T11:00:00\",\"2020-06-30T13:00:00\",\"2020-06-30T16:00:00\",\"2020-06-30T23:00:00\",\"2020-07-01T21:00:00\",\"2020-07-01T22:00:00\",\"2020-07-02T05:00:00\",\"2020-07-02T14:00:00\",\"2020-07-02T20:00:00\",\"2020-07-03T01:00:00\",\"2020-07-03T08:00:00\",\"2020-07-03T10:00:00\",\"2020-07-03T17:00:00\",\"2020-07-03T22:00:00\",\"2020-07-04T11:00:00\",\"2020-07-04T15:00:00\",\"2020-07-04T23:00:00\",\"2020-07-05T11:00:00\",\"2020-07-05T16:00:00\",\"2020-07-05T17:00:00\",\"2020-07-05T22:00:00\",\"2020-07-06T00:00:00\",\"2020-07-06T06:00:00\",\"2020-07-06T11:00:00\",\"2020-07-06T15:00:00\",\"2020-07-06T16:00:00\",\"2020-07-07T08:00:00\",\"2020-07-07T10:00:00\",\"2020-07-07T14:00:00\",\"2020-07-07T16:00:00\",\"2020-07-07T18:00:00\",\"2020-07-08T11:00:00\",\"2020-07-08T13:00:00\",\"2020-07-09T07:00:00\",\"2020-07-09T11:00:00\",\"2020-07-09T15:00:00\",\"2020-07-09T20:00:00\",\"2020-07-09T23:00:00\",\"2020-07-10T00:00:00\",\"2020-07-10T02:00:00\",\"2020-07-10T08:00:00\",\"2020-07-11T02:00:00\",\"2020-07-11T04:00:00\",\"2020-07-11T06:00:00\",\"2020-07-11T23:00:00\",\"2020-07-12T01:00:00\",\"2020-07-12T02:00:00\",\"2020-07-12T09:00:00\",\"2020-07-12T20:00:00\",\"2020-07-13T10:00:00\",\"2020-07-13T11:00:00\",\"2020-07-13T18:00:00\",\"2020-07-14T12:00:00\",\"2020-07-14T14:00:00\",\"2020-07-14T15:00:00\",\"2020-07-15T02:00:00\",\"2020-07-15T08:00:00\",\"2020-07-15T12:00:00\",\"2020-07-15T15:00:00\",\"2020-07-16T06:00:00\",\"2020-07-16T12:00:00\",\"2020-07-16T21:00:00\",\"2020-07-16T23:00:00\",\"2020-07-17T05:00:00\",\"2020-07-17T09:00:00\",\"2020-07-17T10:00:00\",\"2020-07-18T14:00:00\",\"2020-07-18T19:00:00\",\"2020-07-18T23:00:00\",\"2020-07-19T05:00:00\",\"2020-07-19T12:00:00\",\"2020-07-19T15:00:00\",\"2020-07-19T23:00:00\",\"2020-07-20T06:00:00\",\"2020-07-20T21:00:00\",\"2020-07-21T04:00:00\",\"2020-07-21T11:00:00\",\"2020-07-21T19:00:00\",\"2020-07-22T01:00:00\",\"2020-07-22T11:00:00\",\"2020-07-22T15:00:00\",\"2020-07-22T23:00:00\",\"2020-07-23T15:00:00\",\"2020-07-24T01:00:00\",\"2020-07-24T07:00:00\",\"2020-07-24T11:00:00\",\"2020-07-25T17:00:00\",\"2020-07-26T05:00:00\",\"2020-07-26T13:00:00\",\"2020-07-27T15:00:00\",\"2020-07-27T17:00:00\",\"2020-07-27T19:00:00\",\"2020-07-27T21:00:00\",\"2020-07-28T11:00:00\",\"2020-07-28T15:00:00\",\"2020-07-28T17:00:00\",\"2020-07-28T18:00:00\",\"2020-07-29T02:00:00\",\"2020-07-29T08:00:00\",\"2020-07-29T09:00:00\",\"2020-07-30T04:00:00\",\"2020-07-30T22:00:00\",\"2020-07-31T01:00:00\",\"2020-07-31T08:00:00\",\"2020-07-31T09:00:00\",\"2020-07-31T15:00:00\",\"2020-07-31T19:00:00\",\"2020-07-31T21:00:00\",\"2020-08-01T00:00:00\",\"2020-08-01T05:00:00\",\"2020-08-02T01:00:00\",\"2020-08-02T06:00:00\",\"2020-08-02T11:00:00\",\"2020-08-02T16:00:00\",\"2020-08-02T17:00:00\",\"2020-08-03T01:00:00\",\"2020-08-03T09:00:00\",\"2020-08-03T10:00:00\",\"2020-08-04T02:00:00\",\"2020-08-04T08:00:00\",\"2020-08-04T13:00:00\",\"2020-08-04T15:00:00\",\"2020-08-04T18:00:00\",\"2020-08-04T21:00:00\",\"2020-08-04T22:00:00\",\"2020-08-05T07:00:00\",\"2020-08-05T08:00:00\",\"2020-08-05T12:00:00\",\"2020-08-05T15:00:00\",\"2020-08-05T20:00:00\",\"2020-08-05T22:00:00\",\"2020-08-06T05:00:00\",\"2020-08-06T07:00:00\",\"2020-08-06T15:00:00\",\"2020-08-06T21:00:00\",\"2020-08-07T03:00:00\",\"2020-08-07T08:00:00\",\"2020-08-07T09:00:00\",\"2020-08-07T15:00:00\",\"2020-08-07T18:00:00\",\"2020-08-08T00:00:00\",\"2020-08-08T01:00:00\",\"2020-08-08T02:00:00\",\"2020-08-08T03:00:00\",\"2020-08-08T14:00:00\",\"2020-08-08T17:00:00\",\"2020-08-08T18:00:00\",\"2020-08-09T00:00:00\",\"2020-08-09T01:00:00\",\"2020-08-09T10:00:00\",\"2020-08-09T15:00:00\",\"2020-08-09T16:00:00\",\"2020-08-09T17:00:00\",\"2020-08-09T19:00:00\",\"2020-08-09T21:00:00\",\"2020-08-10T01:00:00\",\"2020-08-10T15:00:00\",\"2020-08-10T17:00:00\",\"2020-08-10T18:00:00\",\"2020-08-10T21:00:00\",\"2020-08-10T22:00:00\",\"2020-08-11T00:00:00\",\"2020-08-11T05:00:00\",\"2020-08-11T06:00:00\",\"2020-08-11T14:00:00\",\"2020-08-11T16:00:00\",\"2020-08-11T20:00:00\",\"2020-08-12T00:00:00\",\"2020-08-12T07:00:00\",\"2020-08-12T11:00:00\",\"2020-08-12T12:00:00\",\"2020-08-13T00:00:00\",\"2020-08-13T05:00:00\",\"2020-08-13T08:00:00\",\"2020-08-13T13:00:00\",\"2020-08-13T15:00:00\",\"2020-08-13T16:00:00\",\"2020-08-13T19:00:00\",\"2020-08-13T20:00:00\",\"2020-08-13T21:00:00\",\"2020-08-14T06:00:00\",\"2020-08-14T16:00:00\",\"2020-08-14T20:00:00\",\"2020-08-15T01:00:00\",\"2020-08-15T02:00:00\",\"2020-08-15T06:00:00\",\"2020-08-15T08:00:00\",\"2020-08-15T09:00:00\",\"2020-08-15T12:00:00\",\"2020-08-15T16:00:00\",\"2020-08-15T19:00:00\",\"2020-08-15T22:00:00\",\"2020-08-15T23:00:00\",\"2020-08-16T15:00:00\",\"2020-08-16T18:00:00\",\"2020-08-17T00:00:00\",\"2020-08-17T02:00:00\",\"2020-08-17T15:00:00\",\"2020-08-17T20:00:00\",\"2020-08-17T21:00:00\",\"2020-08-17T23:00:00\",\"2020-08-18T05:00:00\",\"2020-08-18T16:00:00\",\"2020-08-18T17:00:00\",\"2020-08-19T06:00:00\",\"2020-08-19T07:00:00\",\"2020-08-19T14:00:00\",\"2020-08-19T17:00:00\",\"2020-08-19T18:00:00\",\"2020-08-19T23:00:00\",\"2020-08-20T00:00:00\",\"2020-08-20T14:00:00\",\"2020-08-20T18:00:00\",\"2020-08-21T01:00:00\",\"2020-08-21T05:00:00\",\"2020-08-21T12:00:00\",\"2020-08-22T04:00:00\",\"2020-08-22T07:00:00\",\"2020-08-22T10:00:00\",\"2020-08-22T13:00:00\",\"2020-08-22T14:00:00\",\"2020-08-22T15:00:00\",\"2020-08-23T02:00:00\",\"2020-08-23T17:00:00\",\"2020-08-24T09:00:00\",\"2020-08-24T10:00:00\",\"2020-08-24T17:00:00\",\"2020-08-25T04:00:00\",\"2020-08-25T06:00:00\",\"2020-08-25T11:00:00\",\"2020-08-25T13:00:00\",\"2020-08-25T16:00:00\",\"2020-08-25T19:00:00\",\"2020-08-25T20:00:00\",\"2020-08-26T00:00:00\",\"2020-08-26T07:00:00\",\"2020-08-26T10:00:00\",\"2020-08-27T00:00:00\",\"2020-08-27T07:00:00\",\"2020-08-27T08:00:00\",\"2020-08-27T17:00:00\",\"2020-08-28T00:00:00\",\"2020-08-28T12:00:00\",\"2020-08-28T14:00:00\",\"2020-08-28T16:00:00\",\"2020-08-28T22:00:00\",\"2020-08-29T13:00:00\",\"2020-08-30T01:00:00\",\"2020-08-30T14:00:00\",\"2020-08-30T17:00:00\",\"2020-08-30T21:00:00\",\"2020-08-30T23:00:00\",\"2020-08-31T04:00:00\",\"2020-08-31T06:00:00\",\"2020-08-31T09:00:00\",\"2020-08-31T10:00:00\",\"2020-08-31T13:00:00\",\"2020-08-31T16:00:00\",\"2020-09-01T07:00:00\",\"2020-09-01T14:00:00\",\"2020-09-02T14:00:00\",\"2020-09-02T21:00:00\",\"2020-09-03T08:00:00\",\"2020-09-04T07:00:00\",\"2020-09-04T08:00:00\",\"2020-09-05T02:00:00\",\"2020-09-05T04:00:00\",\"2020-09-05T08:00:00\",\"2020-09-06T10:00:00\",\"2020-09-06T13:00:00\",\"2020-09-06T15:00:00\",\"2020-09-07T13:00:00\",\"2020-09-07T17:00:00\",\"2020-09-07T23:00:00\",\"2020-09-08T07:00:00\",\"2020-09-08T08:00:00\",\"2020-09-08T11:00:00\",\"2020-09-08T14:00:00\",\"2020-09-09T00:00:00\",\"2020-09-09T09:00:00\",\"2020-09-09T12:00:00\",\"2020-09-09T21:00:00\",\"2020-09-09T23:00:00\",\"2020-09-10T07:00:00\",\"2020-09-10T09:00:00\",\"2020-09-10T16:00:00\",\"2020-09-10T22:00:00\",\"2020-09-11T02:00:00\",\"2020-09-11T08:00:00\",\"2020-09-11T14:00:00\",\"2020-09-11T18:00:00\",\"2020-09-11T21:00:00\",\"2020-09-11T22:00:00\",\"2020-09-12T08:00:00\",\"2020-09-12T14:00:00\",\"2020-09-13T08:00:00\",\"2020-09-13T14:00:00\",\"2020-09-13T17:00:00\",\"2020-09-14T07:00:00\",\"2020-09-14T08:00:00\",\"2020-09-14T13:00:00\",\"2020-09-14T15:00:00\",\"2020-09-14T21:00:00\",\"2020-09-15T01:00:00\",\"2020-09-15T19:00:00\",\"2020-09-15T20:00:00\",\"2020-09-16T01:00:00\",\"2020-09-16T04:00:00\",\"2020-09-16T06:00:00\",\"2020-09-16T09:00:00\",\"2020-09-16T13:00:00\",\"2020-09-16T14:00:00\",\"2020-09-16T17:00:00\",\"2020-09-16T20:00:00\",\"2020-09-17T07:00:00\",\"2020-09-17T16:00:00\",\"2020-09-17T18:00:00\",\"2020-09-17T19:00:00\",\"2020-09-17T20:00:00\",\"2020-09-17T22:00:00\",\"2020-09-18T03:00:00\",\"2020-09-18T04:00:00\",\"2020-09-18T11:00:00\",\"2020-09-18T12:00:00\",\"2020-09-18T15:00:00\",\"2020-09-18T16:00:00\",\"2020-09-18T21:00:00\",\"2020-09-19T00:00:00\",\"2020-09-19T05:00:00\",\"2020-09-19T18:00:00\",\"2020-09-19T22:00:00\",\"2020-09-20T01:00:00\",\"2020-09-20T15:00:00\",\"2020-09-20T20:00:00\",\"2020-09-21T07:00:00\",\"2020-09-21T13:00:00\",\"2020-09-21T22:00:00\",\"2020-09-21T23:00:00\",\"2020-09-22T04:00:00\",\"2020-09-22T06:00:00\",\"2020-09-22T10:00:00\",\"2020-09-22T11:00:00\",\"2020-09-22T14:00:00\",\"2020-09-22T15:00:00\",\"2020-09-23T11:00:00\",\"2020-09-23T12:00:00\",\"2020-09-24T00:00:00\",\"2020-09-24T07:00:00\",\"2020-09-24T08:00:00\",\"2020-09-24T11:00:00\",\"2020-09-24T16:00:00\",\"2020-09-24T20:00:00\",\"2020-09-24T21:00:00\",\"2020-09-24T23:00:00\",\"2020-09-25T10:00:00\",\"2020-09-25T12:00:00\",\"2020-09-25T17:00:00\",\"2020-09-26T15:00:00\",\"2020-09-26T18:00:00\",\"2020-09-26T21:00:00\",\"2020-09-27T05:00:00\",\"2020-09-27T09:00:00\",\"2020-09-27T16:00:00\",\"2020-09-27T20:00:00\",\"2020-09-28T00:00:00\",\"2020-09-28T04:00:00\",\"2020-09-28T06:00:00\",\"2020-09-28T15:00:00\",\"2020-09-28T16:00:00\",\"2020-09-28T18:00:00\",\"2020-09-28T19:00:00\",\"2020-09-28T23:00:00\",\"2020-09-29T05:00:00\",\"2020-09-29T06:00:00\",\"2020-09-29T18:00:00\",\"2020-09-30T02:00:00\",\"2020-09-30T11:00:00\",\"2020-09-30T12:00:00\",\"2020-09-30T15:00:00\",\"2020-09-30T19:00:00\",\"2020-09-30T21:00:00\",\"2020-10-01T04:00:00\",\"2020-10-01T07:00:00\",\"2020-10-01T09:00:00\",\"2020-10-01T14:00:00\",\"2020-10-01T21:00:00\",\"2020-10-02T00:00:00\",\"2020-10-02T04:00:00\",\"2020-10-02T14:00:00\",\"2020-10-02T15:00:00\",\"2020-10-02T22:00:00\",\"2020-10-03T00:00:00\",\"2020-10-03T04:00:00\",\"2020-10-03T11:00:00\",\"2020-10-03T12:00:00\",\"2020-10-03T13:00:00\",\"2020-10-04T02:00:00\",\"2020-10-04T07:00:00\",\"2020-10-04T08:00:00\",\"2020-10-04T17:00:00\",\"2020-10-04T23:00:00\",\"2020-10-05T10:00:00\",\"2020-10-06T06:00:00\",\"2020-10-06T13:00:00\",\"2020-10-06T14:00:00\",\"2020-10-06T15:00:00\",\"2020-10-06T22:00:00\",\"2020-10-07T02:00:00\",\"2020-10-07T04:00:00\",\"2020-10-07T05:00:00\",\"2020-10-07T11:00:00\",\"2020-10-07T13:00:00\",\"2020-10-07T22:00:00\",\"2020-10-08T17:00:00\",\"2020-10-09T02:00:00\",\"2020-10-09T03:00:00\",\"2020-10-09T04:00:00\",\"2020-10-09T07:00:00\",\"2020-10-09T09:00:00\",\"2020-10-09T18:00:00\",\"2020-10-10T03:00:00\",\"2020-10-10T13:00:00\",\"2020-10-11T05:00:00\",\"2020-10-11T06:00:00\",\"2020-10-11T07:00:00\",\"2020-10-11T09:00:00\",\"2020-10-11T15:00:00\",\"2020-10-12T00:00:00\",\"2020-10-12T05:00:00\",\"2020-10-12T11:00:00\",\"2020-10-12T12:00:00\",\"2020-10-12T13:00:00\",\"2020-10-12T21:00:00\",\"2020-10-13T00:00:00\",\"2020-10-13T09:00:00\",\"2020-10-13T10:00:00\",\"2020-10-13T13:00:00\",\"2020-10-13T17:00:00\",\"2020-10-14T17:00:00\",\"2020-10-14T21:00:00\",\"2020-10-14T23:00:00\",\"2020-10-15T01:00:00\",\"2020-10-15T10:00:00\",\"2020-10-15T11:00:00\",\"2020-10-15T18:00:00\",\"2020-10-16T08:00:00\",\"2020-10-16T23:00:00\",\"2020-10-17T04:00:00\",\"2020-10-17T08:00:00\",\"2020-10-18T08:00:00\",\"2020-10-18T10:00:00\",\"2020-10-18T11:00:00\",\"2020-10-18T16:00:00\",\"2020-10-19T01:00:00\",\"2020-10-19T06:00:00\",\"2020-10-19T14:00:00\",\"2020-10-20T04:00:00\",\"2020-10-20T06:00:00\",\"2020-10-20T09:00:00\",\"2020-10-20T18:00:00\",\"2020-10-20T21:00:00\",\"2020-10-21T08:00:00\",\"2020-10-21T16:00:00\",\"2020-10-22T00:00:00\",\"2020-10-22T09:00:00\",\"2020-10-22T13:00:00\",\"2020-10-22T19:00:00\",\"2020-10-22T20:00:00\",\"2020-10-22T21:00:00\",\"2020-10-23T02:00:00\",\"2020-10-23T03:00:00\",\"2020-10-23T14:00:00\",\"2020-10-23T16:00:00\",\"2020-10-23T17:00:00\",\"2020-10-23T20:00:00\",\"2020-10-23T22:00:00\",\"2020-10-24T01:00:00\",\"2020-10-24T02:00:00\",\"2020-10-24T13:00:00\",\"2020-10-24T19:00:00\",\"2020-10-25T11:00:00\",\"2020-10-25T19:00:00\",\"2020-10-26T06:00:00\",\"2020-10-26T09:00:00\",\"2020-10-26T10:00:00\",\"2020-10-26T12:00:00\",\"2020-10-26T14:00:00\",\"2020-10-26T17:00:00\",\"2020-10-26T23:00:00\",\"2020-10-27T02:00:00\",\"2020-10-27T06:00:00\",\"2020-10-27T11:00:00\",\"2020-10-28T08:00:00\",\"2020-10-28T11:00:00\",\"2020-10-28T16:00:00\",\"2020-10-28T19:00:00\",\"2020-10-28T20:00:00\",\"2020-10-28T23:00:00\",\"2020-10-29T02:00:00\",\"2020-10-29T09:00:00\",\"2020-10-29T17:00:00\",\"2020-10-30T00:00:00\",\"2020-10-30T07:00:00\",\"2020-10-30T09:00:00\",\"2020-10-30T11:00:00\",\"2020-10-30T12:00:00\",\"2020-10-30T14:00:00\",\"2020-10-30T15:00:00\",\"2020-10-30T16:00:00\",\"2020-10-30T19:00:00\",\"2020-10-31T01:00:00\",\"2020-10-31T02:00:00\",\"2020-10-31T10:00:00\",\"2020-10-31T11:00:00\",\"2020-10-31T12:00:00\",\"2020-10-31T17:00:00\",\"2020-10-31T23:00:00\",\"2020-11-01T17:00:00\",\"2020-11-01T18:00:00\",\"2020-11-01T21:00:00\",\"2020-11-02T01:00:00\",\"2020-11-02T12:00:00\",\"2020-11-02T21:00:00\",\"2020-11-03T15:00:00\",\"2020-11-04T00:00:00\",\"2020-11-04T13:00:00\",\"2020-11-04T15:00:00\",\"2020-11-04T20:00:00\",\"2020-11-05T09:00:00\",\"2020-11-05T12:00:00\",\"2020-11-06T09:00:00\",\"2020-11-06T15:00:00\",\"2020-11-06T17:00:00\",\"2020-11-06T21:00:00\",\"2020-11-07T09:00:00\",\"2020-11-07T10:00:00\",\"2020-11-07T13:00:00\",\"2020-11-07T17:00:00\",\"2020-11-08T03:00:00\",\"2020-11-08T07:00:00\",\"2020-11-08T14:00:00\",\"2020-11-08T15:00:00\",\"2020-11-08T18:00:00\",\"2020-11-08T19:00:00\",\"2020-11-08T20:00:00\",\"2020-11-09T01:00:00\",\"2020-11-09T04:00:00\",\"2020-11-09T10:00:00\",\"2020-11-09T13:00:00\",\"2020-11-09T19:00:00\",\"2020-11-09T20:00:00\",\"2020-11-10T01:00:00\",\"2020-11-10T21:00:00\",\"2020-11-11T21:00:00\",\"2020-11-12T00:00:00\",\"2020-11-12T02:00:00\",\"2020-11-12T05:00:00\",\"2020-11-12T09:00:00\",\"2020-11-12T12:00:00\",\"2020-11-12T13:00:00\",\"2020-11-12T14:00:00\",\"2020-11-12T21:00:00\",\"2020-11-13T07:00:00\",\"2020-11-13T09:00:00\",\"2020-11-13T11:00:00\",\"2020-11-13T15:00:00\",\"2020-11-13T16:00:00\",\"2020-11-13T20:00:00\",\"2020-11-13T21:00:00\",\"2020-11-13T23:00:00\",\"2020-11-14T02:00:00\",\"2020-11-14T04:00:00\",\"2020-11-14T07:00:00\",\"2020-11-14T20:00:00\",\"2020-11-14T21:00:00\",\"2020-11-15T09:00:00\",\"2020-11-15T19:00:00\",\"2020-11-16T06:00:00\",\"2020-11-16T07:00:00\",\"2020-11-16T08:00:00\",\"2020-11-16T11:00:00\",\"2020-11-16T20:00:00\",\"2020-11-17T07:00:00\",\"2020-11-17T09:00:00\",\"2020-11-17T12:00:00\",\"2020-11-17T14:00:00\",\"2020-11-17T16:00:00\",\"2020-11-17T19:00:00\",\"2020-11-17T20:00:00\",\"2020-11-17T23:00:00\",\"2020-11-18T08:00:00\",\"2020-11-18T14:00:00\",\"2020-11-18T16:00:00\",\"2020-11-18T17:00:00\",\"2020-11-18T23:00:00\",\"2020-11-19T02:00:00\",\"2020-11-19T06:00:00\",\"2020-11-19T07:00:00\",\"2020-11-19T09:00:00\",\"2020-11-19T18:00:00\",\"2020-11-20T00:00:00\",\"2020-11-20T03:00:00\",\"2020-11-20T05:00:00\",\"2020-11-20T12:00:00\",\"2020-11-20T13:00:00\",\"2020-11-20T14:00:00\",\"2020-11-20T18:00:00\",\"2020-11-20T23:00:00\",\"2020-11-21T02:00:00\",\"2020-11-21T03:00:00\",\"2020-11-21T07:00:00\",\"2020-11-21T09:00:00\",\"2020-11-21T19:00:00\",\"2020-11-21T20:00:00\",\"2020-11-22T04:00:00\",\"2020-11-22T07:00:00\",\"2020-11-22T10:00:00\",\"2020-11-22T13:00:00\",\"2020-11-22T16:00:00\",\"2020-11-22T17:00:00\",\"2020-11-22T20:00:00\",\"2020-11-22T21:00:00\",\"2020-11-22T23:00:00\",\"2020-11-23T00:00:00\",\"2020-11-23T05:00:00\",\"2020-11-24T18:00:00\",\"2020-11-24T21:00:00\",\"2020-11-24T22:00:00\",\"2020-11-24T23:00:00\",\"2020-11-25T04:00:00\",\"2020-11-25T06:00:00\",\"2020-11-25T11:00:00\",\"2020-11-25T13:00:00\",\"2020-11-25T14:00:00\",\"2020-11-25T17:00:00\",\"2020-11-25T18:00:00\",\"2020-11-26T00:00:00\",\"2020-11-26T02:00:00\",\"2020-11-26T23:00:00\",\"2020-12-27T09:00:00\",\"2020-12-27T11:00:00\",\"2020-12-27T19:00:00\",\"2020-12-28T02:00:00\",\"2020-12-28T07:00:00\",\"2020-12-28T13:00:00\",\"2020-12-28T22:00:00\",\"2020-12-29T18:00:00\",\"2020-12-30T02:00:00\",\"2020-12-30T05:00:00\",\"2020-12-30T06:00:00\",\"2020-12-30T11:00:00\",\"2020-12-30T16:00:00\",\"2020-12-30T21:00:00\",\"2020-12-31T01:00:00\",\"2020-12-31T04:00:00\",\"2020-12-31T08:00:00\",\"2020-12-31T10:00:00\",\"2020-12-31T12:00:00\",\"2020-12-31T16:00:00\",\"2021-01-01T01:00:00\",\"2021-01-01T16:00:00\",\"2021-01-01T19:00:00\",\"2021-01-02T00:00:00\",\"2021-01-02T03:00:00\",\"2021-01-02T08:00:00\",\"2021-01-02T12:00:00\",\"2021-01-02T19:00:00\",\"2021-01-02T22:00:00\",\"2021-01-03T02:00:00\",\"2021-01-03T09:00:00\",\"2021-01-03T20:00:00\",\"2021-01-03T22:00:00\",\"2021-01-03T23:00:00\",\"2021-01-04T07:00:00\",\"2021-01-04T09:00:00\",\"2021-01-04T10:00:00\",\"2021-01-04T11:00:00\",\"2021-01-04T16:00:00\",\"2021-01-04T20:00:00\",\"2021-01-04T21:00:00\",\"2021-01-04T23:00:00\",\"2021-01-05T02:00:00\",\"2021-01-05T06:00:00\",\"2021-01-05T08:00:00\",\"2021-01-05T10:00:00\",\"2021-01-05T12:00:00\",\"2021-01-05T15:00:00\",\"2021-01-06T04:00:00\",\"2021-01-06T06:00:00\",\"2021-01-06T08:00:00\",\"2021-01-06T11:00:00\",\"2021-01-06T15:00:00\",\"2021-01-06T22:00:00\",\"2021-01-07T07:00:00\",\"2021-01-07T09:00:00\",\"2021-01-07T14:00:00\",\"2021-01-07T17:00:00\",\"2021-01-07T18:00:00\",\"2021-01-08T12:00:00\",\"2021-01-08T14:00:00\",\"2021-01-09T00:00:00\",\"2021-01-09T01:00:00\",\"2021-01-09T06:00:00\",\"2021-01-09T10:00:00\",\"2021-01-09T18:00:00\",\"2021-01-09T23:00:00\",\"2021-01-10T05:00:00\",\"2021-01-10T18:00:00\",\"2021-01-11T08:00:00\",\"2021-01-11T10:00:00\",\"2021-01-11T11:00:00\",\"2021-01-11T16:00:00\",\"2021-01-11T19:00:00\",\"2021-01-12T00:00:00\",\"2021-01-12T04:00:00\",\"2021-01-12T06:00:00\",\"2021-01-12T16:00:00\",\"2021-01-13T10:00:00\",\"2021-01-13T23:00:00\",\"2021-01-14T00:00:00\",\"2021-01-14T06:00:00\",\"2021-01-14T08:00:00\",\"2021-01-14T19:00:00\",\"2021-01-15T07:00:00\",\"2021-01-15T09:00:00\",\"2021-01-15T13:00:00\",\"2021-01-15T22:00:00\",\"2021-01-16T01:00:00\",\"2021-01-16T06:00:00\",\"2021-01-16T18:00:00\",\"2021-01-16T19:00:00\",\"2021-01-17T04:00:00\",\"2021-01-17T08:00:00\",\"2021-01-17T10:00:00\",\"2021-01-17T12:00:00\",\"2021-01-18T12:00:00\",\"2021-01-18T16:00:00\",\"2021-01-18T20:00:00\",\"2021-01-18T22:00:00\",\"2021-01-19T06:00:00\",\"2021-01-19T16:00:00\",\"2021-01-19T17:00:00\",\"2021-01-19T23:00:00\",\"2021-01-20T06:00:00\",\"2021-01-20T09:00:00\",\"2021-01-20T12:00:00\",\"2021-01-20T18:00:00\",\"2021-01-20T21:00:00\",\"2021-01-21T06:00:00\",\"2021-01-21T13:00:00\",\"2021-01-21T16:00:00\",\"2021-01-21T18:00:00\",\"2021-01-22T00:00:00\",\"2021-01-22T06:00:00\",\"2021-01-22T09:00:00\",\"2021-01-22T10:00:00\",\"2021-01-22T17:00:00\",\"2021-01-23T00:00:00\",\"2021-01-23T06:00:00\",\"2021-01-23T07:00:00\",\"2021-01-23T21:00:00\",\"2021-01-24T10:00:00\",\"2021-01-24T11:00:00\",\"2021-01-24T14:00:00\",\"2021-01-24T20:00:00\",\"2021-01-25T14:00:00\",\"2021-01-25T15:00:00\",\"2021-01-25T18:00:00\",\"2021-01-25T21:00:00\",\"2021-01-26T10:00:00\",\"2021-01-26T21:00:00\",\"2021-01-27T05:00:00\",\"2021-01-27T13:00:00\",\"2021-01-27T14:00:00\",\"2021-01-28T04:00:00\",\"2021-01-28T06:00:00\",\"2021-01-28T09:00:00\",\"2021-01-28T10:00:00\",\"2021-01-28T17:00:00\",\"2021-01-28T20:00:00\",\"2021-01-28T23:00:00\",\"2021-01-29T01:00:00\",\"2021-01-29T06:00:00\",\"2021-01-29T08:00:00\",\"2021-01-29T22:00:00\",\"2021-01-30T10:00:00\",\"2021-01-30T16:00:00\",\"2021-01-30T20:00:00\",\"2021-01-31T06:00:00\",\"2021-01-31T07:00:00\",\"2021-01-31T18:00:00\",\"2021-02-01T01:00:00\",\"2021-02-01T03:00:00\",\"2021-02-01T06:00:00\",\"2021-02-01T11:00:00\",\"2021-02-01T14:00:00\",\"2021-02-01T19:00:00\",\"2021-02-02T03:00:00\",\"2021-02-02T14:00:00\",\"2021-02-02T19:00:00\",\"2021-02-02T22:00:00\",\"2021-02-03T07:00:00\",\"2021-02-03T10:00:00\",\"2021-02-03T23:00:00\",\"2021-02-04T02:00:00\",\"2021-02-04T08:00:00\",\"2021-02-04T09:00:00\",\"2021-02-04T20:00:00\",\"2021-02-04T22:00:00\",\"2021-02-05T06:00:00\",\"2021-02-05T09:00:00\",\"2021-02-05T10:00:00\",\"2021-02-05T12:00:00\",\"2021-02-05T17:00:00\",\"2021-02-05T18:00:00\",\"2021-02-05T19:00:00\",\"2021-02-06T06:00:00\",\"2021-02-06T19:00:00\",\"2021-02-07T02:00:00\",\"2021-02-07T11:00:00\",\"2021-02-07T12:00:00\",\"2021-02-07T21:00:00\",\"2021-02-08T00:00:00\",\"2021-02-08T01:00:00\",\"2021-02-08T06:00:00\",\"2021-02-08T11:00:00\",\"2021-02-08T15:00:00\",\"2021-02-08T20:00:00\",\"2021-02-08T21:00:00\",\"2021-02-09T00:00:00\",\"2021-02-09T06:00:00\",\"2021-02-09T08:00:00\",\"2021-02-09T10:00:00\",\"2021-02-10T01:00:00\",\"2021-02-10T13:00:00\",\"2021-02-10T20:00:00\",\"2021-02-11T09:00:00\",\"2021-02-11T19:00:00\",\"2021-02-12T07:00:00\",\"2021-02-12T15:00:00\",\"2021-02-12T18:00:00\",\"2021-02-12T20:00:00\",\"2021-02-12T23:00:00\",\"2021-02-13T02:00:00\",\"2021-02-13T08:00:00\",\"2021-02-13T10:00:00\",\"2021-02-13T14:00:00\",\"2021-02-13T17:00:00\",\"2021-02-13T20:00:00\",\"2021-02-14T08:00:00\",\"2021-02-14T12:00:00\",\"2021-02-14T21:00:00\",\"2021-02-15T00:00:00\",\"2021-02-15T06:00:00\",\"2021-02-15T13:00:00\",\"2021-02-16T00:00:00\",\"2021-02-16T10:00:00\",\"2021-02-16T14:00:00\",\"2021-02-16T19:00:00\",\"2021-02-16T22:00:00\",\"2021-02-17T03:00:00\",\"2021-02-17T10:00:00\",\"2021-02-17T13:00:00\",\"2021-02-17T18:00:00\",\"2021-02-18T10:00:00\",\"2021-02-18T12:00:00\",\"2021-02-18T13:00:00\",\"2021-02-18T15:00:00\",\"2021-02-18T20:00:00\",\"2021-02-19T15:00:00\",\"2021-02-20T09:00:00\",\"2021-02-21T05:00:00\",\"2021-02-21T14:00:00\",\"2021-02-21T17:00:00\",\"2021-02-21T22:00:00\",\"2021-02-21T23:00:00\",\"2021-02-22T01:00:00\",\"2021-02-22T07:00:00\",\"2021-02-22T12:00:00\",\"2021-02-22T17:00:00\",\"2021-02-23T02:00:00\",\"2021-02-23T06:00:00\",\"2021-02-23T12:00:00\",\"2021-02-23T14:00:00\",\"2021-02-23T20:00:00\",\"2021-02-23T21:00:00\",\"2021-02-24T06:00:00\",\"2021-02-24T08:00:00\",\"2021-02-24T19:00:00\",\"2021-02-25T06:00:00\",\"2021-02-25T07:00:00\",\"2021-02-25T10:00:00\",\"2021-02-25T11:00:00\",\"2021-02-25T15:00:00\",\"2021-02-25T22:00:00\",\"2021-02-26T02:00:00\",\"2021-02-26T13:00:00\",\"2021-02-26T16:00:00\",\"2021-02-27T01:00:00\",\"2021-02-27T16:00:00\",\"2021-02-27T23:00:00\",\"2021-02-28T01:00:00\",\"2021-02-28T07:00:00\",\"2021-02-28T11:00:00\",\"2021-02-28T12:00:00\",\"2021-02-28T16:00:00\",\"2021-02-28T21:00:00\",\"2021-02-28T23:00:00\"],\"y\":[23,23,48,114,65,64,15,14,19,94,71,97,13,79,95,52,84,68,25,61,61,39,63,19,23,113,42,39,15,47,38,57,22,89,21,56,66,94,27,34,14,40,92,98,60,56,104,55,55,57,68,81,11,70,31,95,56,65,64,49,98,53,61,48,66,79,54,60,65,53,8,82,58,57,83,23,33,68,20,109,70,77,41,12,58,90,53,64,18,99,27,43,30,91,65,100,54,95,18,55,34,77,41,26,92,81,62,16,19,51,33,61,82,40,15,34,59,60,47,55,16,87,103,21,46,91,15,35,47,83,17,87,9,103,77,94,79,68,68,63,88,93,77,104,60,4,61,18,94,66,73,132,47,22,109,6,12,19,72,23,22,94,24,74,62,43,94,98,81,97,116,165,39,50,8,139,44,107,21,121,103,105,14,43,17,54,53,84,83,101,22,90,51,19,54,35,26,43,122,74,70,101,77,70,46,44,30,71,92,79,70,8,24,82,34,142,112,58,25,28,17,95,17,58,99,76,33,21,62,90,21,84,20,76,43,55,62,34,59,32,52,89,35,25,67,89,109,62,106,82,118,120,139,183,156,174,81,35,114,11,2,58,145,24,212,190,148,97,113,141,201,170,161,245,251,233,57,180,67,49,28,83,34,63,41,93,78,102,103,30,17,42,97,43,91,53,89,66,92,123,107,68,72,29,156,105,91,29,51,102,102,74,82,63,85,52,51,40,106,57,51,104,19,16,49,55,33,41,109,88,49,66,57,174,100,83,131,63,90,81,11,149,113,73,65,97,86,74,35,71,85,33,101,26,108,27,96,77,65,53,65,107,82,59,97,69,93,62,60,73,55,70,20,29,55,31,31,30,118,117,37,51,57,72,85,70,107,144,134,51,103,99,22,121,117,185,110,80,114,76,47,74,12,115,99,25,80,42,135,104,89,101,50,45,123,90,92,41,75,100,88,80,57,105,95,94,68,74,69,96,129,90,104,91,20,81,73,88,89,56,40,60,98,117,35,101,72,38,91,82,81,76,62,118,56,86,34,119,20,42,65,37,59,51,40,79,24,105,44,33,31,65,20,87,98,77,71,55,38,134,121,83,62,92,143,176,141,110,70,93,97,50,39,58,63,25,49,121,78,76,55,97,71,16,25,66,79,52,35,44,39,127,66,100,129,103,135,64,52,59,70,41,102,48,97,49,76,31,19,126,123,97,81,87,16,45,72,153,126,27,79,132,121,115,88,43,85,101,18,23,115,82,76,80,93,94,111,92,41,29,28,109,51,92,80,48,82,18,130,195,116,25,46,105,106,23,116,112,150,131,90,76,96,13,106,64,90,24,94,25,11,76,28,55,12,31,37,57,52,9,30,75,62,79,66,130,173,97,53,74,119,56,138,63,25,49,64,98,12,42,111,49,83,81,79,114,95,60,52,77,51,73,62,92,113,43,99,38,20,61,49,60,34,19,73,41,121,45,24,40,60,52,38,67,51,99,107,102,122,48,67,43,91,82,108,42,28,43,16,27,54,56,35,38,56,96,43,101,41,137,123,109,111,145,73,87,31,74,94,46,23,50,36,94,40,83,34,32,88,93,74,35,48,44,25,12,51,105,147,87,20,99,80,125,23,95,26,68,70,17,86,101,37,65,37,102,29,29,101,63,143,90,73,79,214,137,193,22,94,101,40,139,73,48,73,96,37,10,103,65,39,116,35,26,11,60,52,94,80,41,80,117,48,26,15,93,59,113,67,30,44,50,53,67,92,122,90,102,49,94,87,79,23,24,103,29,93,99,80,59,65,108,95,46,96,111,101,53,70,100,120,118,113,14,87,104,51,21,28,74,104,75,19,80,55,105,93,126,90,93,109,96,97,47,79,103,16,59,32,59,69,20,95,60,59,67,48,93,75,108,74,32,21,37,66,55,90,27,76,113,23,44,8,26,63,50,35,18,107,45,80,109,64,112,92,33,24,54,76,160,73,88,36,93,49,95,51,93,39,95,23,58,42,56,101,30,11,92,106,112,21,74,60,69,46,55,78,42,23,59,29,58,73,51,105,102,50,54,32,106,57,98,100,99,51,108,99,95,25,32,40,71,129,121,22,56,66,61,37,54,56,47,92,117,109,15,71,92,133,64,121,43,61,64,115,109,78,76,42,93,104,51,16,85,52,44,29,74,99,59,83,24,42,102,14,42,117,21,105,98,75,92,82,79,69,63,74,83,99,40,29,21,8,67,70,82,37,104,113,126,94,57,144,12,21,72,70,99,36,78,109,89,94,72,67,18,57,74,58,99,14,94,69,147,88,28,109,8,101,8,42,60,103,39,23,43,72,39,109,55,46,101,52,60,38,113,82,14,122,44,77,47,29,33,66,13,32,67,27,26,35,113,53,93,41,86,124,59,91,137,53,59,51,120,148,135,99,63,85,43,130,100,69,68,34,31,117,79,36,92,31,98,40,42,110,115,99,77,25,104,99,96,79,46,30,113,75,18,91,113,41,59,45,84,87,131,93,76,104,79,170,209,155,242,97,69,118,229,227,132,149,170,161,157,77,165,174,29,122,67,109,36,114,122,100,83,90,47,60,91,63,50,149,36,69,100,40,73,244,85,68,185,152,121,9,5,21,12,91,95,33,50,117,50,110,102,82,53,115,59,40,80,93,29,15,104,110,139,70,31,96,182,56,118,106,18,103,76,124,136,66,92,98,85,117,26,84,11,74,51,132,5,38,32,149,126,72,125,116,106,90,27,66,121,125,109,93,104,83,44,81,81,115,93,99,113,49,61,70,71,93,3,86,20,50,74,84,88,40,11,8,73,60,65,123,115,29,36,147,43,59,85,28,46,92,94,26,40,44,103,24,80,20,5,30,54,66,59,56,131,83,89,103,117,71,112,68,66,92,38,147,134,133,42,29,73,108,6,84,49,41,18,33,40,65,49,7,69,28,103,54,22,47,101,69,36,55,123,34,57,15,100,22,92,9,20,64,60,97,27,100,103,133,112,101,29,63,41,121,64,73,31,74,16,97,34,44,70,95,56,52,38,54,118,99,99,78,119,75,61,104,72,39,43,76,22,16,52,18,44,19,81,43,109,89,80,90,49,34,74,62,105,112,32,70,66,20,49,91,50,32,40,5,87,118,47,97,27,109,88,73,7,18,81,43,95,41,97,96,17,18,55,141,36,50,29,115,21,40,36,47,33,109,45,109,90,110,88,25,78,21,73,56,39,74,43,82,90,96,52,106,72,79,33,70,40,94,57,19,99,86,95,20,58,78,41,43,96,59,61,34,82,68,24,44,83,39,82,38,87,30,30,89,122,100,25,78,22,40,42,48,99,115,39,72,99,23,11,27,31,23,39,70,51,59,37,52,66,96,92,29,84,86,24,26,75,84,53,31,10,102,97,71,44,93,62,80,93,55,22,104,49,57,10,45,59,17,28,92,67,98,6,58,64,15,41,78,134,127,152,36,106,123,159,43,80,25,15,7,41,90,93,80,3,62,75,70,67,100,32,94,36,75,55,141,203,177,95,54,45,67,9,117,18,58,78,30,37,38,6,53,37,34,13,57,30,13,60,71,76,8,95,97,27,56,111,12,57,71,57,116,47,65,27,3,52,25,19,30,28,93,102,19,100,15,108,93,63,27,47,97,111,11,25,102,27,39,11,132,52,9,80,54,82,49,87,65,39,92,29,73,73,96,47,77,78,95,79,81,56,79,76,7,80,69,57,49,51,49,268,224,247,72,35,116,145,151,176,88,92,20,21,81,58,105,12,92,103,20,56,65,75,40,162,46,70,77,77,1,37,52,27,104,15,18,50,105,52,20,23,15,73,106,30,91,97,19,54,60,96,53,65,89,91,51,39,86,33,68,109,30,31,40,14,94,79,19,15,114,27,80,45,30,31,82,9,19,69,87,59,35,149,91,20,44,93,86,82,79,100,76,117,104,91,106,326,277,132,89,139,289,173,36,283,242,190,21,180,230,200,313,186,123,68,38,224,242,209,289,239,139,155,121,261,232,125,80,152,98,100,123,105,60,190,112,118,68,32,79,132,74,97,100,40,45,71,100,50,77,131,67,77,65,98,233,165,245,160,203,58,106,190,129,59,56,57,15,54,61,67,43,83,84,98,133,80,32,71,5,51,61,68,84,101,129,64,114,65,114,27,123,13,85,58,6,52,138,134,31,74,39,74,72,52,103,101,78,18,111,60,101,37,30,39,118,43,59,26,32,5,54,92,89,91,75,125,70,98,109,44,156,133,89,60,100,89,114,97,51,100,110,63,138,86,31,47,110,77,43,168,37,73,97,83,91,132,117,81,16,164,147,158,104,95,116,101,125,79,27,126,33,26,73,74,123,101,52,50,58,6,80,54,27,64,46,127,36,162,129,100,51,86,89,80,120,54,91,48,62,13,62,84,16,43,143,58,110,96,84,41,62,23,37,181,84,85,86,16,36,53,12,66,107,77,32,75,65,70,26,136,83,30,28,46,32,104,50,116,70,80,87,90,55,31,132,142,101,48,43,89,81,70,65,123,21,3,57,56,80,24,42,13,46,56,28,73,90,66,72,128,135,53,42,49,108,73,133,43,61,38,130,130,110,119,57,38,19,97,68,33,84,80,69,121,76,19,55,108,81,17,158,43,51,132,150,68,71,34,112,35,46,49,106,32,107,138,78,85,45,66,94,84,39,64,54,80,37,90,91,85,137,128,94,60,174,101,94,95,91,7,115,77,90,53,23,152,124,105,113,129,116,127,78,109,125,148,58,31,55,110,25,60,34,111,50,37,58,108,82,68,65,5,87,113,106,71,19,94,40,65,86,65,35,29,167,71,64,88,158,80,79,98,37,28,37,18,78,67,54,90,47,52,65,33,24,59,92,26,2,67,84,56,108,119,87,36,78,34,12,46,77,23,101,83,78,58,90,90,76,86,13,100,55,104,135,108,44,59,88,48,6,92,36,58,61,116,44,50,124,84,144,86,76,108,75,23,8,124,96,99,91,24,8,51,35,43,86,59,56,44,73,109,69,112,44,77,16,22,79,83,78,102,170,123,205,167,140,129,35,113,153,125,65,151,96,113,55,65,84,58,76,16,17,96,23,76,98,59,33,49,75,26,29,74,132,119,123,84,57,22,94,58,93,111,78,40,31,29,99,84,85,33,72,87,116,145,116,106,79,95,95,68,60,115,91,70,26,92,85,58,45,88,83,54,48,103,107,58,76,91,46,105,88,127,29,43,85,56,53,38,81,32,28,112,151,33,106,106,130,61,48,109,100,71,98,14,82,118,95,111,37,59,20,32,47,64,64,85,109,120,121,117,46,78,152,115,141,100,74,68,92,47,51,95,44,31,92,118,96,38,115,115,94,26,119,122,92,112,145,106,95,25,85,95,112,102,43,39,96,37,15,78,95,100,98,49,67,89,30,16,75,67,46,57,55,33,84,52,37,126,137,77,33,102,68,58,91,126,55,66,93,65,60,41,29,103,92,77,66,23,15,44,56,50,50,73,82,99,16,48,60,65,21,11,21,96,127,97,54,55,30,103,109,55,96,65,64,21,58,20,106,102,80,58,25,92,131,95,52,112,50,99,52,117,39,122,92,104,100,72,80,24,22,55,66,105,62,45,76,107,75,103,135,71,20,36,114,38,133,68,88,6,34,74,54,118,107,48,104,10,66,1,74,104,61,47,65,58,73,115,79,104,27,33,31,91,14,46,68,21,85,113,82,81,83,79,30,44,125,38,128,110,100,17,3,17,56,47,76,82,138,83,86,96,133,6,62,58,87,104,34,50,111,40,42,48,106,77,92,68,74,101,41,70,74,91,116,71,35,140,84,70,104,29,106,27,45,57,67,2,109,121,81,84,53,47,86,89,152,111,156,67,65,90,56,126,118,60,88,73,90,22,101,101,111,38,103,76,81,93,72,100,41,19,87,86,39,68,39,89,134,174,65,118,177,172,58,90,107,138,246,18,57,37,87,13,15,34,105,60,145,79,25,28,101,240,266,155,109,187,25,33,84,127,112,99,62,128,101,45,72,65,56,94,83,76,139,69,93,196,167,47,152,77,96,50,85,27,62,78,36,94,45,12,74,41,16,56,22,10,67,68,12,40,44,124,12,82,108,51,108,89,87,25,47,45,36,89,71,106,16,61,137,88,69,105,82,127,26,89,29,107,59,126,118,46,55,25,139,68,100,48,104,35,81,58,100,48,103,41,96,33,56,101,66,44,80,101,84,135,161,94,14,99,89,79,67,35,64,43,42,125,92,84,90,37,135,69,33,65,98,112,94,77,6,58,76,40,78,11,107,66,39,50,87,35,8,99,39,103,79,65,42,99,36,48,56,103,73,17,20,109,98,27,31,73,21,43,73,27,51,128,56,75,48,96,84,3,45,54,105,57,31,59,49,88,109,64,38,95,22,45,16,13,23,52,81,100,54,2,78,8,85,68,66,131,2,41,75,27,72,82,22,68,85,76,90,89,75,99,68,89,64,10,119,80,23,52,85,37,71,74,90,76,70,106,71,107,82,45,10,97,100,31,85,38,25,26,51,49,14,66,78,81,54,105,60,71,16,52,46,114,54,74,56,59,36,58,37,51,107,12,65,108,62,84,50,4,72,90,77,102,98,56,82,36,14,19,93,102,110,48,2,56,109,17,82,130,125,62,14,47,122,9,15,76,105,21,9,94,108,77,53,20,28,75,55,37,19,11,103,72,110,57,92,14,104,92,38,78,91,80,101,153,182,114,70,89,99,140,106,24,81,55,14,108,90,79,139,78,173,88,55,40,113,88,90,57,52,41,87,157,97,199,61,79,87,83,139,74,125,104,94,64,113,57,110,44,47,124,82,88,74,56,27,148,21,181,87,15,77,189,112,77,28,27,90,72,64,17,99,35,50,127,45,18,115,109,95,23,95,6,75,140,84,136,128,16,63,78,38,12,101,160,79,62,84,13,31,9,40,22,50,14,26,32,109,81,53,78,130,158,52,31,37,93,79,139,154,167,49,64,101,206,30,85,100,43,106,67,126,75,100,18,7,101,1,27,120,46,103,18,54,76,94,12,18,40,74,74,70,60,83,67,128,71,146,86,77,82,133,33,59,75,28,81,49,12,33,10,71,43,87,54,56,65,70,72,94,58,66,81,225,47,76,44,117,147,74,9,130,106,151,109,31,60,114,45,78,60,24,64,21,33,41,83,72,92,41,82,29,134,96,79,27,77,104,64,35,111,54,99,12,83,75,33,114,36,31,33,46,9,66,118,109,85,67,37,50,158,32,128,45,22,116,59,36,112,106,90,83,30,117,63,57,40,20,77,54,70,98,55,12,34,92,121,144,45,172,63,108,29,100,106,78,155,144,72,214,82,113,81,56,37,60,61,30,90,51,36,71,123,93,66,35,115,163,172,237,63,28,203,196,239,196,97,68,14,117,185,164,121,108,103,183,156,61,88,49,87,148,245,173,22,105,106,198,229,127,72,88,68,107,25,194,52,48,142,88,78,80,77,63,66,41,33,73,142,18,26,91,76,96,87,62,81,17,62,104,33,66,71,75,15,192,191,193,106,76,28,10,19,119,124,113,18,87,45,129,153,179,122,90,43,40,88,68,86,2,43,37,49,101,79,43,63,52,91,82,18,77,128,137,93,87,37,57,66,29,46,17,82,112,58,102,62,34,105,113,42,92,49,52,40,33,18,133,90,96,67,42,113,20,21,45,75,60,139,72,74,31,58,56,34,63,129,49,61,99,9,32,51,87,38,90,107,96,99,71,123,73,71,84,31,159,43,40,53,56,55,120,87,156,107,90,50,67,97,52,71,94,78,5,124,91,101,144,54,93,24,75,74,44,72,97,103,65,61,53,43,83,52,92,55,35,53,52,51,89,87,104,53,45,72,88,74,87,130,65,30,17,110,79,177,233,110,164,163,132,65,63,19,53,125,119,59,30,34,100,112,58,40,15,99,86,100,68,120,85,93,93,95,59,57,6,57,129,97,74,113,120,35,102,94,17,100,122,43,50,62,104,47,93,64,112,117,72,58,100,92,88,85,119,62,24,52,55,97,33,33,79,14,107,22,21,30,69,105,62,26,68,74,48,82,13,100,72,101,57,133,107,94,96,74,29,95,56,36,55,64,40,54,37,110,95,105,67,118,123,100,89,94,102,117,116,99,53,26,108,108,34,29,33,101,59,21,60,27,123,116,89,39,80,89,29,29,92,54,104,24,73,66,41,89,79,119,168,39,85],\"type\":\"scatter\",\"xaxis\":\"x\",\"yaxis\":\"y\"},{\"name\":\"predicted targets\",\"x\":[\"2018-08-18T13:00:00\",\"2018-08-18T22:00:00\",\"2018-08-19T08:00:00\",\"2018-08-19T12:00:00\",\"2018-08-19T14:00:00\",\"2018-08-19T17:00:00\",\"2018-08-19T21:00:00\",\"2018-08-20T14:00:00\",\"2018-08-21T09:00:00\",\"2018-08-21T10:00:00\",\"2018-08-21T15:00:00\",\"2018-08-22T12:00:00\",\"2018-08-22T15:00:00\",\"2018-08-22T23:00:00\",\"2018-08-23T10:00:00\",\"2018-08-23T19:00:00\",\"2018-08-23T22:00:00\",\"2018-08-24T11:00:00\",\"2018-08-25T09:00:00\",\"2018-08-25T12:00:00\",\"2018-08-26T15:00:00\",\"2018-08-26T23:00:00\",\"2018-08-27T13:00:00\",\"2018-08-28T08:00:00\",\"2018-08-28T09:00:00\",\"2018-08-28T17:00:00\",\"2018-08-29T03:00:00\",\"2018-08-29T21:00:00\",\"2018-08-29T22:00:00\",\"2018-08-30T16:00:00\",\"2018-08-31T11:00:00\",\"2018-08-31T14:00:00\",\"2018-08-31T23:00:00\",\"2018-09-01T08:00:00\",\"2018-09-01T13:00:00\",\"2018-09-01T16:00:00\",\"2018-09-01T22:00:00\",\"2018-09-02T10:00:00\",\"2018-09-02T20:00:00\",\"2018-09-03T13:00:00\",\"2018-09-03T15:00:00\",\"2018-09-03T17:00:00\",\"2018-09-04T12:00:00\",\"2018-09-04T18:00:00\",\"2018-09-05T08:00:00\",\"2018-09-05T09:00:00\",\"2018-09-05T15:00:00\",\"2018-09-05T16:00:00\",\"2018-09-05T23:00:00\",\"2018-09-06T10:00:00\",\"2018-09-07T11:00:00\",\"2018-09-07T12:00:00\",\"2018-09-07T17:00:00\",\"2018-09-07T19:00:00\",\"2018-09-08T08:00:00\",\"2018-09-08T15:00:00\",\"2018-09-09T01:00:00\",\"2018-09-09T14:00:00\",\"2018-09-10T11:00:00\",\"2018-09-10T16:00:00\",\"2018-09-11T07:00:00\",\"2018-09-11T18:00:00\",\"2018-09-11T19:00:00\",\"2018-09-12T07:00:00\",\"2018-09-12T10:00:00\",\"2018-09-12T15:00:00\",\"2018-09-13T18:00:00\",\"2018-09-14T09:00:00\",\"2018-09-14T12:00:00\",\"2018-09-14T14:00:00\",\"2018-09-14T22:00:00\",\"2018-09-15T10:00:00\",\"2018-09-15T13:00:00\",\"2018-09-15T15:00:00\",\"2018-09-15T21:00:00\",\"2018-09-15T22:00:00\",\"2018-09-16T10:00:00\",\"2018-09-17T06:00:00\",\"2018-09-17T08:00:00\",\"2018-09-17T14:00:00\",\"2018-09-17T15:00:00\",\"2018-09-17T21:00:00\",\"2018-09-18T13:00:00\",\"2018-09-18T19:00:00\",\"2018-09-18T20:00:00\",\"2018-09-19T17:00:00\",\"2018-09-19T19:00:00\",\"2018-09-19T20:00:00\",\"2018-09-19T22:00:00\",\"2018-09-19T23:00:00\",\"2018-09-20T08:00:00\",\"2018-09-20T11:00:00\",\"2018-09-20T15:00:00\",\"2018-09-20T18:00:00\",\"2018-09-20T21:00:00\",\"2018-09-21T10:00:00\",\"2018-09-21T11:00:00\",\"2018-09-21T12:00:00\",\"2018-09-21T16:00:00\",\"2018-09-21T23:00:00\",\"2018-09-22T10:00:00\",\"2018-09-22T22:00:00\",\"2018-09-22T23:00:00\",\"2018-09-23T04:00:00\",\"2018-09-23T15:00:00\",\"2018-09-24T10:00:00\",\"2018-09-24T15:00:00\",\"2018-09-24T16:00:00\",\"2018-09-24T17:00:00\",\"2018-09-26T09:00:00\",\"2018-09-26T11:00:00\",\"2018-09-26T15:00:00\",\"2018-09-26T18:00:00\",\"2018-09-26T21:00:00\",\"2018-09-27T15:00:00\",\"2018-09-27T18:00:00\",\"2018-09-27T19:00:00\",\"2018-09-27T22:00:00\",\"2018-09-28T13:00:00\",\"2018-09-28T17:00:00\",\"2018-09-28T19:00:00\",\"2018-09-29T10:00:00\",\"2018-09-29T12:00:00\",\"2018-09-29T22:00:00\",\"2018-09-30T12:00:00\",\"2018-09-30T13:00:00\",\"2018-10-01T05:00:00\",\"2018-10-01T10:00:00\",\"2018-10-01T17:00:00\",\"2018-10-01T22:00:00\",\"2018-10-02T06:00:00\",\"2018-10-02T08:00:00\",\"2018-10-02T10:00:00\",\"2018-10-02T21:00:00\",\"2018-10-03T20:00:00\",\"2018-10-03T21:00:00\",\"2018-10-04T07:00:00\",\"2018-10-04T10:00:00\",\"2018-10-04T14:00:00\",\"2018-10-04T18:00:00\",\"2018-10-04T20:00:00\",\"2018-10-04T22:00:00\",\"2018-10-05T12:00:00\",\"2018-10-05T14:00:00\",\"2018-10-05T15:00:00\",\"2018-10-05T19:00:00\",\"2018-10-05T20:00:00\",\"2018-10-05T23:00:00\",\"2018-10-06T09:00:00\",\"2018-10-06T11:00:00\",\"2018-10-06T12:00:00\",\"2018-10-06T15:00:00\",\"2018-10-07T02:00:00\",\"2018-10-07T10:00:00\",\"2018-10-07T13:00:00\",\"2018-10-08T08:00:00\",\"2018-10-08T16:00:00\",\"2018-10-08T17:00:00\",\"2018-10-08T21:00:00\",\"2018-10-09T17:00:00\",\"2018-10-09T19:00:00\",\"2018-10-10T15:00:00\",\"2018-10-10T18:00:00\",\"2018-10-10T22:00:00\",\"2018-10-11T11:00:00\",\"2018-10-11T20:00:00\",\"2018-10-11T21:00:00\",\"2018-10-12T11:00:00\",\"2018-10-12T17:00:00\",\"2018-10-12T19:00:00\",\"2018-10-13T12:00:00\",\"2018-10-13T13:00:00\",\"2018-10-13T19:00:00\",\"2018-10-14T02:00:00\",\"2018-10-14T04:00:00\",\"2018-10-14T08:00:00\",\"2018-10-14T12:00:00\",\"2018-10-14T18:00:00\",\"2018-10-14T23:00:00\",\"2018-10-15T12:00:00\",\"2018-10-15T16:00:00\",\"2018-10-15T20:00:00\",\"2018-10-16T04:00:00\",\"2018-10-16T11:00:00\",\"2018-10-16T16:00:00\",\"2018-10-16T20:00:00\",\"2018-10-17T17:00:00\",\"2018-10-17T18:00:00\",\"2018-10-18T11:00:00\",\"2018-10-18T19:00:00\",\"2018-10-18T21:00:00\",\"2018-10-19T08:00:00\",\"2018-10-19T11:00:00\",\"2018-10-19T17:00:00\",\"2018-10-19T21:00:00\",\"2018-10-20T03:00:00\",\"2018-10-20T04:00:00\",\"2018-10-20T12:00:00\",\"2018-10-20T16:00:00\",\"2018-10-21T00:00:00\",\"2018-10-21T08:00:00\",\"2018-10-21T12:00:00\",\"2018-10-21T19:00:00\",\"2018-10-21T21:00:00\",\"2018-10-22T16:00:00\",\"2018-10-22T18:00:00\",\"2018-10-23T12:00:00\",\"2018-10-23T14:00:00\",\"2018-10-24T11:00:00\",\"2018-10-24T21:00:00\",\"2018-10-25T06:00:00\",\"2018-10-26T06:00:00\",\"2018-10-26T07:00:00\",\"2018-10-26T15:00:00\",\"2018-10-27T01:00:00\",\"2018-10-27T15:00:00\",\"2018-10-27T18:00:00\",\"2018-10-28T03:00:00\",\"2018-10-28T12:00:00\",\"2018-10-28T16:00:00\",\"2018-10-29T11:00:00\",\"2018-10-29T19:00:00\",\"2018-10-29T22:00:00\",\"2018-10-30T08:00:00\",\"2018-10-30T09:00:00\",\"2018-10-30T12:00:00\",\"2018-10-30T13:00:00\",\"2018-10-30T19:00:00\",\"2018-10-30T23:00:00\",\"2018-10-31T16:00:00\",\"2018-10-31T19:00:00\",\"2018-10-31T21:00:00\",\"2018-11-01T01:00:00\",\"2018-11-01T11:00:00\",\"2018-11-01T12:00:00\",\"2018-11-01T14:00:00\",\"2018-11-01T16:00:00\",\"2018-11-01T18:00:00\",\"2018-11-01T21:00:00\",\"2018-11-02T01:00:00\",\"2018-11-02T20:00:00\",\"2018-11-02T23:00:00\",\"2018-11-03T00:00:00\",\"2018-11-03T08:00:00\",\"2018-11-03T12:00:00\",\"2018-11-03T18:00:00\",\"2018-11-03T19:00:00\",\"2018-11-03T22:00:00\",\"2018-11-04T03:00:00\",\"2018-11-04T12:00:00\",\"2018-11-05T00:00:00\",\"2018-11-05T08:00:00\",\"2018-11-05T09:00:00\",\"2018-11-05T15:00:00\",\"2018-11-05T18:00:00\",\"2018-11-05T19:00:00\",\"2018-11-05T23:00:00\",\"2018-11-06T01:00:00\",\"2018-11-06T02:00:00\",\"2018-11-06T03:00:00\",\"2018-11-06T06:00:00\",\"2018-11-06T08:00:00\",\"2018-11-06T22:00:00\",\"2018-11-07T02:00:00\",\"2018-11-07T13:00:00\",\"2018-11-07T16:00:00\",\"2018-11-07T21:00:00\",\"2018-11-07T23:00:00\",\"2018-11-08T00:00:00\",\"2018-11-08T10:00:00\",\"2018-11-08T12:00:00\",\"2018-11-08T21:00:00\",\"2018-11-09T10:00:00\",\"2018-11-09T15:00:00\",\"2018-11-09T19:00:00\",\"2018-11-09T21:00:00\",\"2018-11-10T04:00:00\",\"2018-11-10T23:00:00\",\"2018-11-11T03:00:00\",\"2018-11-11T20:00:00\",\"2018-11-11T23:00:00\",\"2018-11-12T08:00:00\",\"2018-11-12T09:00:00\",\"2018-11-12T12:00:00\",\"2018-11-12T20:00:00\",\"2018-11-13T12:00:00\",\"2018-11-13T13:00:00\",\"2018-11-13T16:00:00\",\"2018-11-13T18:00:00\",\"2018-11-13T21:00:00\",\"2018-11-13T22:00:00\",\"2018-11-14T00:00:00\",\"2018-11-14T12:00:00\",\"2018-11-14T13:00:00\",\"2018-11-14T16:00:00\",\"2018-11-14T17:00:00\",\"2018-11-14T22:00:00\",\"2018-11-15T00:00:00\",\"2018-11-15T03:00:00\",\"2018-11-15T11:00:00\",\"2018-11-15T14:00:00\",\"2018-11-15T21:00:00\",\"2018-11-16T01:00:00\",\"2018-11-16T10:00:00\",\"2018-11-16T11:00:00\",\"2018-11-16T12:00:00\",\"2018-11-16T21:00:00\",\"2018-11-16T22:00:00\",\"2018-11-17T10:00:00\",\"2018-11-17T14:00:00\",\"2018-11-18T02:00:00\",\"2018-11-18T10:00:00\",\"2018-11-18T11:00:00\",\"2018-11-18T20:00:00\",\"2018-11-18T23:00:00\",\"2018-11-19T22:00:00\",\"2018-11-20T06:00:00\",\"2018-11-20T12:00:00\",\"2018-11-20T14:00:00\",\"2018-11-20T15:00:00\",\"2018-11-20T20:00:00\",\"2018-11-20T22:00:00\",\"2018-11-21T10:00:00\",\"2018-11-21T19:00:00\",\"2018-11-22T01:00:00\",\"2018-11-22T07:00:00\",\"2018-11-22T08:00:00\",\"2018-11-22T14:00:00\",\"2018-11-22T17:00:00\",\"2018-11-22T21:00:00\",\"2018-11-22T23:00:00\",\"2018-11-23T16:00:00\",\"2018-11-23T23:00:00\",\"2018-11-24T15:00:00\",\"2018-11-24T18:00:00\",\"2018-11-24T19:00:00\",\"2018-11-24T20:00:00\",\"2018-11-24T22:00:00\",\"2018-11-25T03:00:00\",\"2018-11-25T06:00:00\",\"2018-11-25T07:00:00\",\"2018-11-25T11:00:00\",\"2018-11-25T17:00:00\",\"2018-11-26T09:00:00\",\"2018-11-26T20:00:00\",\"2018-11-27T04:00:00\",\"2018-11-27T06:00:00\",\"2018-11-27T07:00:00\",\"2018-11-27T11:00:00\",\"2018-11-27T15:00:00\",\"2018-11-27T21:00:00\",\"2018-11-27T22:00:00\",\"2018-11-28T15:00:00\",\"2018-11-28T19:00:00\",\"2018-11-28T20:00:00\",\"2018-11-28T22:00:00\",\"2018-11-29T02:00:00\",\"2018-11-29T07:00:00\",\"2018-11-29T13:00:00\",\"2018-11-30T00:00:00\",\"2018-11-30T08:00:00\",\"2018-11-30T09:00:00\",\"2018-11-30T14:00:00\",\"2018-12-01T02:00:00\",\"2018-12-01T03:00:00\",\"2018-12-01T07:00:00\",\"2018-12-02T03:00:00\",\"2018-12-02T05:00:00\",\"2018-12-02T11:00:00\",\"2018-12-02T14:00:00\",\"2018-12-03T06:00:00\",\"2018-12-03T08:00:00\",\"2018-12-03T10:00:00\",\"2018-12-03T18:00:00\",\"2018-12-04T19:00:00\",\"2018-12-04T20:00:00\",\"2018-12-05T08:00:00\",\"2018-12-05T10:00:00\",\"2018-12-05T12:00:00\",\"2018-12-05T13:00:00\",\"2018-12-05T16:00:00\",\"2018-12-05T17:00:00\",\"2018-12-06T07:00:00\",\"2018-12-06T19:00:00\",\"2018-12-07T00:00:00\",\"2018-12-07T08:00:00\",\"2018-12-07T10:00:00\",\"2018-12-07T16:00:00\",\"2018-12-07T18:00:00\",\"2018-12-07T19:00:00\",\"2018-12-08T00:00:00\",\"2018-12-08T03:00:00\",\"2018-12-08T08:00:00\",\"2018-12-08T09:00:00\",\"2018-12-08T11:00:00\",\"2018-12-08T13:00:00\",\"2018-12-08T17:00:00\",\"2018-12-09T02:00:00\",\"2018-12-09T12:00:00\",\"2018-12-09T15:00:00\",\"2018-12-09T23:00:00\",\"2018-12-10T05:00:00\",\"2018-12-10T08:00:00\",\"2018-12-10T13:00:00\",\"2018-12-10T19:00:00\",\"2018-12-10T21:00:00\",\"2018-12-11T01:00:00\",\"2018-12-11T11:00:00\",\"2018-12-11T15:00:00\",\"2018-12-11T16:00:00\",\"2018-12-12T02:00:00\",\"2018-12-12T06:00:00\",\"2018-12-12T11:00:00\",\"2018-12-12T14:00:00\",\"2018-12-12T15:00:00\",\"2018-12-12T18:00:00\",\"2018-12-12T19:00:00\",\"2018-12-13T05:00:00\",\"2018-12-13T14:00:00\",\"2018-12-13T15:00:00\",\"2018-12-13T23:00:00\",\"2018-12-14T08:00:00\",\"2018-12-14T09:00:00\",\"2018-12-14T15:00:00\",\"2018-12-14T18:00:00\",\"2018-12-14T20:00:00\",\"2018-12-14T23:00:00\",\"2018-12-15T00:00:00\",\"2018-12-15T20:00:00\",\"2018-12-16T00:00:00\",\"2018-12-16T12:00:00\",\"2018-12-16T18:00:00\",\"2018-12-17T00:00:00\",\"2018-12-17T07:00:00\",\"2018-12-17T08:00:00\",\"2018-12-17T09:00:00\",\"2018-12-17T13:00:00\",\"2018-12-17T19:00:00\",\"2018-12-18T10:00:00\",\"2018-12-18T19:00:00\",\"2018-12-19T07:00:00\",\"2018-12-19T15:00:00\",\"2018-12-19T18:00:00\",\"2018-12-19T19:00:00\",\"2018-12-19T21:00:00\",\"2018-12-20T17:00:00\",\"2018-12-20T18:00:00\",\"2018-12-20T20:00:00\",\"2018-12-20T21:00:00\",\"2018-12-21T00:00:00\",\"2018-12-21T09:00:00\",\"2018-12-21T17:00:00\",\"2018-12-21T20:00:00\",\"2018-12-21T22:00:00\",\"2018-12-22T04:00:00\",\"2018-12-22T08:00:00\",\"2018-12-22T09:00:00\",\"2018-12-22T10:00:00\",\"2018-12-22T22:00:00\",\"2018-12-23T14:00:00\",\"2018-12-23T19:00:00\",\"2018-12-24T00:00:00\",\"2018-12-24T08:00:00\",\"2018-12-24T15:00:00\",\"2018-12-24T16:00:00\",\"2018-12-24T17:00:00\",\"2018-12-25T00:00:00\",\"2018-12-25T07:00:00\",\"2018-12-25T09:00:00\",\"2018-12-25T16:00:00\",\"2018-12-26T06:00:00\",\"2018-12-26T09:00:00\",\"2018-12-26T11:00:00\",\"2018-12-27T00:00:00\",\"2018-12-27T18:00:00\",\"2018-12-27T22:00:00\",\"2018-12-28T00:00:00\",\"2018-12-28T08:00:00\",\"2018-12-28T09:00:00\",\"2018-12-28T11:00:00\",\"2018-12-28T16:00:00\",\"2018-12-28T19:00:00\",\"2018-12-28T23:00:00\",\"2018-12-29T11:00:00\",\"2018-12-29T12:00:00\",\"2018-12-29T14:00:00\",\"2018-12-30T11:00:00\",\"2018-12-30T12:00:00\",\"2018-12-30T18:00:00\",\"2018-12-30T22:00:00\",\"2018-12-30T23:00:00\",\"2018-12-31T02:00:00\",\"2018-12-31T08:00:00\",\"2018-12-31T16:00:00\",\"2018-12-31T18:00:00\",\"2018-12-31T23:00:00\",\"2019-01-01T13:00:00\",\"2019-01-01T17:00:00\",\"2019-01-02T01:00:00\",\"2019-01-02T06:00:00\",\"2019-01-02T07:00:00\",\"2019-01-02T09:00:00\",\"2019-01-02T11:00:00\",\"2019-01-02T15:00:00\",\"2019-01-02T18:00:00\",\"2019-01-02T21:00:00\",\"2019-01-03T06:00:00\",\"2019-01-03T11:00:00\",\"2019-01-03T15:00:00\",\"2019-01-03T18:00:00\",\"2019-01-04T01:00:00\",\"2019-01-04T15:00:00\",\"2019-01-05T07:00:00\",\"2019-01-05T13:00:00\",\"2019-01-05T14:00:00\",\"2019-01-05T17:00:00\",\"2019-01-05T18:00:00\",\"2019-01-06T09:00:00\",\"2019-01-06T18:00:00\",\"2019-01-07T06:00:00\",\"2019-01-07T07:00:00\",\"2019-01-07T10:00:00\",\"2019-01-07T12:00:00\",\"2019-01-07T13:00:00\",\"2019-01-07T22:00:00\",\"2019-01-08T01:00:00\",\"2019-01-09T08:00:00\",\"2019-01-09T16:00:00\",\"2019-01-09T23:00:00\",\"2019-01-10T09:00:00\",\"2019-01-10T11:00:00\",\"2019-01-10T20:00:00\",\"2019-01-10T21:00:00\",\"2019-01-11T06:00:00\",\"2019-01-11T07:00:00\",\"2019-01-11T11:00:00\",\"2019-01-12T00:00:00\",\"2019-01-12T12:00:00\",\"2019-01-12T15:00:00\",\"2019-01-13T04:00:00\",\"2019-01-13T09:00:00\",\"2019-01-13T13:00:00\",\"2019-01-13T15:00:00\",\"2019-01-13T18:00:00\",\"2019-01-14T00:00:00\",\"2019-01-14T07:00:00\",\"2019-01-14T21:00:00\",\"2019-01-14T23:00:00\",\"2019-01-15T00:00:00\",\"2019-01-15T08:00:00\",\"2019-01-15T13:00:00\",\"2019-01-15T19:00:00\",\"2019-01-15T22:00:00\",\"2019-01-15T23:00:00\",\"2019-01-16T11:00:00\",\"2019-01-16T12:00:00\",\"2019-01-16T14:00:00\",\"2019-01-16T17:00:00\",\"2019-01-17T08:00:00\",\"2019-01-17T09:00:00\",\"2019-01-17T12:00:00\",\"2019-01-17T21:00:00\",\"2019-01-18T06:00:00\",\"2019-01-18T07:00:00\",\"2019-01-18T15:00:00\",\"2019-01-18T22:00:00\",\"2019-01-18T23:00:00\",\"2019-01-19T03:00:00\",\"2019-01-19T11:00:00\",\"2019-01-19T14:00:00\",\"2019-01-19T19:00:00\",\"2019-01-19T20:00:00\",\"2019-01-20T00:00:00\",\"2019-01-20T01:00:00\",\"2019-01-20T02:00:00\",\"2019-01-20T08:00:00\",\"2019-01-20T11:00:00\",\"2019-01-20T12:00:00\",\"2019-01-20T14:00:00\",\"2019-01-20T19:00:00\",\"2019-01-20T21:00:00\",\"2019-01-21T01:00:00\",\"2019-01-21T09:00:00\",\"2019-01-21T12:00:00\",\"2019-01-21T16:00:00\",\"2019-01-21T17:00:00\",\"2019-01-21T19:00:00\",\"2019-01-21T22:00:00\",\"2019-01-22T09:00:00\",\"2019-01-22T15:00:00\",\"2019-01-22T20:00:00\",\"2019-01-22T22:00:00\",\"2019-01-23T19:00:00\",\"2019-01-23T20:00:00\",\"2019-01-24T02:00:00\",\"2019-01-24T07:00:00\",\"2019-01-24T12:00:00\",\"2019-01-24T19:00:00\",\"2019-01-24T21:00:00\",\"2019-01-25T03:00:00\",\"2019-01-25T19:00:00\",\"2019-01-25T20:00:00\",\"2019-01-25T21:00:00\",\"2019-01-26T02:00:00\",\"2019-01-26T07:00:00\",\"2019-01-26T12:00:00\",\"2019-01-26T13:00:00\",\"2019-01-26T21:00:00\",\"2019-01-27T00:00:00\",\"2019-01-27T07:00:00\",\"2019-01-27T11:00:00\",\"2019-01-27T12:00:00\",\"2019-01-27T14:00:00\",\"2019-01-27T20:00:00\",\"2019-01-28T07:00:00\",\"2019-01-28T10:00:00\",\"2019-01-28T17:00:00\",\"2019-01-28T19:00:00\",\"2019-01-29T00:00:00\",\"2019-01-29T10:00:00\",\"2019-01-29T12:00:00\",\"2019-01-30T06:00:00\",\"2019-01-30T14:00:00\",\"2019-01-30T21:00:00\",\"2019-01-31T01:00:00\",\"2019-01-31T09:00:00\",\"2019-01-31T15:00:00\",\"2019-02-01T11:00:00\",\"2019-02-01T19:00:00\",\"2019-02-02T00:00:00\",\"2019-02-02T06:00:00\",\"2019-02-02T10:00:00\",\"2019-02-02T11:00:00\",\"2019-02-02T13:00:00\",\"2019-02-02T16:00:00\",\"2019-02-03T02:00:00\",\"2019-02-03T06:00:00\",\"2019-02-03T23:00:00\",\"2019-02-04T08:00:00\",\"2019-02-04T10:00:00\",\"2019-02-04T19:00:00\",\"2019-02-04T22:00:00\",\"2019-02-06T07:00:00\",\"2019-02-06T10:00:00\",\"2019-02-06T11:00:00\",\"2019-02-06T15:00:00\",\"2019-02-06T16:00:00\",\"2019-02-07T07:00:00\",\"2019-02-07T10:00:00\",\"2019-02-07T14:00:00\",\"2019-02-07T18:00:00\",\"2019-02-08T08:00:00\",\"2019-02-08T11:00:00\",\"2019-02-08T14:00:00\",\"2019-02-08T16:00:00\",\"2019-02-09T11:00:00\",\"2019-02-09T12:00:00\",\"2019-02-09T15:00:00\",\"2019-02-09T19:00:00\",\"2019-02-10T19:00:00\",\"2019-02-11T08:00:00\",\"2019-02-11T15:00:00\",\"2019-02-11T16:00:00\",\"2019-02-11T18:00:00\",\"2019-02-11T21:00:00\",\"2019-02-12T07:00:00\",\"2019-02-12T13:00:00\",\"2019-02-12T15:00:00\",\"2019-02-12T16:00:00\",\"2019-02-13T06:00:00\",\"2019-02-13T07:00:00\",\"2019-02-13T10:00:00\",\"2019-02-13T20:00:00\",\"2019-02-13T22:00:00\",\"2019-02-14T03:00:00\",\"2019-02-14T13:00:00\",\"2019-02-15T15:00:00\",\"2019-02-15T16:00:00\",\"2019-02-15T22:00:00\",\"2019-02-16T16:00:00\",\"2019-02-16T17:00:00\",\"2019-02-17T11:00:00\",\"2019-02-17T15:00:00\",\"2019-02-17T19:00:00\",\"2019-02-17T22:00:00\",\"2019-02-18T09:00:00\",\"2019-02-18T13:00:00\",\"2019-02-19T07:00:00\",\"2019-02-19T11:00:00\",\"2019-02-19T14:00:00\",\"2019-02-19T15:00:00\",\"2019-02-20T00:00:00\",\"2019-02-20T12:00:00\",\"2019-02-20T14:00:00\",\"2019-02-20T20:00:00\",\"2019-02-21T00:00:00\",\"2019-02-21T15:00:00\",\"2019-02-21T17:00:00\",\"2019-02-21T20:00:00\",\"2019-02-21T22:00:00\",\"2019-02-21T23:00:00\",\"2019-02-22T08:00:00\",\"2019-02-22T11:00:00\",\"2019-02-22T20:00:00\",\"2019-02-23T01:00:00\",\"2019-02-23T02:00:00\",\"2019-02-23T07:00:00\",\"2019-02-23T08:00:00\",\"2019-02-23T12:00:00\",\"2019-02-24T00:00:00\",\"2019-02-24T02:00:00\",\"2019-02-24T09:00:00\",\"2019-02-24T10:00:00\",\"2019-02-24T15:00:00\",\"2019-02-24T21:00:00\",\"2019-02-25T04:00:00\",\"2019-02-25T09:00:00\",\"2019-02-25T18:00:00\",\"2019-02-25T20:00:00\",\"2019-02-25T23:00:00\",\"2019-02-26T01:00:00\",\"2019-02-26T12:00:00\",\"2019-02-27T10:00:00\",\"2019-02-27T12:00:00\",\"2019-02-27T15:00:00\",\"2019-02-27T16:00:00\",\"2019-02-28T01:00:00\",\"2019-02-28T10:00:00\",\"2019-03-01T01:00:00\",\"2019-03-01T10:00:00\",\"2019-03-01T12:00:00\",\"2019-03-01T21:00:00\",\"2019-03-02T00:00:00\",\"2019-03-02T10:00:00\",\"2019-03-02T14:00:00\",\"2019-03-02T17:00:00\",\"2019-03-02T18:00:00\",\"2019-03-03T01:00:00\",\"2019-03-03T04:00:00\",\"2019-03-03T06:00:00\",\"2019-03-03T09:00:00\",\"2019-03-03T13:00:00\",\"2019-03-03T21:00:00\",\"2019-03-04T11:00:00\",\"2019-03-04T15:00:00\",\"2019-03-05T12:00:00\",\"2019-03-06T02:00:00\",\"2019-03-06T13:00:00\",\"2019-03-06T14:00:00\",\"2019-03-06T19:00:00\",\"2019-03-06T21:00:00\",\"2019-03-07T11:00:00\",\"2019-03-07T17:00:00\",\"2019-03-07T21:00:00\",\"2019-03-08T05:00:00\",\"2019-03-08T06:00:00\",\"2019-03-08T15:00:00\",\"2019-03-08T22:00:00\",\"2019-03-09T00:00:00\",\"2019-03-09T03:00:00\",\"2019-03-09T10:00:00\",\"2019-03-09T13:00:00\",\"2019-03-09T21:00:00\",\"2019-03-10T01:00:00\",\"2019-03-10T03:00:00\",\"2019-03-10T05:00:00\",\"2019-03-10T06:00:00\",\"2019-03-10T15:00:00\",\"2019-03-10T20:00:00\",\"2019-03-11T00:00:00\",\"2019-03-11T05:00:00\",\"2019-03-11T10:00:00\",\"2019-03-11T11:00:00\",\"2019-03-11T12:00:00\",\"2019-03-11T14:00:00\",\"2019-03-11T16:00:00\",\"2019-03-11T21:00:00\",\"2019-03-12T07:00:00\",\"2019-03-12T08:00:00\",\"2019-03-12T20:00:00\",\"2019-03-12T22:00:00\",\"2019-03-13T00:00:00\",\"2019-03-13T02:00:00\",\"2019-03-13T05:00:00\",\"2019-03-13T07:00:00\",\"2019-03-13T08:00:00\",\"2019-03-14T06:00:00\",\"2019-03-14T07:00:00\",\"2019-03-14T09:00:00\",\"2019-03-14T11:00:00\",\"2019-03-15T09:00:00\",\"2019-03-15T15:00:00\",\"2019-03-15T17:00:00\",\"2019-03-15T19:00:00\",\"2019-03-15T20:00:00\",\"2019-03-15T21:00:00\",\"2019-03-16T00:00:00\",\"2019-03-16T08:00:00\",\"2019-03-16T09:00:00\",\"2019-03-16T11:00:00\",\"2019-03-16T17:00:00\",\"2019-03-16T19:00:00\",\"2019-03-16T23:00:00\",\"2019-03-17T08:00:00\",\"2019-03-17T10:00:00\",\"2019-03-17T20:00:00\",\"2019-03-18T00:00:00\",\"2019-03-18T06:00:00\",\"2019-03-18T07:00:00\",\"2019-03-18T08:00:00\",\"2019-03-18T10:00:00\",\"2019-03-18T19:00:00\",\"2019-03-18T22:00:00\",\"2019-03-19T02:00:00\",\"2019-03-19T05:00:00\",\"2019-03-19T07:00:00\",\"2019-03-19T11:00:00\",\"2019-03-19T14:00:00\",\"2019-03-19T22:00:00\",\"2019-03-19T23:00:00\",\"2019-03-20T13:00:00\",\"2019-03-20T22:00:00\",\"2019-03-21T13:00:00\",\"2019-03-21T20:00:00\",\"2019-03-21T22:00:00\",\"2019-03-21T23:00:00\",\"2019-03-22T00:00:00\",\"2019-03-22T10:00:00\",\"2019-03-22T12:00:00\",\"2019-03-22T14:00:00\",\"2019-03-22T22:00:00\",\"2019-03-23T02:00:00\",\"2019-03-23T07:00:00\",\"2019-03-23T08:00:00\",\"2019-03-23T09:00:00\",\"2019-03-23T17:00:00\",\"2019-03-24T00:00:00\",\"2019-03-24T01:00:00\",\"2019-03-24T07:00:00\",\"2019-03-24T19:00:00\",\"2019-03-24T22:00:00\",\"2019-03-25T00:00:00\",\"2019-03-25T05:00:00\",\"2019-03-25T06:00:00\",\"2019-03-25T07:00:00\",\"2019-03-25T08:00:00\",\"2019-03-25T09:00:00\",\"2019-03-25T19:00:00\",\"2019-03-26T00:00:00\",\"2019-03-26T10:00:00\",\"2019-03-26T11:00:00\",\"2019-03-26T15:00:00\",\"2019-03-26T22:00:00\",\"2019-03-27T07:00:00\",\"2019-03-27T21:00:00\",\"2019-03-28T08:00:00\",\"2019-03-28T09:00:00\",\"2019-03-28T10:00:00\",\"2019-03-28T12:00:00\",\"2019-03-28T18:00:00\",\"2019-03-29T11:00:00\",\"2019-03-29T13:00:00\",\"2019-03-29T15:00:00\",\"2019-03-29T17:00:00\",\"2019-03-29T20:00:00\",\"2019-03-29T21:00:00\",\"2019-03-29T23:00:00\",\"2019-03-30T01:00:00\",\"2019-03-30T08:00:00\",\"2019-03-30T14:00:00\",\"2019-03-31T22:00:00\",\"2019-03-31T23:00:00\",\"2019-04-01T07:00:00\",\"2019-04-01T08:00:00\",\"2019-04-01T14:00:00\",\"2019-04-01T15:00:00\",\"2019-04-01T21:00:00\",\"2019-04-01T23:00:00\",\"2019-04-02T18:00:00\",\"2019-04-02T19:00:00\",\"2019-04-03T09:00:00\",\"2019-04-03T12:00:00\",\"2019-04-03T16:00:00\",\"2019-04-03T17:00:00\",\"2019-04-03T18:00:00\",\"2019-04-04T00:00:00\",\"2019-04-04T01:00:00\",\"2019-04-04T06:00:00\",\"2019-04-04T17:00:00\",\"2019-04-05T08:00:00\",\"2019-04-05T09:00:00\",\"2019-04-05T10:00:00\",\"2019-04-05T12:00:00\",\"2019-04-05T18:00:00\",\"2019-04-05T23:00:00\",\"2019-04-06T05:00:00\",\"2019-04-06T07:00:00\",\"2019-04-06T17:00:00\",\"2019-04-06T22:00:00\",\"2019-04-06T23:00:00\",\"2019-04-07T01:00:00\",\"2019-04-07T02:00:00\",\"2019-04-07T06:00:00\",\"2019-04-07T09:00:00\",\"2019-04-07T14:00:00\",\"2019-04-07T16:00:00\",\"2019-04-07T18:00:00\",\"2019-04-07T22:00:00\",\"2019-04-08T09:00:00\",\"2019-04-08T16:00:00\",\"2019-04-08T18:00:00\",\"2019-04-08T19:00:00\",\"2019-04-08T20:00:00\",\"2019-04-08T22:00:00\",\"2019-04-09T03:00:00\",\"2019-04-09T15:00:00\",\"2019-04-09T19:00:00\",\"2019-04-10T00:00:00\",\"2019-04-10T05:00:00\",\"2019-04-10T07:00:00\",\"2019-04-10T14:00:00\",\"2019-04-10T15:00:00\",\"2019-04-10T16:00:00\",\"2019-04-10T19:00:00\",\"2019-04-11T08:00:00\",\"2019-04-11T09:00:00\",\"2019-04-11T17:00:00\",\"2019-04-11T18:00:00\",\"2019-04-11T23:00:00\",\"2019-04-12T06:00:00\",\"2019-04-12T12:00:00\",\"2019-04-13T12:00:00\",\"2019-04-13T13:00:00\",\"2019-04-13T19:00:00\",\"2019-04-14T02:00:00\",\"2019-04-14T05:00:00\",\"2019-04-14T10:00:00\",\"2019-04-14T12:00:00\",\"2019-04-14T14:00:00\",\"2019-04-14T16:00:00\",\"2019-04-14T17:00:00\",\"2019-04-15T00:00:00\",\"2019-04-15T13:00:00\",\"2019-04-15T16:00:00\",\"2019-04-15T18:00:00\",\"2019-04-16T19:00:00\",\"2019-04-17T03:00:00\",\"2019-04-17T08:00:00\",\"2019-04-17T13:00:00\",\"2019-04-17T19:00:00\",\"2019-04-18T07:00:00\",\"2019-04-18T15:00:00\",\"2019-04-19T01:00:00\",\"2019-04-19T02:00:00\",\"2019-04-19T04:00:00\",\"2019-04-19T10:00:00\",\"2019-04-19T23:00:00\",\"2019-04-20T06:00:00\",\"2019-04-20T09:00:00\",\"2019-04-20T17:00:00\",\"2019-04-20T20:00:00\",\"2019-04-20T22:00:00\",\"2019-04-20T23:00:00\",\"2019-04-21T00:00:00\",\"2019-04-21T03:00:00\",\"2019-04-21T08:00:00\",\"2019-04-21T15:00:00\",\"2019-04-21T16:00:00\",\"2019-04-21T23:00:00\",\"2019-04-22T01:00:00\",\"2019-04-22T07:00:00\",\"2019-04-22T10:00:00\",\"2019-04-22T11:00:00\",\"2019-04-22T17:00:00\",\"2019-04-22T19:00:00\",\"2019-04-22T21:00:00\",\"2019-04-23T21:00:00\",\"2019-04-23T22:00:00\",\"2019-04-24T00:00:00\",\"2019-04-24T07:00:00\",\"2019-04-24T19:00:00\",\"2019-04-24T20:00:00\",\"2019-04-25T02:00:00\",\"2019-04-25T06:00:00\",\"2019-04-25T22:00:00\",\"2019-04-26T03:00:00\",\"2019-04-26T11:00:00\",\"2019-04-26T22:00:00\",\"2019-04-27T11:00:00\",\"2019-04-27T14:00:00\",\"2019-04-27T22:00:00\",\"2019-04-29T01:00:00\",\"2019-04-29T13:00:00\",\"2019-04-29T23:00:00\",\"2019-04-30T07:00:00\",\"2019-04-30T17:00:00\",\"2019-04-30T20:00:00\",\"2019-04-30T21:00:00\",\"2019-04-30T22:00:00\",\"2019-05-01T07:00:00\",\"2019-05-01T15:00:00\",\"2019-05-01T16:00:00\",\"2019-05-01T18:00:00\",\"2019-05-02T04:00:00\",\"2019-05-02T19:00:00\",\"2019-05-02T20:00:00\",\"2019-05-03T11:00:00\",\"2019-05-03T14:00:00\",\"2019-05-03T15:00:00\",\"2019-05-03T19:00:00\",\"2019-05-03T22:00:00\",\"2019-05-04T10:00:00\",\"2019-05-04T13:00:00\",\"2019-05-04T16:00:00\",\"2019-05-04T21:00:00\",\"2019-05-05T07:00:00\",\"2019-05-05T13:00:00\",\"2019-05-05T23:00:00\",\"2019-05-06T00:00:00\",\"2019-05-06T03:00:00\",\"2019-05-06T22:00:00\",\"2019-05-07T11:00:00\",\"2019-05-07T12:00:00\",\"2019-05-07T16:00:00\",\"2019-05-07T18:00:00\",\"2019-05-08T00:00:00\",\"2019-05-08T09:00:00\",\"2019-05-08T13:00:00\",\"2019-05-08T14:00:00\",\"2019-05-08T16:00:00\",\"2019-05-08T22:00:00\",\"2019-05-09T06:00:00\",\"2019-05-09T12:00:00\",\"2019-05-09T19:00:00\",\"2019-05-09T23:00:00\",\"2019-05-10T08:00:00\",\"2019-05-10T14:00:00\",\"2019-05-11T07:00:00\",\"2019-05-11T19:00:00\",\"2019-05-11T21:00:00\",\"2019-05-12T03:00:00\",\"2019-05-12T18:00:00\",\"2019-05-13T06:00:00\",\"2019-05-13T08:00:00\",\"2019-05-13T11:00:00\",\"2019-05-14T06:00:00\",\"2019-05-14T15:00:00\",\"2019-05-14T20:00:00\",\"2019-05-15T01:00:00\",\"2019-05-15T19:00:00\",\"2019-05-16T13:00:00\",\"2019-05-16T18:00:00\",\"2019-05-17T11:00:00\",\"2019-05-17T16:00:00\",\"2019-05-18T00:00:00\",\"2019-05-18T01:00:00\",\"2019-05-18T10:00:00\",\"2019-05-18T12:00:00\",\"2019-05-18T15:00:00\",\"2019-05-18T16:00:00\",\"2019-05-18T19:00:00\",\"2019-05-18T23:00:00\",\"2019-05-19T09:00:00\",\"2019-05-19T10:00:00\",\"2019-05-19T13:00:00\",\"2019-05-19T18:00:00\",\"2019-05-19T20:00:00\",\"2019-05-19T22:00:00\",\"2019-05-20T07:00:00\",\"2019-05-20T10:00:00\",\"2019-05-20T18:00:00\",\"2019-05-20T19:00:00\",\"2019-05-20T20:00:00\",\"2019-05-20T23:00:00\",\"2019-05-21T16:00:00\",\"2019-05-22T00:00:00\",\"2019-05-22T08:00:00\",\"2019-05-22T11:00:00\",\"2019-05-22T13:00:00\",\"2019-05-22T14:00:00\",\"2019-05-24T20:00:00\",\"2019-05-25T00:00:00\",\"2019-05-25T04:00:00\",\"2019-05-25T09:00:00\",\"2019-05-25T21:00:00\",\"2019-05-26T17:00:00\",\"2019-05-26T18:00:00\",\"2019-05-26T19:00:00\",\"2019-05-27T07:00:00\",\"2019-05-27T11:00:00\",\"2019-05-27T13:00:00\",\"2019-05-27T22:00:00\",\"2019-05-27T23:00:00\",\"2019-05-28T06:00:00\",\"2019-05-28T09:00:00\",\"2019-05-28T14:00:00\",\"2019-05-28T17:00:00\",\"2019-05-29T07:00:00\",\"2019-05-29T10:00:00\",\"2019-05-29T11:00:00\",\"2019-05-29T20:00:00\",\"2019-05-30T01:00:00\",\"2019-05-30T03:00:00\",\"2019-05-30T06:00:00\",\"2019-05-30T11:00:00\",\"2019-05-30T17:00:00\",\"2019-05-30T19:00:00\",\"2019-05-31T03:00:00\",\"2019-05-31T08:00:00\",\"2019-05-31T12:00:00\",\"2019-05-31T14:00:00\",\"2019-05-31T16:00:00\",\"2019-05-31T20:00:00\",\"2019-05-31T21:00:00\",\"2019-05-31T23:00:00\",\"2019-06-01T06:00:00\",\"2019-06-01T09:00:00\",\"2019-06-01T12:00:00\",\"2019-06-01T15:00:00\",\"2019-06-01T16:00:00\",\"2019-06-01T17:00:00\",\"2019-06-01T19:00:00\",\"2019-06-01T22:00:00\",\"2019-06-01T23:00:00\",\"2019-06-02T03:00:00\",\"2019-06-02T12:00:00\",\"2019-06-02T15:00:00\",\"2019-06-03T06:00:00\",\"2019-06-03T08:00:00\",\"2019-06-03T11:00:00\",\"2019-06-03T19:00:00\",\"2019-06-04T00:00:00\",\"2019-06-04T07:00:00\",\"2019-06-04T10:00:00\",\"2019-06-04T11:00:00\",\"2019-06-05T08:00:00\",\"2019-06-05T13:00:00\",\"2019-06-05T18:00:00\",\"2019-06-05T20:00:00\",\"2019-06-06T00:00:00\",\"2019-06-06T13:00:00\",\"2019-06-06T16:00:00\",\"2019-06-06T17:00:00\",\"2019-06-06T20:00:00\",\"2019-06-07T00:00:00\",\"2019-06-07T11:00:00\",\"2019-06-08T02:00:00\",\"2019-06-08T11:00:00\",\"2019-06-08T14:00:00\",\"2019-06-09T04:00:00\",\"2019-06-09T07:00:00\",\"2019-06-09T18:00:00\",\"2019-06-09T20:00:00\",\"2019-06-09T23:00:00\",\"2019-06-10T02:00:00\",\"2019-06-10T04:00:00\",\"2019-06-10T08:00:00\",\"2019-06-10T09:00:00\",\"2019-06-10T13:00:00\",\"2019-06-10T21:00:00\",\"2019-06-10T23:00:00\",\"2019-06-11T08:00:00\",\"2019-06-11T09:00:00\",\"2019-06-11T21:00:00\",\"2019-06-11T23:00:00\",\"2019-06-12T03:00:00\",\"2019-06-12T10:00:00\",\"2019-06-12T21:00:00\",\"2019-06-12T22:00:00\",\"2019-06-12T23:00:00\",\"2019-06-13T06:00:00\",\"2019-06-13T10:00:00\",\"2019-06-13T19:00:00\",\"2019-06-13T20:00:00\",\"2019-06-13T21:00:00\",\"2019-06-14T01:00:00\",\"2019-06-14T08:00:00\",\"2019-06-14T13:00:00\",\"2019-06-14T14:00:00\",\"2019-06-15T02:00:00\",\"2019-06-15T03:00:00\",\"2019-06-15T15:00:00\",\"2019-06-15T19:00:00\",\"2019-06-15T20:00:00\",\"2019-06-16T02:00:00\",\"2019-06-16T04:00:00\",\"2019-06-16T09:00:00\",\"2019-06-16T10:00:00\",\"2019-06-16T11:00:00\",\"2019-06-16T13:00:00\",\"2019-06-17T00:00:00\",\"2019-06-17T08:00:00\",\"2019-06-17T14:00:00\",\"2019-06-17T15:00:00\",\"2019-06-17T16:00:00\",\"2019-06-17T20:00:00\",\"2019-06-17T23:00:00\",\"2019-06-18T06:00:00\",\"2019-06-18T07:00:00\",\"2019-06-18T10:00:00\",\"2019-06-20T18:00:00\",\"2019-06-21T03:00:00\",\"2019-06-21T07:00:00\",\"2019-06-21T09:00:00\",\"2019-06-21T10:00:00\",\"2019-06-21T13:00:00\",\"2019-06-22T10:00:00\",\"2019-06-22T11:00:00\",\"2019-06-22T15:00:00\",\"2019-06-22T19:00:00\",\"2019-06-23T00:00:00\",\"2019-06-23T02:00:00\",\"2019-06-23T07:00:00\",\"2019-06-23T09:00:00\",\"2019-06-23T14:00:00\",\"2019-06-23T16:00:00\",\"2019-06-23T20:00:00\",\"2019-06-23T23:00:00\",\"2019-06-24T00:00:00\",\"2019-06-24T07:00:00\",\"2019-06-24T10:00:00\",\"2019-06-24T12:00:00\",\"2019-06-24T17:00:00\",\"2019-06-24T19:00:00\",\"2019-06-25T07:00:00\",\"2019-06-25T11:00:00\",\"2019-06-25T12:00:00\",\"2019-06-25T21:00:00\",\"2019-06-25T23:00:00\",\"2019-06-26T00:00:00\",\"2019-06-26T02:00:00\",\"2019-06-26T04:00:00\",\"2019-06-26T07:00:00\",\"2019-06-26T10:00:00\",\"2019-06-26T11:00:00\",\"2019-06-26T12:00:00\",\"2019-06-26T13:00:00\",\"2019-06-26T14:00:00\",\"2019-06-27T01:00:00\",\"2019-06-27T04:00:00\",\"2019-06-27T06:00:00\",\"2019-06-27T12:00:00\",\"2019-06-27T23:00:00\",\"2019-06-28T18:00:00\",\"2019-06-28T19:00:00\",\"2019-06-28T20:00:00\",\"2019-06-29T01:00:00\",\"2019-06-29T20:00:00\",\"2019-06-30T14:00:00\",\"2019-07-01T07:00:00\",\"2019-07-01T08:00:00\",\"2019-07-01T09:00:00\",\"2019-07-01T19:00:00\",\"2019-07-01T20:00:00\",\"2019-07-01T22:00:00\",\"2019-07-02T09:00:00\",\"2019-07-02T10:00:00\",\"2019-07-02T13:00:00\",\"2019-07-02T16:00:00\",\"2019-07-02T17:00:00\",\"2019-07-02T21:00:00\",\"2019-07-03T14:00:00\",\"2019-07-03T16:00:00\",\"2019-07-03T17:00:00\",\"2019-07-03T18:00:00\",\"2019-07-03T19:00:00\",\"2019-07-04T17:00:00\",\"2019-07-04T18:00:00\",\"2019-07-05T01:00:00\",\"2019-07-05T16:00:00\",\"2019-07-05T18:00:00\",\"2019-07-05T21:00:00\",\"2019-07-06T00:00:00\",\"2019-07-06T08:00:00\",\"2019-07-06T10:00:00\",\"2019-07-06T19:00:00\",\"2019-07-06T21:00:00\",\"2019-07-07T02:00:00\",\"2019-07-07T04:00:00\",\"2019-07-07T10:00:00\",\"2019-07-07T16:00:00\",\"2019-07-07T17:00:00\",\"2019-07-07T18:00:00\",\"2019-07-07T20:00:00\",\"2019-07-07T21:00:00\",\"2019-07-08T13:00:00\",\"2019-07-08T19:00:00\",\"2019-07-08T23:00:00\",\"2019-07-09T08:00:00\",\"2019-07-09T10:00:00\",\"2019-07-09T11:00:00\",\"2019-07-09T13:00:00\",\"2019-07-09T14:00:00\",\"2019-07-09T19:00:00\",\"2019-07-10T11:00:00\",\"2019-07-10T15:00:00\",\"2019-07-10T20:00:00\",\"2019-07-10T22:00:00\",\"2019-07-11T11:00:00\",\"2019-07-11T13:00:00\",\"2019-07-11T18:00:00\",\"2019-07-12T11:00:00\",\"2019-07-12T13:00:00\",\"2019-07-12T14:00:00\",\"2019-07-12T16:00:00\",\"2019-07-12T20:00:00\",\"2019-07-13T21:00:00\",\"2019-07-14T11:00:00\",\"2019-07-14T17:00:00\",\"2019-07-15T10:00:00\",\"2019-07-16T07:00:00\",\"2019-07-16T17:00:00\",\"2019-07-17T00:00:00\",\"2019-07-17T22:00:00\",\"2019-07-17T23:00:00\",\"2019-07-18T06:00:00\",\"2019-07-18T12:00:00\",\"2019-07-18T16:00:00\",\"2019-07-19T11:00:00\",\"2019-07-19T23:00:00\",\"2019-07-20T16:00:00\",\"2019-07-20T17:00:00\",\"2019-07-21T14:00:00\",\"2019-07-22T10:00:00\",\"2019-07-22T17:00:00\",\"2019-07-22T18:00:00\",\"2019-07-22T19:00:00\",\"2019-07-23T07:00:00\",\"2019-07-23T11:00:00\",\"2019-07-23T14:00:00\",\"2019-07-23T15:00:00\",\"2019-07-23T18:00:00\",\"2019-07-23T21:00:00\",\"2019-07-24T04:00:00\",\"2019-07-24T11:00:00\",\"2019-07-24T13:00:00\",\"2019-07-24T14:00:00\",\"2019-07-24T19:00:00\",\"2019-07-24T21:00:00\",\"2019-07-25T11:00:00\",\"2019-07-25T13:00:00\",\"2019-07-25T17:00:00\",\"2019-07-26T11:00:00\",\"2019-07-26T12:00:00\",\"2019-07-26T15:00:00\",\"2019-07-27T10:00:00\",\"2019-07-27T17:00:00\",\"2019-07-27T18:00:00\",\"2019-07-27T20:00:00\",\"2019-07-27T21:00:00\",\"2019-07-28T08:00:00\",\"2019-07-28T09:00:00\",\"2019-07-29T00:00:00\",\"2019-07-29T03:00:00\",\"2019-07-29T11:00:00\",\"2019-07-29T20:00:00\",\"2019-07-30T08:00:00\",\"2019-07-30T21:00:00\",\"2019-07-30T23:00:00\",\"2019-07-31T08:00:00\",\"2019-07-31T09:00:00\",\"2019-07-31T11:00:00\",\"2019-07-31T12:00:00\",\"2019-07-31T14:00:00\",\"2019-07-31T19:00:00\",\"2019-07-31T22:00:00\",\"2019-08-01T12:00:00\",\"2019-08-01T17:00:00\",\"2019-08-01T19:00:00\",\"2019-08-01T20:00:00\",\"2019-08-02T06:00:00\",\"2019-08-02T07:00:00\",\"2019-08-02T09:00:00\",\"2019-08-02T12:00:00\",\"2019-08-02T15:00:00\",\"2019-08-02T17:00:00\",\"2019-08-02T23:00:00\",\"2019-08-03T00:00:00\",\"2019-08-03T02:00:00\",\"2019-08-03T11:00:00\",\"2019-08-03T19:00:00\",\"2019-08-03T22:00:00\",\"2019-08-04T06:00:00\",\"2019-08-04T08:00:00\",\"2019-08-04T10:00:00\",\"2019-08-04T13:00:00\",\"2019-08-04T15:00:00\",\"2019-08-05T03:00:00\",\"2019-08-05T11:00:00\",\"2019-08-05T14:00:00\",\"2019-08-05T21:00:00\",\"2019-08-05T23:00:00\",\"2019-08-06T09:00:00\",\"2019-08-06T22:00:00\",\"2019-08-06T23:00:00\",\"2019-08-07T18:00:00\",\"2019-08-07T20:00:00\",\"2019-08-09T09:00:00\",\"2019-08-09T18:00:00\",\"2019-08-10T02:00:00\",\"2019-08-10T10:00:00\",\"2019-08-10T12:00:00\",\"2019-08-10T15:00:00\",\"2019-08-10T17:00:00\",\"2019-08-10T18:00:00\",\"2019-08-10T21:00:00\",\"2019-08-10T23:00:00\",\"2019-08-11T00:00:00\",\"2019-08-11T11:00:00\",\"2019-08-11T15:00:00\",\"2019-08-11T21:00:00\",\"2019-08-11T23:00:00\",\"2019-08-12T09:00:00\",\"2019-08-12T10:00:00\",\"2019-08-12T13:00:00\",\"2019-08-12T15:00:00\",\"2019-08-12T16:00:00\",\"2019-08-12T18:00:00\",\"2019-08-13T07:00:00\",\"2019-08-13T08:00:00\",\"2019-08-13T20:00:00\",\"2019-08-14T09:00:00\",\"2019-08-14T10:00:00\",\"2019-08-14T14:00:00\",\"2019-08-14T16:00:00\",\"2019-08-14T18:00:00\",\"2019-08-14T20:00:00\",\"2019-08-15T11:00:00\",\"2019-08-15T15:00:00\",\"2019-08-15T16:00:00\",\"2019-08-15T19:00:00\",\"2019-08-16T10:00:00\",\"2019-08-16T14:00:00\",\"2019-08-17T08:00:00\",\"2019-08-17T15:00:00\",\"2019-08-17T17:00:00\",\"2019-08-17T20:00:00\",\"2019-08-17T23:00:00\",\"2019-08-18T02:00:00\",\"2019-08-18T13:00:00\",\"2019-08-18T16:00:00\",\"2019-08-18T18:00:00\",\"2019-08-18T21:00:00\",\"2019-08-18T22:00:00\",\"2019-08-19T05:00:00\",\"2019-08-19T11:00:00\",\"2019-08-19T18:00:00\",\"2019-08-19T21:00:00\",\"2019-08-20T07:00:00\",\"2019-08-20T15:00:00\",\"2019-08-21T07:00:00\",\"2019-08-22T11:00:00\",\"2019-08-22T13:00:00\",\"2019-08-22T23:00:00\",\"2019-08-23T06:00:00\",\"2019-08-23T07:00:00\",\"2019-08-23T17:00:00\",\"2019-08-23T18:00:00\",\"2019-08-23T20:00:00\",\"2019-08-24T12:00:00\",\"2019-08-24T17:00:00\",\"2019-08-24T18:00:00\",\"2019-08-25T18:00:00\",\"2019-08-26T15:00:00\",\"2019-08-26T16:00:00\",\"2019-08-26T18:00:00\",\"2019-08-26T22:00:00\",\"2019-08-27T06:00:00\",\"2019-08-27T08:00:00\",\"2019-08-27T21:00:00\",\"2019-08-27T22:00:00\",\"2019-08-28T01:00:00\",\"2019-08-28T14:00:00\",\"2019-08-28T15:00:00\",\"2019-08-28T19:00:00\",\"2019-08-28T23:00:00\",\"2019-08-29T02:00:00\",\"2019-08-29T16:00:00\",\"2019-08-30T10:00:00\",\"2019-08-30T17:00:00\",\"2019-08-31T07:00:00\",\"2019-08-31T11:00:00\",\"2019-08-31T14:00:00\",\"2019-08-31T16:00:00\",\"2019-08-31T20:00:00\",\"2019-09-01T03:00:00\",\"2019-09-01T19:00:00\",\"2019-09-02T09:00:00\",\"2019-09-03T14:00:00\",\"2019-09-03T16:00:00\",\"2019-09-04T10:00:00\",\"2019-09-04T16:00:00\",\"2019-09-04T17:00:00\",\"2019-09-04T21:00:00\",\"2019-09-05T10:00:00\",\"2019-09-05T11:00:00\",\"2019-09-05T15:00:00\",\"2019-09-05T17:00:00\",\"2019-09-06T06:00:00\",\"2019-09-06T07:00:00\",\"2019-09-06T08:00:00\",\"2019-09-06T15:00:00\",\"2019-09-06T16:00:00\",\"2019-09-06T20:00:00\",\"2019-09-07T00:00:00\",\"2019-09-08T12:00:00\",\"2019-09-08T16:00:00\",\"2019-09-08T22:00:00\",\"2019-09-09T10:00:00\",\"2019-09-09T11:00:00\",\"2019-09-09T15:00:00\",\"2019-09-09T17:00:00\",\"2019-09-09T21:00:00\",\"2019-09-10T13:00:00\",\"2019-09-10T18:00:00\",\"2019-09-11T13:00:00\",\"2019-09-11T21:00:00\",\"2019-09-12T06:00:00\",\"2019-09-12T12:00:00\",\"2019-09-12T16:00:00\",\"2019-09-12T17:00:00\",\"2019-09-12T22:00:00\",\"2019-09-13T12:00:00\",\"2019-09-13T18:00:00\",\"2019-09-13T19:00:00\",\"2019-09-13T23:00:00\",\"2019-09-14T02:00:00\",\"2019-09-14T10:00:00\",\"2019-09-14T15:00:00\",\"2019-09-14T16:00:00\",\"2019-09-14T22:00:00\",\"2019-09-15T14:00:00\",\"2019-09-15T15:00:00\",\"2019-09-15T16:00:00\",\"2019-09-16T10:00:00\",\"2019-09-17T08:00:00\",\"2019-09-17T13:00:00\",\"2019-09-17T14:00:00\",\"2019-09-17T22:00:00\",\"2019-09-18T08:00:00\",\"2019-09-18T10:00:00\",\"2019-09-18T12:00:00\",\"2019-09-18T14:00:00\",\"2019-09-18T22:00:00\",\"2019-09-19T00:00:00\",\"2019-09-19T06:00:00\",\"2019-09-19T10:00:00\",\"2019-09-19T21:00:00\",\"2019-09-19T22:00:00\",\"2019-09-20T14:00:00\",\"2019-09-20T15:00:00\",\"2019-09-20T16:00:00\",\"2019-09-20T17:00:00\",\"2019-09-21T02:00:00\",\"2019-09-21T13:00:00\",\"2019-09-21T14:00:00\",\"2019-09-21T15:00:00\",\"2019-09-21T18:00:00\",\"2019-09-21T20:00:00\",\"2019-09-21T23:00:00\",\"2019-09-22T02:00:00\",\"2019-09-22T09:00:00\",\"2019-09-22T18:00:00\",\"2019-09-22T21:00:00\",\"2019-09-23T11:00:00\",\"2019-09-23T12:00:00\",\"2019-09-23T14:00:00\",\"2019-09-23T16:00:00\",\"2019-09-23T18:00:00\",\"2019-09-23T19:00:00\",\"2019-09-23T21:00:00\",\"2019-09-24T15:00:00\",\"2019-09-25T04:00:00\",\"2019-09-25T09:00:00\",\"2019-09-25T13:00:00\",\"2019-09-25T18:00:00\",\"2019-09-25T23:00:00\",\"2019-09-26T08:00:00\",\"2019-09-26T11:00:00\",\"2019-09-26T17:00:00\",\"2019-09-26T22:00:00\",\"2019-09-27T00:00:00\",\"2019-09-27T02:00:00\",\"2019-09-27T07:00:00\",\"2019-09-27T09:00:00\",\"2019-09-27T14:00:00\",\"2019-09-28T11:00:00\",\"2019-09-28T16:00:00\",\"2019-09-29T01:00:00\",\"2019-09-29T09:00:00\",\"2019-09-29T11:00:00\",\"2019-09-29T14:00:00\",\"2019-09-29T16:00:00\",\"2019-09-29T19:00:00\",\"2019-09-29T22:00:00\",\"2019-09-30T09:00:00\",\"2019-09-30T15:00:00\",\"2019-09-30T18:00:00\",\"2019-09-30T20:00:00\",\"2019-10-01T09:00:00\",\"2019-10-01T12:00:00\",\"2019-10-01T17:00:00\",\"2019-10-01T20:00:00\",\"2019-10-02T06:00:00\",\"2019-10-02T08:00:00\",\"2019-10-02T12:00:00\",\"2019-10-02T15:00:00\",\"2019-10-02T20:00:00\",\"2019-10-03T03:00:00\",\"2019-10-03T11:00:00\",\"2019-10-03T14:00:00\",\"2019-10-03T17:00:00\",\"2019-10-03T20:00:00\",\"2019-10-04T01:00:00\",\"2019-10-04T08:00:00\",\"2019-10-04T18:00:00\",\"2019-10-05T07:00:00\",\"2019-10-05T08:00:00\",\"2019-10-05T13:00:00\",\"2019-10-05T22:00:00\",\"2019-10-05T23:00:00\",\"2019-10-06T02:00:00\",\"2019-10-06T09:00:00\",\"2019-10-06T13:00:00\",\"2019-10-06T21:00:00\",\"2019-10-07T13:00:00\",\"2019-10-07T14:00:00\",\"2019-10-07T21:00:00\",\"2019-10-08T12:00:00\",\"2019-10-08T20:00:00\",\"2019-10-08T21:00:00\",\"2019-10-08T22:00:00\",\"2019-10-09T01:00:00\",\"2019-10-09T06:00:00\",\"2019-10-09T21:00:00\",\"2019-10-09T22:00:00\",\"2019-10-10T08:00:00\",\"2019-10-10T12:00:00\",\"2019-10-10T15:00:00\",\"2019-10-10T21:00:00\",\"2019-10-10T22:00:00\",\"2019-10-11T00:00:00\",\"2019-10-11T01:00:00\",\"2019-10-11T09:00:00\",\"2019-10-11T10:00:00\",\"2019-10-11T15:00:00\",\"2019-10-11T20:00:00\",\"2019-10-11T21:00:00\",\"2019-10-12T02:00:00\",\"2019-10-12T13:00:00\",\"2019-10-12T14:00:00\",\"2019-10-12T17:00:00\",\"2019-10-12T21:00:00\",\"2019-10-13T06:00:00\",\"2019-10-13T09:00:00\",\"2019-10-13T12:00:00\",\"2019-10-13T14:00:00\",\"2019-10-13T17:00:00\",\"2019-10-14T19:00:00\",\"2019-10-15T16:00:00\",\"2019-10-15T20:00:00\",\"2019-10-16T08:00:00\",\"2019-10-16T12:00:00\",\"2019-10-16T14:00:00\",\"2019-10-16T15:00:00\",\"2019-10-17T07:00:00\",\"2019-10-17T14:00:00\",\"2019-10-17T18:00:00\",\"2019-10-17T20:00:00\",\"2019-10-18T11:00:00\",\"2019-10-18T16:00:00\",\"2019-10-19T10:00:00\",\"2019-10-19T11:00:00\",\"2019-10-19T13:00:00\",\"2019-10-19T22:00:00\",\"2019-10-20T13:00:00\",\"2019-10-20T14:00:00\",\"2019-10-20T18:00:00\",\"2019-10-21T06:00:00\",\"2019-10-21T08:00:00\",\"2019-10-21T13:00:00\",\"2019-10-21T19:00:00\",\"2019-10-23T08:00:00\",\"2019-10-23T12:00:00\",\"2019-10-23T16:00:00\",\"2019-10-23T17:00:00\",\"2019-10-23T21:00:00\",\"2019-10-24T01:00:00\",\"2019-10-24T08:00:00\",\"2019-10-24T13:00:00\",\"2019-10-24T19:00:00\",\"2019-10-25T12:00:00\",\"2019-10-25T15:00:00\",\"2019-10-25T21:00:00\",\"2019-10-26T22:00:00\",\"2019-10-27T01:00:00\",\"2019-10-27T19:00:00\",\"2019-10-27T20:00:00\",\"2019-10-27T22:00:00\",\"2019-10-28T00:00:00\",\"2019-10-28T03:00:00\",\"2019-10-28T16:00:00\",\"2019-10-28T21:00:00\",\"2019-10-29T09:00:00\",\"2019-10-29T13:00:00\",\"2019-10-29T15:00:00\",\"2019-10-29T22:00:00\",\"2019-10-30T08:00:00\",\"2019-10-30T12:00:00\",\"2019-10-30T15:00:00\",\"2019-10-30T17:00:00\",\"2019-10-30T18:00:00\",\"2019-10-31T19:00:00\",\"2019-10-31T20:00:00\",\"2019-10-31T22:00:00\",\"2019-11-01T16:00:00\",\"2019-11-01T21:00:00\",\"2019-11-02T02:00:00\",\"2019-11-02T16:00:00\",\"2019-11-02T19:00:00\",\"2019-11-02T21:00:00\",\"2019-11-03T04:00:00\",\"2019-11-03T09:00:00\",\"2019-11-03T15:00:00\",\"2019-11-03T18:00:00\",\"2019-11-03T19:00:00\",\"2019-11-03T20:00:00\",\"2019-11-04T14:00:00\",\"2019-11-04T19:00:00\",\"2019-11-05T07:00:00\",\"2019-11-05T14:00:00\",\"2019-11-05T18:00:00\",\"2019-11-05T20:00:00\",\"2019-11-05T23:00:00\",\"2019-11-06T06:00:00\",\"2019-11-06T22:00:00\",\"2019-11-07T09:00:00\",\"2019-11-07T10:00:00\",\"2019-11-07T13:00:00\",\"2019-11-08T00:00:00\",\"2019-11-08T02:00:00\",\"2019-11-08T09:00:00\",\"2019-11-08T12:00:00\",\"2019-11-08T20:00:00\",\"2019-11-09T01:00:00\",\"2019-11-09T12:00:00\",\"2019-11-09T14:00:00\",\"2019-11-10T00:00:00\",\"2019-11-10T03:00:00\",\"2019-11-10T11:00:00\",\"2019-11-10T18:00:00\",\"2019-11-10T19:00:00\",\"2019-11-11T04:00:00\",\"2019-11-11T13:00:00\",\"2019-11-11T14:00:00\",\"2019-11-11T22:00:00\",\"2019-11-12T06:00:00\",\"2019-11-12T14:00:00\",\"2019-11-12T18:00:00\",\"2019-11-12T19:00:00\",\"2019-11-13T19:00:00\",\"2019-11-13T22:00:00\",\"2019-11-13T23:00:00\",\"2019-11-14T02:00:00\",\"2019-11-14T03:00:00\",\"2019-11-14T11:00:00\",\"2019-11-14T12:00:00\",\"2019-11-14T13:00:00\",\"2019-11-14T16:00:00\",\"2019-11-14T21:00:00\",\"2019-11-14T23:00:00\",\"2019-11-15T00:00:00\",\"2019-11-15T11:00:00\",\"2019-11-15T12:00:00\",\"2019-11-15T13:00:00\",\"2019-11-15T15:00:00\",\"2019-11-16T01:00:00\",\"2019-11-16T13:00:00\",\"2019-11-16T18:00:00\",\"2019-11-16T19:00:00\",\"2019-11-16T23:00:00\",\"2019-11-17T01:00:00\",\"2019-11-17T07:00:00\",\"2019-11-17T15:00:00\",\"2019-11-18T13:00:00\",\"2019-11-18T19:00:00\",\"2019-11-20T07:00:00\",\"2019-11-20T08:00:00\",\"2019-11-20T13:00:00\",\"2019-11-20T18:00:00\",\"2019-11-20T23:00:00\",\"2019-11-21T06:00:00\",\"2019-11-21T07:00:00\",\"2019-11-21T21:00:00\",\"2019-11-21T22:00:00\",\"2019-11-22T08:00:00\",\"2019-11-22T09:00:00\",\"2019-11-22T10:00:00\",\"2019-11-22T16:00:00\",\"2019-11-22T22:00:00\",\"2019-11-22T23:00:00\",\"2019-11-23T03:00:00\",\"2019-11-23T06:00:00\",\"2019-11-23T10:00:00\",\"2019-11-23T13:00:00\",\"2019-11-23T14:00:00\",\"2019-11-23T15:00:00\",\"2019-11-23T17:00:00\",\"2019-11-23T18:00:00\",\"2019-11-24T09:00:00\",\"2019-11-24T10:00:00\",\"2019-11-24T12:00:00\",\"2019-11-24T15:00:00\",\"2019-11-25T00:00:00\",\"2019-11-25T15:00:00\",\"2019-11-25T21:00:00\",\"2019-11-26T01:00:00\",\"2019-11-26T11:00:00\",\"2019-11-26T15:00:00\",\"2019-11-26T17:00:00\",\"2019-11-26T21:00:00\",\"2019-11-27T01:00:00\",\"2019-11-27T11:00:00\",\"2019-11-27T13:00:00\",\"2019-11-27T18:00:00\",\"2019-11-27T19:00:00\",\"2019-11-27T20:00:00\",\"2019-11-27T22:00:00\",\"2019-11-28T01:00:00\",\"2019-11-28T06:00:00\",\"2019-11-28T08:00:00\",\"2019-11-28T09:00:00\",\"2019-11-28T13:00:00\",\"2019-11-28T18:00:00\",\"2019-11-28T19:00:00\",\"2019-11-29T00:00:00\",\"2019-11-29T11:00:00\",\"2019-11-29T15:00:00\",\"2019-11-29T16:00:00\",\"2019-11-29T23:00:00\",\"2019-11-30T18:00:00\",\"2019-12-01T02:00:00\",\"2019-12-01T11:00:00\",\"2019-12-01T14:00:00\",\"2019-12-02T00:00:00\",\"2019-12-02T10:00:00\",\"2019-12-02T13:00:00\",\"2019-12-02T19:00:00\",\"2019-12-02T21:00:00\",\"2019-12-02T22:00:00\",\"2019-12-03T05:00:00\",\"2019-12-03T06:00:00\",\"2019-12-03T11:00:00\",\"2019-12-03T12:00:00\",\"2019-12-03T13:00:00\",\"2019-12-03T15:00:00\",\"2019-12-03T17:00:00\",\"2019-12-04T00:00:00\",\"2019-12-04T10:00:00\",\"2019-12-04T13:00:00\",\"2019-12-04T17:00:00\",\"2019-12-05T00:00:00\",\"2019-12-05T01:00:00\",\"2019-12-05T06:00:00\",\"2019-12-05T08:00:00\",\"2019-12-05T20:00:00\",\"2019-12-05T21:00:00\",\"2019-12-06T06:00:00\",\"2019-12-06T09:00:00\",\"2019-12-06T10:00:00\",\"2019-12-06T13:00:00\",\"2019-12-06T15:00:00\",\"2019-12-07T01:00:00\",\"2019-12-07T06:00:00\",\"2019-12-07T12:00:00\",\"2019-12-07T14:00:00\",\"2019-12-07T22:00:00\",\"2019-12-08T01:00:00\",\"2019-12-08T02:00:00\",\"2019-12-08T11:00:00\",\"2019-12-08T13:00:00\",\"2019-12-08T14:00:00\",\"2019-12-08T21:00:00\",\"2019-12-09T07:00:00\",\"2019-12-09T11:00:00\",\"2019-12-09T18:00:00\",\"2019-12-10T14:00:00\",\"2019-12-10T20:00:00\",\"2019-12-10T22:00:00\",\"2019-12-11T00:00:00\",\"2019-12-11T14:00:00\",\"2019-12-11T17:00:00\",\"2019-12-11T19:00:00\",\"2019-12-11T22:00:00\",\"2019-12-11T23:00:00\",\"2019-12-12T10:00:00\",\"2019-12-12T16:00:00\",\"2019-12-13T01:00:00\",\"2019-12-13T07:00:00\",\"2019-12-13T13:00:00\",\"2019-12-13T19:00:00\",\"2019-12-13T21:00:00\",\"2019-12-13T22:00:00\",\"2019-12-14T02:00:00\",\"2019-12-14T11:00:00\",\"2019-12-14T12:00:00\",\"2019-12-14T13:00:00\",\"2019-12-14T22:00:00\",\"2019-12-15T07:00:00\",\"2019-12-15T14:00:00\",\"2019-12-15T16:00:00\",\"2019-12-15T17:00:00\",\"2019-12-15T18:00:00\",\"2019-12-16T07:00:00\",\"2019-12-16T12:00:00\",\"2019-12-16T16:00:00\",\"2019-12-17T17:00:00\",\"2019-12-17T19:00:00\",\"2019-12-18T11:00:00\",\"2019-12-18T17:00:00\",\"2019-12-18T23:00:00\",\"2019-12-19T07:00:00\",\"2019-12-19T08:00:00\",\"2019-12-19T11:00:00\",\"2019-12-19T12:00:00\",\"2019-12-19T14:00:00\",\"2019-12-19T15:00:00\",\"2019-12-19T23:00:00\",\"2019-12-20T02:00:00\",\"2019-12-20T06:00:00\",\"2019-12-20T19:00:00\",\"2019-12-21T03:00:00\",\"2019-12-21T09:00:00\",\"2019-12-21T19:00:00\",\"2019-12-21T21:00:00\",\"2019-12-21T22:00:00\",\"2019-12-22T08:00:00\",\"2019-12-22T12:00:00\",\"2019-12-22T14:00:00\",\"2019-12-22T20:00:00\",\"2019-12-23T07:00:00\",\"2019-12-23T10:00:00\",\"2019-12-23T12:00:00\",\"2019-12-23T13:00:00\",\"2019-12-23T15:00:00\",\"2019-12-23T19:00:00\",\"2019-12-24T16:00:00\",\"2019-12-25T01:00:00\",\"2019-12-25T08:00:00\",\"2019-12-25T10:00:00\",\"2019-12-25T16:00:00\",\"2019-12-25T19:00:00\",\"2019-12-25T23:00:00\",\"2019-12-26T09:00:00\",\"2019-12-26T17:00:00\",\"2019-12-27T01:00:00\",\"2019-12-27T02:00:00\",\"2019-12-27T17:00:00\",\"2019-12-27T19:00:00\",\"2019-12-28T07:00:00\",\"2019-12-28T19:00:00\",\"2019-12-29T00:00:00\",\"2019-12-29T02:00:00\",\"2019-12-29T14:00:00\",\"2019-12-29T17:00:00\",\"2019-12-30T01:00:00\",\"2019-12-30T07:00:00\",\"2019-12-30T08:00:00\",\"2019-12-30T19:00:00\",\"2019-12-30T23:00:00\",\"2019-12-31T05:00:00\",\"2019-12-31T09:00:00\",\"2019-12-31T12:00:00\",\"2019-12-31T15:00:00\",\"2020-01-01T03:00:00\",\"2020-01-01T07:00:00\",\"2020-01-01T08:00:00\",\"2020-01-01T15:00:00\",\"2020-01-01T16:00:00\",\"2020-01-01T18:00:00\",\"2020-01-01T20:00:00\",\"2020-01-01T21:00:00\",\"2020-01-01T23:00:00\",\"2020-01-02T08:00:00\",\"2020-01-02T10:00:00\",\"2020-01-02T14:00:00\",\"2020-01-02T18:00:00\",\"2020-01-02T22:00:00\",\"2020-01-03T00:00:00\",\"2020-01-03T07:00:00\",\"2020-01-03T13:00:00\",\"2020-01-03T18:00:00\",\"2020-01-03T23:00:00\",\"2020-01-04T00:00:00\",\"2020-01-04T11:00:00\",\"2020-01-04T12:00:00\",\"2020-01-04T16:00:00\",\"2020-01-04T19:00:00\",\"2020-01-04T20:00:00\",\"2020-01-05T03:00:00\",\"2020-01-05T04:00:00\",\"2020-01-05T07:00:00\",\"2020-01-05T08:00:00\",\"2020-01-05T12:00:00\",\"2020-01-05T23:00:00\",\"2020-01-06T08:00:00\",\"2020-01-07T06:00:00\",\"2020-01-07T13:00:00\",\"2020-01-07T16:00:00\",\"2020-01-07T19:00:00\",\"2020-01-07T22:00:00\",\"2020-01-08T02:00:00\",\"2020-01-09T09:00:00\",\"2020-01-09T17:00:00\",\"2020-01-09T20:00:00\",\"2020-01-10T22:00:00\",\"2020-01-10T23:00:00\",\"2020-01-11T01:00:00\",\"2020-01-11T09:00:00\",\"2020-01-11T12:00:00\",\"2020-01-11T17:00:00\",\"2020-01-12T01:00:00\",\"2020-01-12T08:00:00\",\"2020-01-12T12:00:00\",\"2020-01-12T15:00:00\",\"2020-01-12T17:00:00\",\"2020-01-12T18:00:00\",\"2020-01-12T21:00:00\",\"2020-01-13T06:00:00\",\"2020-01-13T08:00:00\",\"2020-01-13T17:00:00\",\"2020-01-13T19:00:00\",\"2020-01-13T20:00:00\",\"2020-01-14T13:00:00\",\"2020-01-14T16:00:00\",\"2020-01-14T19:00:00\",\"2020-01-15T06:00:00\",\"2020-01-15T08:00:00\",\"2020-01-15T17:00:00\",\"2020-01-17T07:00:00\",\"2020-01-17T09:00:00\",\"2020-01-17T11:00:00\",\"2020-01-17T14:00:00\",\"2020-01-17T18:00:00\",\"2020-01-17T19:00:00\",\"2020-01-17T23:00:00\",\"2020-01-18T02:00:00\",\"2020-01-18T09:00:00\",\"2020-01-18T19:00:00\",\"2020-01-19T07:00:00\",\"2020-01-19T17:00:00\",\"2020-01-20T01:00:00\",\"2020-01-20T06:00:00\",\"2020-01-20T11:00:00\",\"2020-01-20T13:00:00\",\"2020-01-20T18:00:00\",\"2020-01-21T11:00:00\",\"2020-01-21T15:00:00\",\"2020-01-21T17:00:00\",\"2020-01-22T00:00:00\",\"2020-01-22T01:00:00\",\"2020-01-22T06:00:00\",\"2020-01-22T14:00:00\",\"2020-01-22T16:00:00\",\"2020-01-22T17:00:00\",\"2020-01-22T18:00:00\",\"2020-01-22T20:00:00\",\"2020-01-23T00:00:00\",\"2020-01-23T11:00:00\",\"2020-01-23T12:00:00\",\"2020-01-23T18:00:00\",\"2020-01-23T21:00:00\",\"2020-01-23T23:00:00\",\"2020-01-24T00:00:00\",\"2020-01-24T09:00:00\",\"2020-01-24T15:00:00\",\"2020-01-24T19:00:00\",\"2020-01-24T22:00:00\",\"2020-01-24T23:00:00\",\"2020-01-25T02:00:00\",\"2020-01-25T14:00:00\",\"2020-01-25T16:00:00\",\"2020-01-26T01:00:00\",\"2020-01-26T07:00:00\",\"2020-01-26T13:00:00\",\"2020-01-26T19:00:00\",\"2020-01-26T20:00:00\",\"2020-01-27T05:00:00\",\"2020-01-27T23:00:00\",\"2020-01-28T05:00:00\",\"2020-01-28T14:00:00\",\"2020-01-28T19:00:00\",\"2020-01-29T04:00:00\",\"2020-01-29T08:00:00\",\"2020-01-29T11:00:00\",\"2020-01-29T19:00:00\",\"2020-01-30T13:00:00\",\"2020-01-30T16:00:00\",\"2020-01-30T18:00:00\",\"2020-01-30T19:00:00\",\"2020-01-31T10:00:00\",\"2020-01-31T14:00:00\",\"2020-01-31T20:00:00\",\"2020-01-31T23:00:00\",\"2020-02-01T11:00:00\",\"2020-02-01T12:00:00\",\"2020-02-01T18:00:00\",\"2020-02-02T00:00:00\",\"2020-02-02T18:00:00\",\"2020-02-02T19:00:00\",\"2020-02-03T00:00:00\",\"2020-02-03T07:00:00\",\"2020-02-03T08:00:00\",\"2020-02-03T17:00:00\",\"2020-02-03T18:00:00\",\"2020-02-03T23:00:00\",\"2020-02-04T06:00:00\",\"2020-02-04T12:00:00\",\"2020-02-04T13:00:00\",\"2020-02-04T15:00:00\",\"2020-02-04T21:00:00\",\"2020-02-04T22:00:00\",\"2020-02-05T08:00:00\",\"2020-02-05T10:00:00\",\"2020-02-05T12:00:00\",\"2020-02-05T16:00:00\",\"2020-02-06T00:00:00\",\"2020-02-06T14:00:00\",\"2020-02-06T19:00:00\",\"2020-02-06T20:00:00\",\"2020-02-06T22:00:00\",\"2020-02-07T06:00:00\",\"2020-02-07T08:00:00\",\"2020-02-08T07:00:00\",\"2020-02-08T13:00:00\",\"2020-02-08T19:00:00\",\"2020-02-09T01:00:00\",\"2020-02-09T10:00:00\",\"2020-02-09T13:00:00\",\"2020-02-09T14:00:00\",\"2020-02-09T17:00:00\",\"2020-02-09T19:00:00\",\"2020-02-10T00:00:00\",\"2020-02-10T01:00:00\",\"2020-02-10T05:00:00\",\"2020-02-10T13:00:00\",\"2020-02-10T16:00:00\",\"2020-02-10T23:00:00\",\"2020-02-11T02:00:00\",\"2020-02-11T21:00:00\",\"2020-02-12T14:00:00\",\"2020-02-12T17:00:00\",\"2020-02-12T19:00:00\",\"2020-02-12T20:00:00\",\"2020-02-13T08:00:00\",\"2020-02-13T20:00:00\",\"2020-02-13T21:00:00\",\"2020-02-13T23:00:00\",\"2020-02-14T00:00:00\",\"2020-02-14T04:00:00\",\"2020-02-14T07:00:00\",\"2020-02-14T16:00:00\",\"2020-02-14T17:00:00\",\"2020-02-14T18:00:00\",\"2020-02-14T19:00:00\",\"2020-02-15T00:00:00\",\"2020-02-15T01:00:00\",\"2020-02-15T02:00:00\",\"2020-02-15T03:00:00\",\"2020-02-15T07:00:00\",\"2020-02-15T14:00:00\",\"2020-02-16T10:00:00\",\"2020-02-16T14:00:00\",\"2020-02-16T15:00:00\",\"2020-02-16T16:00:00\",\"2020-02-16T21:00:00\",\"2020-02-17T02:00:00\",\"2020-02-17T06:00:00\",\"2020-02-17T13:00:00\",\"2020-02-17T16:00:00\",\"2020-02-18T01:00:00\",\"2020-02-18T10:00:00\",\"2020-02-18T14:00:00\",\"2020-02-18T18:00:00\",\"2020-02-18T20:00:00\",\"2020-02-19T11:00:00\",\"2020-02-19T16:00:00\",\"2020-02-20T19:00:00\",\"2020-02-20T22:00:00\",\"2020-02-20T23:00:00\",\"2020-02-21T04:00:00\",\"2020-02-21T08:00:00\",\"2020-02-21T09:00:00\",\"2020-02-21T16:00:00\",\"2020-02-21T18:00:00\",\"2020-02-21T19:00:00\",\"2020-02-21T20:00:00\",\"2020-02-22T08:00:00\",\"2020-02-22T13:00:00\",\"2020-02-22T14:00:00\",\"2020-02-22T15:00:00\",\"2020-02-22T17:00:00\",\"2020-02-22T19:00:00\",\"2020-02-22T22:00:00\",\"2020-02-23T01:00:00\",\"2020-02-23T03:00:00\",\"2020-02-23T07:00:00\",\"2020-02-23T09:00:00\",\"2020-02-23T10:00:00\",\"2020-02-23T12:00:00\",\"2020-02-23T13:00:00\",\"2020-02-23T21:00:00\",\"2020-02-24T00:00:00\",\"2020-02-25T00:00:00\",\"2020-02-25T01:00:00\",\"2020-02-25T12:00:00\",\"2020-02-25T14:00:00\",\"2020-02-25T18:00:00\",\"2020-02-25T19:00:00\",\"2020-02-26T00:00:00\",\"2020-02-26T10:00:00\",\"2020-02-26T12:00:00\",\"2020-02-27T02:00:00\",\"2020-02-27T08:00:00\",\"2020-02-27T13:00:00\",\"2020-02-27T18:00:00\",\"2020-02-28T05:00:00\",\"2020-02-28T09:00:00\",\"2020-02-28T22:00:00\",\"2020-02-29T00:00:00\",\"2020-02-29T01:00:00\",\"2020-02-29T02:00:00\",\"2020-02-29T11:00:00\",\"2020-02-29T12:00:00\",\"2020-02-29T13:00:00\",\"2020-02-29T14:00:00\",\"2020-02-29T18:00:00\",\"2020-02-29T22:00:00\",\"2020-03-01T06:00:00\",\"2020-03-01T14:00:00\",\"2020-03-01T16:00:00\",\"2020-03-01T18:00:00\",\"2020-03-01T19:00:00\",\"2020-03-01T20:00:00\",\"2020-03-02T00:00:00\",\"2020-03-02T09:00:00\",\"2020-03-02T12:00:00\",\"2020-03-02T18:00:00\",\"2020-03-03T07:00:00\",\"2020-03-03T10:00:00\",\"2020-03-03T13:00:00\",\"2020-03-03T22:00:00\",\"2020-03-03T23:00:00\",\"2020-03-05T00:00:00\",\"2020-03-05T05:00:00\",\"2020-03-05T10:00:00\",\"2020-03-06T18:00:00\",\"2020-03-07T00:00:00\",\"2020-03-07T08:00:00\",\"2020-03-07T21:00:00\",\"2020-03-07T23:00:00\",\"2020-03-08T02:00:00\",\"2020-03-08T03:00:00\",\"2020-03-08T10:00:00\",\"2020-03-08T12:00:00\",\"2020-03-08T13:00:00\",\"2020-03-08T21:00:00\",\"2020-03-09T06:00:00\",\"2020-03-09T09:00:00\",\"2020-03-09T23:00:00\",\"2020-03-10T07:00:00\",\"2020-03-10T08:00:00\",\"2020-03-10T09:00:00\",\"2020-03-10T14:00:00\",\"2020-03-10T16:00:00\",\"2020-03-10T20:00:00\",\"2020-03-10T23:00:00\",\"2020-03-11T02:00:00\",\"2020-03-11T03:00:00\",\"2020-03-11T05:00:00\",\"2020-03-11T09:00:00\",\"2020-03-11T10:00:00\",\"2020-03-11T20:00:00\",\"2020-03-11T21:00:00\",\"2020-03-12T12:00:00\",\"2020-03-12T18:00:00\",\"2020-03-12T21:00:00\",\"2020-03-12T22:00:00\",\"2020-03-13T04:00:00\",\"2020-03-13T10:00:00\",\"2020-03-13T16:00:00\",\"2020-03-14T06:00:00\",\"2020-03-14T09:00:00\",\"2020-03-14T10:00:00\",\"2020-03-14T13:00:00\",\"2020-03-14T21:00:00\",\"2020-03-15T02:00:00\",\"2020-03-15T13:00:00\",\"2020-03-15T15:00:00\",\"2020-03-15T18:00:00\",\"2020-03-15T19:00:00\",\"2020-03-16T06:00:00\",\"2020-03-16T10:00:00\",\"2020-03-16T14:00:00\",\"2020-03-16T16:00:00\",\"2020-03-16T19:00:00\",\"2020-03-16T23:00:00\",\"2020-03-17T00:00:00\",\"2020-03-17T07:00:00\",\"2020-03-17T08:00:00\",\"2020-03-17T11:00:00\",\"2020-03-17T14:00:00\",\"2020-03-17T17:00:00\",\"2020-03-17T18:00:00\",\"2020-03-17T21:00:00\",\"2020-03-18T13:00:00\",\"2020-03-18T19:00:00\",\"2020-03-19T06:00:00\",\"2020-03-19T09:00:00\",\"2020-03-19T15:00:00\",\"2020-03-20T01:00:00\",\"2020-03-20T02:00:00\",\"2020-03-20T06:00:00\",\"2020-03-20T09:00:00\",\"2020-03-20T12:00:00\",\"2020-03-20T18:00:00\",\"2020-03-20T23:00:00\",\"2020-03-21T01:00:00\",\"2020-03-21T16:00:00\",\"2020-03-21T19:00:00\",\"2020-03-22T01:00:00\",\"2020-03-22T12:00:00\",\"2020-03-22T14:00:00\",\"2020-03-22T21:00:00\",\"2020-03-22T22:00:00\",\"2020-03-23T01:00:00\",\"2020-03-23T07:00:00\",\"2020-03-23T13:00:00\",\"2020-03-23T18:00:00\",\"2020-03-24T08:00:00\",\"2020-03-24T19:00:00\",\"2020-03-24T21:00:00\",\"2020-03-25T01:00:00\",\"2020-03-25T08:00:00\",\"2020-03-25T10:00:00\",\"2020-03-25T13:00:00\",\"2020-03-25T18:00:00\",\"2020-03-26T18:00:00\",\"2020-03-26T19:00:00\",\"2020-03-27T12:00:00\",\"2020-03-27T15:00:00\",\"2020-03-27T17:00:00\",\"2020-03-28T00:00:00\",\"2020-03-28T05:00:00\",\"2020-03-28T13:00:00\",\"2020-03-28T14:00:00\",\"2020-03-28T20:00:00\",\"2020-03-28T21:00:00\",\"2020-03-29T00:00:00\",\"2020-03-29T23:00:00\",\"2020-03-30T07:00:00\",\"2020-03-30T14:00:00\",\"2020-03-30T16:00:00\",\"2020-03-31T01:00:00\",\"2020-03-31T12:00:00\",\"2020-03-31T14:00:00\",\"2020-03-31T17:00:00\",\"2020-03-31T19:00:00\",\"2020-04-01T09:00:00\",\"2020-04-01T10:00:00\",\"2020-04-01T18:00:00\",\"2020-04-01T22:00:00\",\"2020-04-02T03:00:00\",\"2020-04-02T07:00:00\",\"2020-04-02T10:00:00\",\"2020-04-03T20:00:00\",\"2020-04-04T07:00:00\",\"2020-04-04T08:00:00\",\"2020-04-04T11:00:00\",\"2020-04-05T00:00:00\",\"2020-04-05T01:00:00\",\"2020-04-05T03:00:00\",\"2020-04-05T07:00:00\",\"2020-04-05T08:00:00\",\"2020-04-05T10:00:00\",\"2020-04-05T11:00:00\",\"2020-04-05T16:00:00\",\"2020-04-05T17:00:00\",\"2020-04-06T11:00:00\",\"2020-04-06T12:00:00\",\"2020-04-06T21:00:00\",\"2020-04-06T23:00:00\",\"2020-04-07T05:00:00\",\"2020-04-07T13:00:00\",\"2020-04-07T14:00:00\",\"2020-04-07T16:00:00\",\"2020-04-07T17:00:00\",\"2020-04-08T11:00:00\",\"2020-04-08T14:00:00\",\"2020-04-08T15:00:00\",\"2020-04-08T17:00:00\",\"2020-04-08T22:00:00\",\"2020-04-09T00:00:00\",\"2020-04-09T11:00:00\",\"2020-04-09T16:00:00\",\"2020-04-09T18:00:00\",\"2020-04-09T22:00:00\",\"2020-04-10T10:00:00\",\"2020-04-10T11:00:00\",\"2020-04-10T15:00:00\",\"2020-04-10T16:00:00\",\"2020-04-10T17:00:00\",\"2020-04-10T18:00:00\",\"2020-04-10T20:00:00\",\"2020-04-11T04:00:00\",\"2020-04-11T10:00:00\",\"2020-04-11T13:00:00\",\"2020-04-11T14:00:00\",\"2020-04-11T20:00:00\",\"2020-04-12T03:00:00\",\"2020-04-12T12:00:00\",\"2020-04-12T13:00:00\",\"2020-04-13T02:00:00\",\"2020-04-13T11:00:00\",\"2020-04-13T13:00:00\",\"2020-04-13T22:00:00\",\"2020-04-14T06:00:00\",\"2020-04-14T14:00:00\",\"2020-04-14T15:00:00\",\"2020-04-14T22:00:00\",\"2020-04-14T23:00:00\",\"2020-04-15T00:00:00\",\"2020-04-15T13:00:00\",\"2020-04-15T14:00:00\",\"2020-04-15T20:00:00\",\"2020-04-16T01:00:00\",\"2020-04-16T21:00:00\",\"2020-04-17T02:00:00\",\"2020-04-17T05:00:00\",\"2020-04-17T07:00:00\",\"2020-04-17T12:00:00\",\"2020-04-17T21:00:00\",\"2020-04-18T00:00:00\",\"2020-04-18T05:00:00\",\"2020-04-18T06:00:00\",\"2020-04-18T10:00:00\",\"2020-04-18T14:00:00\",\"2020-04-18T17:00:00\",\"2020-04-19T10:00:00\",\"2020-04-19T21:00:00\",\"2020-04-20T07:00:00\",\"2020-04-20T08:00:00\",\"2020-04-20T13:00:00\",\"2020-04-20T14:00:00\",\"2020-04-20T17:00:00\",\"2020-04-20T22:00:00\",\"2020-04-21T01:00:00\",\"2020-04-21T12:00:00\",\"2020-04-21T14:00:00\",\"2020-04-21T16:00:00\",\"2020-04-21T17:00:00\",\"2020-04-21T20:00:00\",\"2020-04-22T00:00:00\",\"2020-04-22T01:00:00\",\"2020-04-22T09:00:00\",\"2020-04-22T12:00:00\",\"2020-04-22T17:00:00\",\"2020-04-22T20:00:00\",\"2020-04-23T00:00:00\",\"2020-04-23T16:00:00\",\"2020-04-23T22:00:00\",\"2020-04-24T06:00:00\",\"2020-04-24T15:00:00\",\"2020-04-24T17:00:00\",\"2020-04-25T06:00:00\",\"2020-04-25T12:00:00\",\"2020-04-25T21:00:00\",\"2020-04-25T23:00:00\",\"2020-04-26T12:00:00\",\"2020-04-26T15:00:00\",\"2020-04-26T17:00:00\",\"2020-04-27T01:00:00\",\"2020-04-27T05:00:00\",\"2020-04-27T23:00:00\",\"2020-04-28T08:00:00\",\"2020-04-28T15:00:00\",\"2020-04-28T17:00:00\",\"2020-04-29T00:00:00\",\"2020-04-29T01:00:00\",\"2020-04-29T07:00:00\",\"2020-04-29T08:00:00\",\"2020-04-29T11:00:00\",\"2020-04-29T17:00:00\",\"2020-04-29T18:00:00\",\"2020-04-29T22:00:00\",\"2020-04-30T02:00:00\",\"2020-04-30T09:00:00\",\"2020-04-30T14:00:00\",\"2020-04-30T19:00:00\",\"2020-04-30T23:00:00\",\"2020-05-01T00:00:00\",\"2020-05-01T01:00:00\",\"2020-05-01T06:00:00\",\"2020-05-01T07:00:00\",\"2020-05-01T08:00:00\",\"2020-05-01T12:00:00\",\"2020-05-01T15:00:00\",\"2020-05-01T20:00:00\",\"2020-05-01T23:00:00\",\"2020-05-02T02:00:00\",\"2020-05-02T03:00:00\",\"2020-05-02T04:00:00\",\"2020-05-02T07:00:00\",\"2020-05-02T10:00:00\",\"2020-05-02T18:00:00\",\"2020-05-02T20:00:00\",\"2020-05-03T09:00:00\",\"2020-05-03T23:00:00\",\"2020-05-04T08:00:00\",\"2020-05-04T12:00:00\",\"2020-05-04T13:00:00\",\"2020-05-04T18:00:00\",\"2020-05-05T00:00:00\",\"2020-05-05T12:00:00\",\"2020-05-05T14:00:00\",\"2020-05-05T21:00:00\",\"2020-05-05T23:00:00\",\"2020-05-06T00:00:00\",\"2020-05-06T08:00:00\",\"2020-05-06T19:00:00\",\"2020-05-07T05:00:00\",\"2020-05-07T10:00:00\",\"2020-05-07T11:00:00\",\"2020-05-07T14:00:00\",\"2020-05-07T16:00:00\",\"2020-05-07T22:00:00\",\"2020-05-08T00:00:00\",\"2020-05-08T02:00:00\",\"2020-05-08T08:00:00\",\"2020-05-08T10:00:00\",\"2020-05-08T13:00:00\",\"2020-05-08T15:00:00\",\"2020-05-09T00:00:00\",\"2020-05-09T01:00:00\",\"2020-05-09T03:00:00\",\"2020-05-09T09:00:00\",\"2020-05-09T21:00:00\",\"2020-05-10T02:00:00\",\"2020-05-10T07:00:00\",\"2020-05-10T08:00:00\",\"2020-05-10T14:00:00\",\"2020-05-10T16:00:00\",\"2020-05-10T20:00:00\",\"2020-05-11T02:00:00\",\"2020-05-11T15:00:00\",\"2020-05-11T23:00:00\",\"2020-05-12T05:00:00\",\"2020-05-12T09:00:00\",\"2020-05-12T19:00:00\",\"2020-05-13T00:00:00\",\"2020-05-13T07:00:00\",\"2020-05-13T10:00:00\",\"2020-05-13T15:00:00\",\"2020-05-13T16:00:00\",\"2020-05-13T21:00:00\",\"2020-05-14T00:00:00\",\"2020-05-14T19:00:00\",\"2020-05-15T00:00:00\",\"2020-05-15T02:00:00\",\"2020-05-15T05:00:00\",\"2020-05-15T13:00:00\",\"2020-05-15T15:00:00\",\"2020-05-15T22:00:00\",\"2020-05-16T00:00:00\",\"2020-05-16T04:00:00\",\"2020-05-16T06:00:00\",\"2020-05-16T17:00:00\",\"2020-05-16T23:00:00\",\"2020-05-17T08:00:00\",\"2020-05-17T12:00:00\",\"2020-05-18T06:00:00\",\"2020-05-18T08:00:00\",\"2020-05-18T10:00:00\",\"2020-05-18T23:00:00\",\"2020-05-19T14:00:00\",\"2020-05-20T01:00:00\",\"2020-05-20T09:00:00\",\"2020-05-20T19:00:00\",\"2020-05-21T01:00:00\",\"2020-05-21T05:00:00\",\"2020-05-21T10:00:00\",\"2020-05-21T12:00:00\",\"2020-05-22T03:00:00\",\"2020-05-22T11:00:00\",\"2020-05-22T20:00:00\",\"2020-05-22T21:00:00\",\"2020-05-23T00:00:00\",\"2020-05-23T05:00:00\",\"2020-05-23T10:00:00\",\"2020-05-23T12:00:00\",\"2020-05-23T14:00:00\",\"2020-05-23T18:00:00\",\"2020-05-23T19:00:00\",\"2020-05-23T22:00:00\",\"2020-05-24T14:00:00\",\"2020-05-24T15:00:00\",\"2020-05-24T19:00:00\",\"2020-05-25T08:00:00\",\"2020-05-25T12:00:00\",\"2020-05-25T19:00:00\",\"2020-05-26T00:00:00\",\"2020-05-26T07:00:00\",\"2020-05-26T09:00:00\",\"2020-05-26T10:00:00\",\"2020-05-26T18:00:00\",\"2020-05-26T19:00:00\",\"2020-05-27T00:00:00\",\"2020-05-27T02:00:00\",\"2020-05-27T05:00:00\",\"2020-05-27T06:00:00\",\"2020-05-27T14:00:00\",\"2020-05-27T20:00:00\",\"2020-05-27T22:00:00\",\"2020-05-28T05:00:00\",\"2020-05-28T13:00:00\",\"2020-05-28T16:00:00\",\"2020-05-28T22:00:00\",\"2020-05-29T00:00:00\",\"2020-05-29T01:00:00\",\"2020-05-29T07:00:00\",\"2020-05-29T13:00:00\",\"2020-05-29T15:00:00\",\"2020-05-30T02:00:00\",\"2020-05-30T10:00:00\",\"2020-05-30T17:00:00\",\"2020-05-30T22:00:00\",\"2020-05-31T07:00:00\",\"2020-05-31T08:00:00\",\"2020-05-31T18:00:00\",\"2020-05-31T19:00:00\",\"2020-05-31T21:00:00\",\"2020-06-01T01:00:00\",\"2020-06-01T16:00:00\",\"2020-06-01T21:00:00\",\"2020-06-02T11:00:00\",\"2020-06-03T06:00:00\",\"2020-06-03T07:00:00\",\"2020-06-03T13:00:00\",\"2020-06-03T23:00:00\",\"2020-06-04T11:00:00\",\"2020-06-04T13:00:00\",\"2020-06-04T14:00:00\",\"2020-06-05T02:00:00\",\"2020-06-05T06:00:00\",\"2020-06-06T00:00:00\",\"2020-06-06T12:00:00\",\"2020-06-06T14:00:00\",\"2020-06-06T20:00:00\",\"2020-06-07T00:00:00\",\"2020-06-07T21:00:00\",\"2020-06-08T01:00:00\",\"2020-06-08T03:00:00\",\"2020-06-08T14:00:00\",\"2020-06-08T15:00:00\",\"2020-06-08T17:00:00\",\"2020-06-08T20:00:00\",\"2020-06-09T07:00:00\",\"2020-06-09T19:00:00\",\"2020-06-10T06:00:00\",\"2020-06-10T17:00:00\",\"2020-06-11T06:00:00\",\"2020-06-11T10:00:00\",\"2020-06-11T13:00:00\",\"2020-06-11T17:00:00\",\"2020-06-11T23:00:00\",\"2020-06-12T07:00:00\",\"2020-06-12T12:00:00\",\"2020-06-12T21:00:00\",\"2020-06-13T07:00:00\",\"2020-06-13T14:00:00\",\"2020-06-13T17:00:00\",\"2020-06-13T20:00:00\",\"2020-06-14T15:00:00\",\"2020-06-14T20:00:00\",\"2020-06-14T21:00:00\",\"2020-06-14T23:00:00\",\"2020-06-15T07:00:00\",\"2020-06-15T09:00:00\",\"2020-06-15T10:00:00\",\"2020-06-16T07:00:00\",\"2020-06-16T08:00:00\",\"2020-06-16T17:00:00\",\"2020-06-17T00:00:00\",\"2020-06-17T22:00:00\",\"2020-06-18T06:00:00\",\"2020-06-18T07:00:00\",\"2020-06-18T09:00:00\",\"2020-06-18T20:00:00\",\"2020-06-18T22:00:00\",\"2020-06-19T00:00:00\",\"2020-06-19T16:00:00\",\"2020-06-20T04:00:00\",\"2020-06-20T16:00:00\",\"2020-06-21T02:00:00\",\"2020-06-21T13:00:00\",\"2020-06-21T17:00:00\",\"2020-06-22T05:00:00\",\"2020-06-22T08:00:00\",\"2020-06-22T09:00:00\",\"2020-06-22T11:00:00\",\"2020-06-22T16:00:00\",\"2020-06-22T17:00:00\",\"2020-06-23T01:00:00\",\"2020-06-23T12:00:00\",\"2020-06-23T13:00:00\",\"2020-06-23T19:00:00\",\"2020-06-24T00:00:00\",\"2020-06-24T02:00:00\",\"2020-06-24T07:00:00\",\"2020-06-24T14:00:00\",\"2020-06-25T06:00:00\",\"2020-06-25T07:00:00\",\"2020-06-25T12:00:00\",\"2020-06-25T20:00:00\",\"2020-06-26T03:00:00\",\"2020-06-26T21:00:00\",\"2020-06-27T00:00:00\",\"2020-06-27T11:00:00\",\"2020-06-27T19:00:00\",\"2020-06-27T20:00:00\",\"2020-06-28T00:00:00\",\"2020-06-28T01:00:00\",\"2020-06-28T06:00:00\",\"2020-06-28T12:00:00\",\"2020-06-28T16:00:00\",\"2020-06-28T18:00:00\",\"2020-06-28T21:00:00\",\"2020-06-29T06:00:00\",\"2020-06-29T12:00:00\",\"2020-06-29T16:00:00\",\"2020-06-30T06:00:00\",\"2020-06-30T11:00:00\",\"2020-06-30T13:00:00\",\"2020-06-30T16:00:00\",\"2020-06-30T23:00:00\",\"2020-07-01T21:00:00\",\"2020-07-01T22:00:00\",\"2020-07-02T05:00:00\",\"2020-07-02T14:00:00\",\"2020-07-02T20:00:00\",\"2020-07-03T01:00:00\",\"2020-07-03T08:00:00\",\"2020-07-03T10:00:00\",\"2020-07-03T17:00:00\",\"2020-07-03T22:00:00\",\"2020-07-04T11:00:00\",\"2020-07-04T15:00:00\",\"2020-07-04T23:00:00\",\"2020-07-05T11:00:00\",\"2020-07-05T16:00:00\",\"2020-07-05T17:00:00\",\"2020-07-05T22:00:00\",\"2020-07-06T00:00:00\",\"2020-07-06T06:00:00\",\"2020-07-06T11:00:00\",\"2020-07-06T15:00:00\",\"2020-07-06T16:00:00\",\"2020-07-07T08:00:00\",\"2020-07-07T10:00:00\",\"2020-07-07T14:00:00\",\"2020-07-07T16:00:00\",\"2020-07-07T18:00:00\",\"2020-07-08T11:00:00\",\"2020-07-08T13:00:00\",\"2020-07-09T07:00:00\",\"2020-07-09T11:00:00\",\"2020-07-09T15:00:00\",\"2020-07-09T20:00:00\",\"2020-07-09T23:00:00\",\"2020-07-10T00:00:00\",\"2020-07-10T02:00:00\",\"2020-07-10T08:00:00\",\"2020-07-11T02:00:00\",\"2020-07-11T04:00:00\",\"2020-07-11T06:00:00\",\"2020-07-11T23:00:00\",\"2020-07-12T01:00:00\",\"2020-07-12T02:00:00\",\"2020-07-12T09:00:00\",\"2020-07-12T20:00:00\",\"2020-07-13T10:00:00\",\"2020-07-13T11:00:00\",\"2020-07-13T18:00:00\",\"2020-07-14T12:00:00\",\"2020-07-14T14:00:00\",\"2020-07-14T15:00:00\",\"2020-07-15T02:00:00\",\"2020-07-15T08:00:00\",\"2020-07-15T12:00:00\",\"2020-07-15T15:00:00\",\"2020-07-16T06:00:00\",\"2020-07-16T12:00:00\",\"2020-07-16T21:00:00\",\"2020-07-16T23:00:00\",\"2020-07-17T05:00:00\",\"2020-07-17T09:00:00\",\"2020-07-17T10:00:00\",\"2020-07-18T14:00:00\",\"2020-07-18T19:00:00\",\"2020-07-18T23:00:00\",\"2020-07-19T05:00:00\",\"2020-07-19T12:00:00\",\"2020-07-19T15:00:00\",\"2020-07-19T23:00:00\",\"2020-07-20T06:00:00\",\"2020-07-20T21:00:00\",\"2020-07-21T04:00:00\",\"2020-07-21T11:00:00\",\"2020-07-21T19:00:00\",\"2020-07-22T01:00:00\",\"2020-07-22T11:00:00\",\"2020-07-22T15:00:00\",\"2020-07-22T23:00:00\",\"2020-07-23T15:00:00\",\"2020-07-24T01:00:00\",\"2020-07-24T07:00:00\",\"2020-07-24T11:00:00\",\"2020-07-25T17:00:00\",\"2020-07-26T05:00:00\",\"2020-07-26T13:00:00\",\"2020-07-27T15:00:00\",\"2020-07-27T17:00:00\",\"2020-07-27T19:00:00\",\"2020-07-27T21:00:00\",\"2020-07-28T11:00:00\",\"2020-07-28T15:00:00\",\"2020-07-28T17:00:00\",\"2020-07-28T18:00:00\",\"2020-07-29T02:00:00\",\"2020-07-29T08:00:00\",\"2020-07-29T09:00:00\",\"2020-07-30T04:00:00\",\"2020-07-30T22:00:00\",\"2020-07-31T01:00:00\",\"2020-07-31T08:00:00\",\"2020-07-31T09:00:00\",\"2020-07-31T15:00:00\",\"2020-07-31T19:00:00\",\"2020-07-31T21:00:00\",\"2020-08-01T00:00:00\",\"2020-08-01T05:00:00\",\"2020-08-02T01:00:00\",\"2020-08-02T06:00:00\",\"2020-08-02T11:00:00\",\"2020-08-02T16:00:00\",\"2020-08-02T17:00:00\",\"2020-08-03T01:00:00\",\"2020-08-03T09:00:00\",\"2020-08-03T10:00:00\",\"2020-08-04T02:00:00\",\"2020-08-04T08:00:00\",\"2020-08-04T13:00:00\",\"2020-08-04T15:00:00\",\"2020-08-04T18:00:00\",\"2020-08-04T21:00:00\",\"2020-08-04T22:00:00\",\"2020-08-05T07:00:00\",\"2020-08-05T08:00:00\",\"2020-08-05T12:00:00\",\"2020-08-05T15:00:00\",\"2020-08-05T20:00:00\",\"2020-08-05T22:00:00\",\"2020-08-06T05:00:00\",\"2020-08-06T07:00:00\",\"2020-08-06T15:00:00\",\"2020-08-06T21:00:00\",\"2020-08-07T03:00:00\",\"2020-08-07T08:00:00\",\"2020-08-07T09:00:00\",\"2020-08-07T15:00:00\",\"2020-08-07T18:00:00\",\"2020-08-08T00:00:00\",\"2020-08-08T01:00:00\",\"2020-08-08T02:00:00\",\"2020-08-08T03:00:00\",\"2020-08-08T14:00:00\",\"2020-08-08T17:00:00\",\"2020-08-08T18:00:00\",\"2020-08-09T00:00:00\",\"2020-08-09T01:00:00\",\"2020-08-09T10:00:00\",\"2020-08-09T15:00:00\",\"2020-08-09T16:00:00\",\"2020-08-09T17:00:00\",\"2020-08-09T19:00:00\",\"2020-08-09T21:00:00\",\"2020-08-10T01:00:00\",\"2020-08-10T15:00:00\",\"2020-08-10T17:00:00\",\"2020-08-10T18:00:00\",\"2020-08-10T21:00:00\",\"2020-08-10T22:00:00\",\"2020-08-11T00:00:00\",\"2020-08-11T05:00:00\",\"2020-08-11T06:00:00\",\"2020-08-11T14:00:00\",\"2020-08-11T16:00:00\",\"2020-08-11T20:00:00\",\"2020-08-12T00:00:00\",\"2020-08-12T07:00:00\",\"2020-08-12T11:00:00\",\"2020-08-12T12:00:00\",\"2020-08-13T00:00:00\",\"2020-08-13T05:00:00\",\"2020-08-13T08:00:00\",\"2020-08-13T13:00:00\",\"2020-08-13T15:00:00\",\"2020-08-13T16:00:00\",\"2020-08-13T19:00:00\",\"2020-08-13T20:00:00\",\"2020-08-13T21:00:00\",\"2020-08-14T06:00:00\",\"2020-08-14T16:00:00\",\"2020-08-14T20:00:00\",\"2020-08-15T01:00:00\",\"2020-08-15T02:00:00\",\"2020-08-15T06:00:00\",\"2020-08-15T08:00:00\",\"2020-08-15T09:00:00\",\"2020-08-15T12:00:00\",\"2020-08-15T16:00:00\",\"2020-08-15T19:00:00\",\"2020-08-15T22:00:00\",\"2020-08-15T23:00:00\",\"2020-08-16T15:00:00\",\"2020-08-16T18:00:00\",\"2020-08-17T00:00:00\",\"2020-08-17T02:00:00\",\"2020-08-17T15:00:00\",\"2020-08-17T20:00:00\",\"2020-08-17T21:00:00\",\"2020-08-17T23:00:00\",\"2020-08-18T05:00:00\",\"2020-08-18T16:00:00\",\"2020-08-18T17:00:00\",\"2020-08-19T06:00:00\",\"2020-08-19T07:00:00\",\"2020-08-19T14:00:00\",\"2020-08-19T17:00:00\",\"2020-08-19T18:00:00\",\"2020-08-19T23:00:00\",\"2020-08-20T00:00:00\",\"2020-08-20T14:00:00\",\"2020-08-20T18:00:00\",\"2020-08-21T01:00:00\",\"2020-08-21T05:00:00\",\"2020-08-21T12:00:00\",\"2020-08-22T04:00:00\",\"2020-08-22T07:00:00\",\"2020-08-22T10:00:00\",\"2020-08-22T13:00:00\",\"2020-08-22T14:00:00\",\"2020-08-22T15:00:00\",\"2020-08-23T02:00:00\",\"2020-08-23T17:00:00\",\"2020-08-24T09:00:00\",\"2020-08-24T10:00:00\",\"2020-08-24T17:00:00\",\"2020-08-25T04:00:00\",\"2020-08-25T06:00:00\",\"2020-08-25T11:00:00\",\"2020-08-25T13:00:00\",\"2020-08-25T16:00:00\",\"2020-08-25T19:00:00\",\"2020-08-25T20:00:00\",\"2020-08-26T00:00:00\",\"2020-08-26T07:00:00\",\"2020-08-26T10:00:00\",\"2020-08-27T00:00:00\",\"2020-08-27T07:00:00\",\"2020-08-27T08:00:00\",\"2020-08-27T17:00:00\",\"2020-08-28T00:00:00\",\"2020-08-28T12:00:00\",\"2020-08-28T14:00:00\",\"2020-08-28T16:00:00\",\"2020-08-28T22:00:00\",\"2020-08-29T13:00:00\",\"2020-08-30T01:00:00\",\"2020-08-30T14:00:00\",\"2020-08-30T17:00:00\",\"2020-08-30T21:00:00\",\"2020-08-30T23:00:00\",\"2020-08-31T04:00:00\",\"2020-08-31T06:00:00\",\"2020-08-31T09:00:00\",\"2020-08-31T10:00:00\",\"2020-08-31T13:00:00\",\"2020-08-31T16:00:00\",\"2020-09-01T07:00:00\",\"2020-09-01T14:00:00\",\"2020-09-02T14:00:00\",\"2020-09-02T21:00:00\",\"2020-09-03T08:00:00\",\"2020-09-04T07:00:00\",\"2020-09-04T08:00:00\",\"2020-09-05T02:00:00\",\"2020-09-05T04:00:00\",\"2020-09-05T08:00:00\",\"2020-09-06T10:00:00\",\"2020-09-06T13:00:00\",\"2020-09-06T15:00:00\",\"2020-09-07T13:00:00\",\"2020-09-07T17:00:00\",\"2020-09-07T23:00:00\",\"2020-09-08T07:00:00\",\"2020-09-08T08:00:00\",\"2020-09-08T11:00:00\",\"2020-09-08T14:00:00\",\"2020-09-09T00:00:00\",\"2020-09-09T09:00:00\",\"2020-09-09T12:00:00\",\"2020-09-09T21:00:00\",\"2020-09-09T23:00:00\",\"2020-09-10T07:00:00\",\"2020-09-10T09:00:00\",\"2020-09-10T16:00:00\",\"2020-09-10T22:00:00\",\"2020-09-11T02:00:00\",\"2020-09-11T08:00:00\",\"2020-09-11T14:00:00\",\"2020-09-11T18:00:00\",\"2020-09-11T21:00:00\",\"2020-09-11T22:00:00\",\"2020-09-12T08:00:00\",\"2020-09-12T14:00:00\",\"2020-09-13T08:00:00\",\"2020-09-13T14:00:00\",\"2020-09-13T17:00:00\",\"2020-09-14T07:00:00\",\"2020-09-14T08:00:00\",\"2020-09-14T13:00:00\",\"2020-09-14T15:00:00\",\"2020-09-14T21:00:00\",\"2020-09-15T01:00:00\",\"2020-09-15T19:00:00\",\"2020-09-15T20:00:00\",\"2020-09-16T01:00:00\",\"2020-09-16T04:00:00\",\"2020-09-16T06:00:00\",\"2020-09-16T09:00:00\",\"2020-09-16T13:00:00\",\"2020-09-16T14:00:00\",\"2020-09-16T17:00:00\",\"2020-09-16T20:00:00\",\"2020-09-17T07:00:00\",\"2020-09-17T16:00:00\",\"2020-09-17T18:00:00\",\"2020-09-17T19:00:00\",\"2020-09-17T20:00:00\",\"2020-09-17T22:00:00\",\"2020-09-18T03:00:00\",\"2020-09-18T04:00:00\",\"2020-09-18T11:00:00\",\"2020-09-18T12:00:00\",\"2020-09-18T15:00:00\",\"2020-09-18T16:00:00\",\"2020-09-18T21:00:00\",\"2020-09-19T00:00:00\",\"2020-09-19T05:00:00\",\"2020-09-19T18:00:00\",\"2020-09-19T22:00:00\",\"2020-09-20T01:00:00\",\"2020-09-20T15:00:00\",\"2020-09-20T20:00:00\",\"2020-09-21T07:00:00\",\"2020-09-21T13:00:00\",\"2020-09-21T22:00:00\",\"2020-09-21T23:00:00\",\"2020-09-22T04:00:00\",\"2020-09-22T06:00:00\",\"2020-09-22T10:00:00\",\"2020-09-22T11:00:00\",\"2020-09-22T14:00:00\",\"2020-09-22T15:00:00\",\"2020-09-23T11:00:00\",\"2020-09-23T12:00:00\",\"2020-09-24T00:00:00\",\"2020-09-24T07:00:00\",\"2020-09-24T08:00:00\",\"2020-09-24T11:00:00\",\"2020-09-24T16:00:00\",\"2020-09-24T20:00:00\",\"2020-09-24T21:00:00\",\"2020-09-24T23:00:00\",\"2020-09-25T10:00:00\",\"2020-09-25T12:00:00\",\"2020-09-25T17:00:00\",\"2020-09-26T15:00:00\",\"2020-09-26T18:00:00\",\"2020-09-26T21:00:00\",\"2020-09-27T05:00:00\",\"2020-09-27T09:00:00\",\"2020-09-27T16:00:00\",\"2020-09-27T20:00:00\",\"2020-09-28T00:00:00\",\"2020-09-28T04:00:00\",\"2020-09-28T06:00:00\",\"2020-09-28T15:00:00\",\"2020-09-28T16:00:00\",\"2020-09-28T18:00:00\",\"2020-09-28T19:00:00\",\"2020-09-28T23:00:00\",\"2020-09-29T05:00:00\",\"2020-09-29T06:00:00\",\"2020-09-29T18:00:00\",\"2020-09-30T02:00:00\",\"2020-09-30T11:00:00\",\"2020-09-30T12:00:00\",\"2020-09-30T15:00:00\",\"2020-09-30T19:00:00\",\"2020-09-30T21:00:00\",\"2020-10-01T04:00:00\",\"2020-10-01T07:00:00\",\"2020-10-01T09:00:00\",\"2020-10-01T14:00:00\",\"2020-10-01T21:00:00\",\"2020-10-02T00:00:00\",\"2020-10-02T04:00:00\",\"2020-10-02T14:00:00\",\"2020-10-02T15:00:00\",\"2020-10-02T22:00:00\",\"2020-10-03T00:00:00\",\"2020-10-03T04:00:00\",\"2020-10-03T11:00:00\",\"2020-10-03T12:00:00\",\"2020-10-03T13:00:00\",\"2020-10-04T02:00:00\",\"2020-10-04T07:00:00\",\"2020-10-04T08:00:00\",\"2020-10-04T17:00:00\",\"2020-10-04T23:00:00\",\"2020-10-05T10:00:00\",\"2020-10-06T06:00:00\",\"2020-10-06T13:00:00\",\"2020-10-06T14:00:00\",\"2020-10-06T15:00:00\",\"2020-10-06T22:00:00\",\"2020-10-07T02:00:00\",\"2020-10-07T04:00:00\",\"2020-10-07T05:00:00\",\"2020-10-07T11:00:00\",\"2020-10-07T13:00:00\",\"2020-10-07T22:00:00\",\"2020-10-08T17:00:00\",\"2020-10-09T02:00:00\",\"2020-10-09T03:00:00\",\"2020-10-09T04:00:00\",\"2020-10-09T07:00:00\",\"2020-10-09T09:00:00\",\"2020-10-09T18:00:00\",\"2020-10-10T03:00:00\",\"2020-10-10T13:00:00\",\"2020-10-11T05:00:00\",\"2020-10-11T06:00:00\",\"2020-10-11T07:00:00\",\"2020-10-11T09:00:00\",\"2020-10-11T15:00:00\",\"2020-10-12T00:00:00\",\"2020-10-12T05:00:00\",\"2020-10-12T11:00:00\",\"2020-10-12T12:00:00\",\"2020-10-12T13:00:00\",\"2020-10-12T21:00:00\",\"2020-10-13T00:00:00\",\"2020-10-13T09:00:00\",\"2020-10-13T10:00:00\",\"2020-10-13T13:00:00\",\"2020-10-13T17:00:00\",\"2020-10-14T17:00:00\",\"2020-10-14T21:00:00\",\"2020-10-14T23:00:00\",\"2020-10-15T01:00:00\",\"2020-10-15T10:00:00\",\"2020-10-15T11:00:00\",\"2020-10-15T18:00:00\",\"2020-10-16T08:00:00\",\"2020-10-16T23:00:00\",\"2020-10-17T04:00:00\",\"2020-10-17T08:00:00\",\"2020-10-18T08:00:00\",\"2020-10-18T10:00:00\",\"2020-10-18T11:00:00\",\"2020-10-18T16:00:00\",\"2020-10-19T01:00:00\",\"2020-10-19T06:00:00\",\"2020-10-19T14:00:00\",\"2020-10-20T04:00:00\",\"2020-10-20T06:00:00\",\"2020-10-20T09:00:00\",\"2020-10-20T18:00:00\",\"2020-10-20T21:00:00\",\"2020-10-21T08:00:00\",\"2020-10-21T16:00:00\",\"2020-10-22T00:00:00\",\"2020-10-22T09:00:00\",\"2020-10-22T13:00:00\",\"2020-10-22T19:00:00\",\"2020-10-22T20:00:00\",\"2020-10-22T21:00:00\",\"2020-10-23T02:00:00\",\"2020-10-23T03:00:00\",\"2020-10-23T14:00:00\",\"2020-10-23T16:00:00\",\"2020-10-23T17:00:00\",\"2020-10-23T20:00:00\",\"2020-10-23T22:00:00\",\"2020-10-24T01:00:00\",\"2020-10-24T02:00:00\",\"2020-10-24T13:00:00\",\"2020-10-24T19:00:00\",\"2020-10-25T11:00:00\",\"2020-10-25T19:00:00\",\"2020-10-26T06:00:00\",\"2020-10-26T09:00:00\",\"2020-10-26T10:00:00\",\"2020-10-26T12:00:00\",\"2020-10-26T14:00:00\",\"2020-10-26T17:00:00\",\"2020-10-26T23:00:00\",\"2020-10-27T02:00:00\",\"2020-10-27T06:00:00\",\"2020-10-27T11:00:00\",\"2020-10-28T08:00:00\",\"2020-10-28T11:00:00\",\"2020-10-28T16:00:00\",\"2020-10-28T19:00:00\",\"2020-10-28T20:00:00\",\"2020-10-28T23:00:00\",\"2020-10-29T02:00:00\",\"2020-10-29T09:00:00\",\"2020-10-29T17:00:00\",\"2020-10-30T00:00:00\",\"2020-10-30T07:00:00\",\"2020-10-30T09:00:00\",\"2020-10-30T11:00:00\",\"2020-10-30T12:00:00\",\"2020-10-30T14:00:00\",\"2020-10-30T15:00:00\",\"2020-10-30T16:00:00\",\"2020-10-30T19:00:00\",\"2020-10-31T01:00:00\",\"2020-10-31T02:00:00\",\"2020-10-31T10:00:00\",\"2020-10-31T11:00:00\",\"2020-10-31T12:00:00\",\"2020-10-31T17:00:00\",\"2020-10-31T23:00:00\",\"2020-11-01T17:00:00\",\"2020-11-01T18:00:00\",\"2020-11-01T21:00:00\",\"2020-11-02T01:00:00\",\"2020-11-02T12:00:00\",\"2020-11-02T21:00:00\",\"2020-11-03T15:00:00\",\"2020-11-04T00:00:00\",\"2020-11-04T13:00:00\",\"2020-11-04T15:00:00\",\"2020-11-04T20:00:00\",\"2020-11-05T09:00:00\",\"2020-11-05T12:00:00\",\"2020-11-06T09:00:00\",\"2020-11-06T15:00:00\",\"2020-11-06T17:00:00\",\"2020-11-06T21:00:00\",\"2020-11-07T09:00:00\",\"2020-11-07T10:00:00\",\"2020-11-07T13:00:00\",\"2020-11-07T17:00:00\",\"2020-11-08T03:00:00\",\"2020-11-08T07:00:00\",\"2020-11-08T14:00:00\",\"2020-11-08T15:00:00\",\"2020-11-08T18:00:00\",\"2020-11-08T19:00:00\",\"2020-11-08T20:00:00\",\"2020-11-09T01:00:00\",\"2020-11-09T04:00:00\",\"2020-11-09T10:00:00\",\"2020-11-09T13:00:00\",\"2020-11-09T19:00:00\",\"2020-11-09T20:00:00\",\"2020-11-10T01:00:00\",\"2020-11-10T21:00:00\",\"2020-11-11T21:00:00\",\"2020-11-12T00:00:00\",\"2020-11-12T02:00:00\",\"2020-11-12T05:00:00\",\"2020-11-12T09:00:00\",\"2020-11-12T12:00:00\",\"2020-11-12T13:00:00\",\"2020-11-12T14:00:00\",\"2020-11-12T21:00:00\",\"2020-11-13T07:00:00\",\"2020-11-13T09:00:00\",\"2020-11-13T11:00:00\",\"2020-11-13T15:00:00\",\"2020-11-13T16:00:00\",\"2020-11-13T20:00:00\",\"2020-11-13T21:00:00\",\"2020-11-13T23:00:00\",\"2020-11-14T02:00:00\",\"2020-11-14T04:00:00\",\"2020-11-14T07:00:00\",\"2020-11-14T20:00:00\",\"2020-11-14T21:00:00\",\"2020-11-15T09:00:00\",\"2020-11-15T19:00:00\",\"2020-11-16T06:00:00\",\"2020-11-16T07:00:00\",\"2020-11-16T08:00:00\",\"2020-11-16T11:00:00\",\"2020-11-16T20:00:00\",\"2020-11-17T07:00:00\",\"2020-11-17T09:00:00\",\"2020-11-17T12:00:00\",\"2020-11-17T14:00:00\",\"2020-11-17T16:00:00\",\"2020-11-17T19:00:00\",\"2020-11-17T20:00:00\",\"2020-11-17T23:00:00\",\"2020-11-18T08:00:00\",\"2020-11-18T14:00:00\",\"2020-11-18T16:00:00\",\"2020-11-18T17:00:00\",\"2020-11-18T23:00:00\",\"2020-11-19T02:00:00\",\"2020-11-19T06:00:00\",\"2020-11-19T07:00:00\",\"2020-11-19T09:00:00\",\"2020-11-19T18:00:00\",\"2020-11-20T00:00:00\",\"2020-11-20T03:00:00\",\"2020-11-20T05:00:00\",\"2020-11-20T12:00:00\",\"2020-11-20T13:00:00\",\"2020-11-20T14:00:00\",\"2020-11-20T18:00:00\",\"2020-11-20T23:00:00\",\"2020-11-21T02:00:00\",\"2020-11-21T03:00:00\",\"2020-11-21T07:00:00\",\"2020-11-21T09:00:00\",\"2020-11-21T19:00:00\",\"2020-11-21T20:00:00\",\"2020-11-22T04:00:00\",\"2020-11-22T07:00:00\",\"2020-11-22T10:00:00\",\"2020-11-22T13:00:00\",\"2020-11-22T16:00:00\",\"2020-11-22T17:00:00\",\"2020-11-22T20:00:00\",\"2020-11-22T21:00:00\",\"2020-11-22T23:00:00\",\"2020-11-23T00:00:00\",\"2020-11-23T05:00:00\",\"2020-11-24T18:00:00\",\"2020-11-24T21:00:00\",\"2020-11-24T22:00:00\",\"2020-11-24T23:00:00\",\"2020-11-25T04:00:00\",\"2020-11-25T06:00:00\",\"2020-11-25T11:00:00\",\"2020-11-25T13:00:00\",\"2020-11-25T14:00:00\",\"2020-11-25T17:00:00\",\"2020-11-25T18:00:00\",\"2020-11-26T00:00:00\",\"2020-11-26T02:00:00\",\"2020-11-26T23:00:00\",\"2020-12-27T09:00:00\",\"2020-12-27T11:00:00\",\"2020-12-27T19:00:00\",\"2020-12-28T02:00:00\",\"2020-12-28T07:00:00\",\"2020-12-28T13:00:00\",\"2020-12-28T22:00:00\",\"2020-12-29T18:00:00\",\"2020-12-30T02:00:00\",\"2020-12-30T05:00:00\",\"2020-12-30T06:00:00\",\"2020-12-30T11:00:00\",\"2020-12-30T16:00:00\",\"2020-12-30T21:00:00\",\"2020-12-31T01:00:00\",\"2020-12-31T04:00:00\",\"2020-12-31T08:00:00\",\"2020-12-31T10:00:00\",\"2020-12-31T12:00:00\",\"2020-12-31T16:00:00\",\"2021-01-01T01:00:00\",\"2021-01-01T16:00:00\",\"2021-01-01T19:00:00\",\"2021-01-02T00:00:00\",\"2021-01-02T03:00:00\",\"2021-01-02T08:00:00\",\"2021-01-02T12:00:00\",\"2021-01-02T19:00:00\",\"2021-01-02T22:00:00\",\"2021-01-03T02:00:00\",\"2021-01-03T09:00:00\",\"2021-01-03T20:00:00\",\"2021-01-03T22:00:00\",\"2021-01-03T23:00:00\",\"2021-01-04T07:00:00\",\"2021-01-04T09:00:00\",\"2021-01-04T10:00:00\",\"2021-01-04T11:00:00\",\"2021-01-04T16:00:00\",\"2021-01-04T20:00:00\",\"2021-01-04T21:00:00\",\"2021-01-04T23:00:00\",\"2021-01-05T02:00:00\",\"2021-01-05T06:00:00\",\"2021-01-05T08:00:00\",\"2021-01-05T10:00:00\",\"2021-01-05T12:00:00\",\"2021-01-05T15:00:00\",\"2021-01-06T04:00:00\",\"2021-01-06T06:00:00\",\"2021-01-06T08:00:00\",\"2021-01-06T11:00:00\",\"2021-01-06T15:00:00\",\"2021-01-06T22:00:00\",\"2021-01-07T07:00:00\",\"2021-01-07T09:00:00\",\"2021-01-07T14:00:00\",\"2021-01-07T17:00:00\",\"2021-01-07T18:00:00\",\"2021-01-08T12:00:00\",\"2021-01-08T14:00:00\",\"2021-01-09T00:00:00\",\"2021-01-09T01:00:00\",\"2021-01-09T06:00:00\",\"2021-01-09T10:00:00\",\"2021-01-09T18:00:00\",\"2021-01-09T23:00:00\",\"2021-01-10T05:00:00\",\"2021-01-10T18:00:00\",\"2021-01-11T08:00:00\",\"2021-01-11T10:00:00\",\"2021-01-11T11:00:00\",\"2021-01-11T16:00:00\",\"2021-01-11T19:00:00\",\"2021-01-12T00:00:00\",\"2021-01-12T04:00:00\",\"2021-01-12T06:00:00\",\"2021-01-12T16:00:00\",\"2021-01-13T10:00:00\",\"2021-01-13T23:00:00\",\"2021-01-14T00:00:00\",\"2021-01-14T06:00:00\",\"2021-01-14T08:00:00\",\"2021-01-14T19:00:00\",\"2021-01-15T07:00:00\",\"2021-01-15T09:00:00\",\"2021-01-15T13:00:00\",\"2021-01-15T22:00:00\",\"2021-01-16T01:00:00\",\"2021-01-16T06:00:00\",\"2021-01-16T18:00:00\",\"2021-01-16T19:00:00\",\"2021-01-17T04:00:00\",\"2021-01-17T08:00:00\",\"2021-01-17T10:00:00\",\"2021-01-17T12:00:00\",\"2021-01-18T12:00:00\",\"2021-01-18T16:00:00\",\"2021-01-18T20:00:00\",\"2021-01-18T22:00:00\",\"2021-01-19T06:00:00\",\"2021-01-19T16:00:00\",\"2021-01-19T17:00:00\",\"2021-01-19T23:00:00\",\"2021-01-20T06:00:00\",\"2021-01-20T09:00:00\",\"2021-01-20T12:00:00\",\"2021-01-20T18:00:00\",\"2021-01-20T21:00:00\",\"2021-01-21T06:00:00\",\"2021-01-21T13:00:00\",\"2021-01-21T16:00:00\",\"2021-01-21T18:00:00\",\"2021-01-22T00:00:00\",\"2021-01-22T06:00:00\",\"2021-01-22T09:00:00\",\"2021-01-22T10:00:00\",\"2021-01-22T17:00:00\",\"2021-01-23T00:00:00\",\"2021-01-23T06:00:00\",\"2021-01-23T07:00:00\",\"2021-01-23T21:00:00\",\"2021-01-24T10:00:00\",\"2021-01-24T11:00:00\",\"2021-01-24T14:00:00\",\"2021-01-24T20:00:00\",\"2021-01-25T14:00:00\",\"2021-01-25T15:00:00\",\"2021-01-25T18:00:00\",\"2021-01-25T21:00:00\",\"2021-01-26T10:00:00\",\"2021-01-26T21:00:00\",\"2021-01-27T05:00:00\",\"2021-01-27T13:00:00\",\"2021-01-27T14:00:00\",\"2021-01-28T04:00:00\",\"2021-01-28T06:00:00\",\"2021-01-28T09:00:00\",\"2021-01-28T10:00:00\",\"2021-01-28T17:00:00\",\"2021-01-28T20:00:00\",\"2021-01-28T23:00:00\",\"2021-01-29T01:00:00\",\"2021-01-29T06:00:00\",\"2021-01-29T08:00:00\",\"2021-01-29T22:00:00\",\"2021-01-30T10:00:00\",\"2021-01-30T16:00:00\",\"2021-01-30T20:00:00\",\"2021-01-31T06:00:00\",\"2021-01-31T07:00:00\",\"2021-01-31T18:00:00\",\"2021-02-01T01:00:00\",\"2021-02-01T03:00:00\",\"2021-02-01T06:00:00\",\"2021-02-01T11:00:00\",\"2021-02-01T14:00:00\",\"2021-02-01T19:00:00\",\"2021-02-02T03:00:00\",\"2021-02-02T14:00:00\",\"2021-02-02T19:00:00\",\"2021-02-02T22:00:00\",\"2021-02-03T07:00:00\",\"2021-02-03T10:00:00\",\"2021-02-03T23:00:00\",\"2021-02-04T02:00:00\",\"2021-02-04T08:00:00\",\"2021-02-04T09:00:00\",\"2021-02-04T20:00:00\",\"2021-02-04T22:00:00\",\"2021-02-05T06:00:00\",\"2021-02-05T09:00:00\",\"2021-02-05T10:00:00\",\"2021-02-05T12:00:00\",\"2021-02-05T17:00:00\",\"2021-02-05T18:00:00\",\"2021-02-05T19:00:00\",\"2021-02-06T06:00:00\",\"2021-02-06T19:00:00\",\"2021-02-07T02:00:00\",\"2021-02-07T11:00:00\",\"2021-02-07T12:00:00\",\"2021-02-07T21:00:00\",\"2021-02-08T00:00:00\",\"2021-02-08T01:00:00\",\"2021-02-08T06:00:00\",\"2021-02-08T11:00:00\",\"2021-02-08T15:00:00\",\"2021-02-08T20:00:00\",\"2021-02-08T21:00:00\",\"2021-02-09T00:00:00\",\"2021-02-09T06:00:00\",\"2021-02-09T08:00:00\",\"2021-02-09T10:00:00\",\"2021-02-10T01:00:00\",\"2021-02-10T13:00:00\",\"2021-02-10T20:00:00\",\"2021-02-11T09:00:00\",\"2021-02-11T19:00:00\",\"2021-02-12T07:00:00\",\"2021-02-12T15:00:00\",\"2021-02-12T18:00:00\",\"2021-02-12T20:00:00\",\"2021-02-12T23:00:00\",\"2021-02-13T02:00:00\",\"2021-02-13T08:00:00\",\"2021-02-13T10:00:00\",\"2021-02-13T14:00:00\",\"2021-02-13T17:00:00\",\"2021-02-13T20:00:00\",\"2021-02-14T08:00:00\",\"2021-02-14T12:00:00\",\"2021-02-14T21:00:00\",\"2021-02-15T00:00:00\",\"2021-02-15T06:00:00\",\"2021-02-15T13:00:00\",\"2021-02-16T00:00:00\",\"2021-02-16T10:00:00\",\"2021-02-16T14:00:00\",\"2021-02-16T19:00:00\",\"2021-02-16T22:00:00\",\"2021-02-17T03:00:00\",\"2021-02-17T10:00:00\",\"2021-02-17T13:00:00\",\"2021-02-17T18:00:00\",\"2021-02-18T10:00:00\",\"2021-02-18T12:00:00\",\"2021-02-18T13:00:00\",\"2021-02-18T15:00:00\",\"2021-02-18T20:00:00\",\"2021-02-19T15:00:00\",\"2021-02-20T09:00:00\",\"2021-02-21T05:00:00\",\"2021-02-21T14:00:00\",\"2021-02-21T17:00:00\",\"2021-02-21T22:00:00\",\"2021-02-21T23:00:00\",\"2021-02-22T01:00:00\",\"2021-02-22T07:00:00\",\"2021-02-22T12:00:00\",\"2021-02-22T17:00:00\",\"2021-02-23T02:00:00\",\"2021-02-23T06:00:00\",\"2021-02-23T12:00:00\",\"2021-02-23T14:00:00\",\"2021-02-23T20:00:00\",\"2021-02-23T21:00:00\",\"2021-02-24T06:00:00\",\"2021-02-24T08:00:00\",\"2021-02-24T19:00:00\",\"2021-02-25T06:00:00\",\"2021-02-25T07:00:00\",\"2021-02-25T10:00:00\",\"2021-02-25T11:00:00\",\"2021-02-25T15:00:00\",\"2021-02-25T22:00:00\",\"2021-02-26T02:00:00\",\"2021-02-26T13:00:00\",\"2021-02-26T16:00:00\",\"2021-02-27T01:00:00\",\"2021-02-27T16:00:00\",\"2021-02-27T23:00:00\",\"2021-02-28T01:00:00\",\"2021-02-28T07:00:00\",\"2021-02-28T11:00:00\",\"2021-02-28T12:00:00\",\"2021-02-28T16:00:00\",\"2021-02-28T21:00:00\",\"2021-02-28T23:00:00\"],\"y\":[81,51,50,73,78,75,45,66,41,47,67,60,68,32,50,57,38,63,62,81,82,40,67,38,44,68,22,41,36,71,64,77,46,55,85,89,56,65,56,66,69,67,60,61,36,42,67,67,31,49,61,67,75,64,53,87,45,79,55,67,29,60,52,29,47,67,62,48,68,75,47,68,84,88,60,55,65,31,40,69,70,40,66,56,48,69,57,49,38,35,41,60,74,68,46,60,67,73,83,50,73,61,58,45,88,58,76,76,74,51,64,77,70,48,79,73,66,47,82,86,75,78,90,65,85,89,36,61,76,44,35,46,58,48,55,48,40,59,77,72,57,45,76,83,85,73,65,52,68,81,87,95,49,71,84,44,73,71,43,69,57,71,64,37,58,50,43,63,77,66,80,84,74,42,38,53,75,71,38,61,67,44,18,54,66,44,65,60,55,55,41,42,62,76,51,36,36,80,89,50,55,77,66,50,72,65,65,72,62,47,35,42,48,89,54,103,97,56,93,98,77,76,56,59,65,84,88,79,56,95,82,67,55,86,92,98,100,94,73,61,92,79,78,90,116,118,111,91,77,114,76,79,85,110,103,95,73,68,65,62,68,78,78,67,109,113,84,77,75,96,108,88,103,125,113,99,84,100,88,104,87,87,93,110,94,108,112,116,109,86,82,77,108,111,115,113,81,76,67,103,114,87,75,100,107,113,95,91,111,130,84,106,111,96,79,72,62,97,103,104,81,69,83,87,59,64,69,100,99,72,65,106,73,115,108,101,92,80,65,69,73,95,101,67,67,40,46,51,75,88,58,53,86,72,64,52,41,49,83,49,58,64,91,53,51,63,54,54,84,94,43,52,64,75,67,59,49,62,74,77,81,79,45,70,46,56,70,92,86,79,57,50,69,75,89,99,101,58,91,96,55,42,55,82,71,55,43,72,85,86,41,44,74,85,87,80,73,42,88,89,55,63,69,98,93,79,66,64,89,71,98,95,59,57,62,68,89,78,73,78,55,93,86,79,64,93,89,74,67,58,74,102,83,72,62,80,86,93,80,105,89,61,64,94,93,91,53,55,66,92,50,66,79,53,86,60,55,65,71,85,100,87,67,96,102,108,91,96,92,63,59,49,59,88,81,50,83,85,45,44,49,60,73,86,79,57,44,74,87,81,47,94,65,100,103,103,98,75,88,45,50,66,78,81,49,41,51,83,47,59,72,64,57,47,52,78,59,96,105,55,75,95,98,89,53,51,56,49,46,54,82,72,52,50,74,79,85,85,56,63,81,61,51,56,98,68,66,57,95,108,96,88,71,68,64,75,92,97,102,86,70,55,67,84,91,89,77,56,65,91,69,57,77,69,47,55,85,80,65,48,89,81,75,62,72,104,108,83,73,72,94,99,104,79,58,74,90,77,52,72,84,49,89,62,49,66,92,84,87,64,64,89,95,105,109,63,64,59,59,70,73,53,49,67,73,86,86,49,67,85,80,59,79,92,94,90,96,104,90,79,54,84,83,76,54,45,79,82,83,40,45,63,60,49,35,80,92,92,62,103,101,86,96,79,58,60,81,46,71,83,84,45,77,83,63,46,87,85,66,55,52,60,80,76,59,57,67,73,99,68,62,78,84,100,67,45,65,82,66,52,46,81,70,82,89,90,48,72,52,78,91,74,66,91,110,110,105,69,62,67,82,102,71,80,92,84,46,88,90,77,62,80,91,65,50,54,100,70,66,59,90,107,82,68,62,63,66,103,77,58,48,73,79,84,89,90,60,52,57,67,55,50,43,42,51,57,46,51,63,76,68,96,95,84,76,70,62,73,79,93,105,93,70,71,82,73,53,47,51,56,68,71,51,39,38,47,71,83,50,47,80,50,81,63,52,50,48,70,83,90,62,53,63,69,75,101,63,60,62,78,56,50,40,43,48,53,59,68,43,62,69,82,48,44,53,51,57,64,76,77,76,86,91,90,72,65,59,55,68,101,56,53,48,53,82,83,53,45,76,69,57,75,83,81,76,44,41,41,83,57,64,71,83,87,60,54,64,102,70,67,61,58,59,74,96,95,87,58,60,84,77,69,61,49,35,83,69,45,37,46,82,83,83,69,52,59,83,79,50,46,84,95,99,90,57,55,80,90,95,95,92,51,80,83,76,68,34,50,78,68,45,83,43,40,38,69,58,56,74,99,79,67,64,62,52,66,93,92,51,45,46,63,69,78,66,50,50,45,40,42,65,57,34,38,48,35,73,58,85,97,65,43,76,41,41,76,56,49,44,41,78,78,72,31,67,59,73,86,88,76,58,79,95,99,70,59,90,50,47,37,45,67,72,80,73,41,54,76,79,80,47,39,75,69,47,55,89,62,89,73,54,87,44,54,72,41,84,62,42,71,83,81,80,96,61,59,86,99,107,107,94,71,78,84,98,92,75,62,54,71,82,74,66,52,89,50,58,77,86,89,82,67,60,85,84,103,98,90,60,83,92,60,58,52,69,94,93,58,77,83,74,55,49,55,85,97,85,54,72,98,105,107,87,81,75,73,91,110,119,119,117,105,85,82,70,106,112,61,70,88,86,60,62,80,87,68,97,94,78,62,98,102,101,81,65,95,71,107,120,72,81,105,88,72,61,57,72,77,98,71,64,68,74,71,63,52,81,71,66,63,58,81,87,80,73,61,73,103,106,68,66,118,104,96,72,68,88,94,99,107,64,67,95,96,96,73,58,53,57,75,88,48,60,72,79,96,90,96,110,96,71,64,69,80,101,101,76,59,56,54,70,81,85,73,49,73,79,57,49,47,40,37,48,66,72,78,81,84,43,37,43,78,50,87,80,72,55,80,93,47,52,57,66,58,46,54,61,76,80,78,51,78,79,77,73,65,79,74,41,89,83,62,54,65,78,85,70,53,50,75,91,88,83,66,58,76,65,42,47,59,66,75,77,65,66,79,57,45,68,77,75,74,84,87,89,69,71,82,89,63,42,78,41,46,44,39,74,82,74,57,100,98,92,62,77,72,65,41,66,77,79,72,49,30,65,74,77,64,49,66,75,78,72,77,86,76,95,90,75,68,61,66,43,33,64,52,42,45,37,42,48,61,66,72,59,40,67,73,61,53,35,41,53,73,81,80,49,47,42,78,78,58,47,57,68,82,84,29,60,71,42,34,45,37,34,64,49,51,75,41,71,83,91,90,85,63,55,53,74,84,51,43,49,55,70,73,73,66,35,40,51,47,54,72,73,67,51,62,76,76,63,62,82,62,96,94,74,60,51,87,89,81,56,51,35,66,71,48,40,78,41,68,77,46,43,48,88,84,70,92,99,94,85,82,81,74,47,38,49,52,47,39,80,81,67,45,36,83,68,89,61,87,99,101,79,52,76,56,78,79,59,79,77,49,60,67,80,78,41,46,52,87,87,67,53,84,89,51,60,66,77,75,47,73,70,73,47,35,70,78,77,46,77,81,74,54,47,77,97,98,64,90,90,90,61,46,75,77,45,47,60,72,78,46,41,38,62,54,50,88,90,91,89,52,98,101,102,96,81,66,57,73,87,63,72,77,83,84,77,70,54,84,37,59,81,78,49,54,74,86,55,50,45,54,67,93,93,107,65,77,89,99,99,83,61,63,87,80,64,60,79,84,64,44,54,78,86,64,39,74,86,85,66,47,59,89,65,70,100,70,67,58,74,93,62,79,81,52,73,58,51,46,38,38,50,45,48,72,80,52,47,42,40,58,65,86,67,60,47,93,95,95,67,51,66,83,87,85,60,74,52,42,66,72,74,37,74,69,54,68,83,74,81,90,61,85,87,79,37,47,73,62,47,71,79,77,51,38,50,79,70,83,93,67,73,65,85,76,64,58,48,92,63,68,90,94,61,65,89,97,96,91,89,81,70,113,87,75,127,113,98,79,99,122,113,106,97,111,98,76,113,108,92,78,73,83,93,100,116,83,78,100,120,109,93,133,139,102,93,124,125,117,78,119,121,88,79,120,115,107,107,87,84,76,74,109,114,118,122,94,87,84,114,120,124,128,91,134,131,124,101,95,97,129,112,100,73,78,106,102,72,66,71,80,75,79,86,92,114,83,80,71,78,102,118,121,122,120,115,91,97,107,112,66,98,67,54,82,95,92,65,52,80,89,86,78,70,58,50,50,60,66,89,86,79,55,84,98,99,65,101,62,89,99,54,69,83,72,56,51,39,43,72,77,81,85,83,46,65,81,83,46,43,43,54,65,58,48,65,72,89,94,58,60,97,104,72,64,60,88,96,98,66,52,75,80,86,66,54,49,87,87,75,55,52,71,91,52,59,95,88,74,70,61,98,104,108,78,72,105,105,102,97,59,87,94,92,80,82,93,59,59,64,84,89,96,97,62,54,59,93,64,89,102,87,82,81,103,108,83,62,79,90,93,96,82,95,53,63,76,95,81,58,70,94,56,53,102,91,73,99,74,67,104,101,56,57,62,77,54,44,64,82,90,42,52,57,89,89,82,67,60,52,57,70,88,83,57,52,56,92,91,64,62,93,99,107,93,85,58,57,67,71,93,57,57,43,82,85,71,51,40,60,85,66,64,62,58,78,98,104,64,71,93,99,95,90,66,48,57,85,72,64,83,87,73,45,55,85,57,69,83,96,93,86,66,59,82,96,70,100,55,52,80,88,84,79,91,90,53,50,50,91,92,90,85,70,54,81,86,88,66,59,57,73,102,90,72,70,63,112,114,71,73,104,89,80,51,56,47,92,79,45,61,80,79,90,94,88,80,79,99,81,68,98,103,105,72,94,86,58,56,61,88,83,52,47,81,85,89,59,55,56,69,81,88,49,88,76,68,56,50,61,67,102,93,64,82,96,98,95,81,53,50,43,82,85,48,39,55,83,82,70,62,53,64,58,51,49,40,52,94,92,88,81,59,57,54,52,64,103,81,96,97,96,64,45,46,82,85,43,65,84,78,63,73,85,75,55,53,43,61,67,97,91,84,77,74,104,106,108,106,94,74,66,60,68,79,85,95,99,68,57,50,47,82,88,83,76,51,71,83,46,60,89,87,50,72,71,67,65,62,99,104,109,111,106,79,68,105,105,97,89,80,61,70,87,87,56,74,90,59,57,55,48,75,97,68,79,84,77,67,65,90,100,103,72,54,69,55,54,60,66,90,92,69,55,46,44,45,66,72,69,62,85,86,64,60,47,78,100,65,82,89,106,81,63,99,101,93,85,50,71,88,88,74,51,48,50,55,74,86,85,80,58,83,73,45,62,88,48,45,49,66,86,90,62,58,106,92,63,92,97,64,59,49,51,82,78,52,70,55,43,52,65,81,78,80,73,85,94,93,60,55,101,103,83,76,66,56,51,84,85,43,77,84,83,71,59,66,78,52,38,49,67,75,66,72,92,67,64,58,66,71,83,89,98,96,75,80,57,49,40,83,85,86,84,73,85,86,84,53,48,75,88,82,56,74,81,96,96,95,90,76,55,86,103,105,85,58,93,97,47,75,83,52,43,84,86,52,49,47,82,84,63,44,59,44,44,53,85,68,60,55,60,84,103,103,81,64,50,55,81,83,82,49,41,76,82,83,81,61,44,41,57,75,81,61,44,84,52,46,92,91,57,94,74,66,89,95,91,47,40,45,50,82,80,43,40,44,50,69,80,75,48,37,57,82,70,48,46,44,45,50,56,82,91,72,59,52,50,50,62,82,96,81,73,53,54,77,80,76,44,75,82,54,46,44,51,70,38,66,72,84,86,53,49,43,58,72,89,94,60,58,53,78,77,60,66,71,98,98,73,47,87,49,40,61,73,48,50,68,87,87,59,49,77,53,47,48,93,98,68,64,58,65,108,74,76,98,53,62,74,55,91,51,67,79,52,48,76,88,51,89,85,78,70,66,95,108,115,110,103,83,109,109,93,68,91,84,59,61,72,79,92,85,60,54,53,57,98,77,66,54,98,102,70,65,62,69,106,110,72,101,120,89,83,88,107,99,82,67,104,74,91,62,67,101,68,93,103,105,64,68,80,118,124,104,87,85,70,63,105,106,104,83,68,91,63,103,63,87,103,105,71,73,105,87,84,122,122,102,116,90,82,73,68,79,85,64,69,99,62,66,58,63,74,79,68,63,107,65,117,70,106,104,53,65,71,83,94,92,51,85,89,78,53,47,54,90,49,54,84,71,46,72,64,95,95,87,69,66,64,95,99,91,67,48,81,87,44,73,82,86,49,56,51,40,85,65,47,59,72,93,64,91,105,68,87,96,94,58,52,46,73,85,85,52,65,83,84,77,71,81,48,73,86,65,51,49,44,59,55,53,60,69,63,60,76,73,68,74,79,78,84,85,41,54,78,86,44,80,59,52,45,67,74,105,92,69,58,93,98,57,47,56,37,72,71,43,72,85,48,86,46,52,78,102,55,93,82,80,68,52,68,81,79,74,36,49,55,33,49,41,53,60,88,76,62,54,49,56,54,81,90,87,42,54,61,32,45,74,77,70,48,43,40,45,70,77,55,43,32,41,79,51,34,51,58,86,81,52,50,47,45,96,96,91,59,55,74,90,90,87,74,57,42,79,76,71,49,44,39,32,36,77,78,56,40,41,66,71,41,34,49,77,81,82,68,60,53,43,90,70,54,51,56,67,74,93,102,88,68,65,95,86,50,43,83,61,54,46,37,84,82,42,47,83,82,78,48,46,85,81,47,44,86,54,67,86,103,105,107,61,96,64,70,85,39,45,74,84,87,73,65,49,50,68,49,51,57,88,52,88,95,97,67,104,65,99,96,67,58,44,48,64,70,84,87,49,85,85,57,55,53,59,55,53,71,81,95,97,81,82,47,46,51,70,82,44,57,76,54,47,47,58,85,52,42,57,91,87,67,62,70,102,69,96,93,50,55,82,85,55,42,71,62,43,37,43,59,81,84,83,63,49,88,81,74,66,55,43,43,81,87,96,96,70,62,58,101,74,66,101,76,55,87,55,53,41,47,70,77,89,90,78,83,52,55,60,80,93,72,65,58,80,92,100,113,107,84,65,84,105,80,61,50,55,94,94,87,79,56,47,51,86,48,80,86,93,79,64,45,56,68,93,66,57,49,100,101,71,67,60,98,104,108,66,71,76,100,61,73,47,85,87,89,55,43,40,42,75,84,54,86,45,43,42,54,66,89,53,101,56,59,64,74,96,51,41,71,76,80,53,43,56,62,78,79,79,52,44,39,62,69,76,54,57,48,67,66,77,83,93,46,43,81,34,39,56,76,53,51,84,46,60,83,74,66,59,45,43,95,97,96,77,67,61,58,105,96,94,88,55,70,77,88,94,93,58,50,54,84,67,87,100,87,79,65,57,78,103,69,74,86,100,106,113,115,116,104,80,78,108,115,121,128,94,122,117,93,78,109,86,117,80,116,120,98,97,116,104,133,132,108,118,125,142,144,98,107,139,140,131,123,114,92,84,110,125,114,105,86,99,99,89,83,82,103,122,126,128,101,96,108,122,136,137,116,110,104,97,95,107,124,117,116,120,85,89,94,112,100,84,95,113,119,121,106,98,83,87,117,118,116,81,73,76,81,92,111,80,72,74,114,119,121,117,90,83,81,93,105,118,109,81,90,106,119,121,118,96,88,79,76,65,97,74,69,66,54,60,89,98,100,99,94,62,56,65,90,101,95,59,64,95,63,90,51,50,54,83,96,67,54,48,64,77,89,97,57,104,91,69,62,80,106,100,80,68,84,80,67,63,58,69,75,81,92,70,63,55,46,49,60,72,84,91,43,49,59,78,91,57,54,66,91,91,86,91,98,66,64,66,91,105,75,63,95,62,74,80,92,77,52,43,49,92,73,56,54,51,62,81,62,74,98,73,67,69,108,101,65,80,91,102,90,96,74,62,54,96,94,60,54,71,89,90,68,56,95,99,93,62,61,78,85,106,73,73,78,90,95,101,111,86,98,99,92,69,79,69,52,95,97,51,57,73,80,98,78,64,60,61,72,77,97,117,95,72,77,100,61,54,57,85,95,82,47,94,81,61,57,75,58,49,63,69,74,62,56,73,80,93,101,97,90,67,98,66,94,98,71,59,55,52,80,91,68,61,51,48,58,71,48,86,67,64,77,57,98,93,79,66,59,75,89,108,107,87,74,96,69,57,50,86,50,70,88,75,55,42,70,86,83,72,84,88,92,71,100,84,64,104,102,67,63,57,58,87,91,48,51,86,92,71,64,52,62,80,53,58,77,83,97,64,54,100,105,69,117,80,75,77,99,104,109,77,68],\"type\":\"scatter\",\"xaxis\":\"x\",\"yaxis\":\"y2\"}],                        {\"template\":{\"data\":{\"bar\":[{\"error_x\":{\"color\":\"#2a3f5f\"},\"error_y\":{\"color\":\"#2a3f5f\"},\"marker\":{\"line\":{\"color\":\"#E5ECF6\",\"width\":0.5},\"pattern\":{\"fillmode\":\"overlay\",\"size\":10,\"solidity\":0.2}},\"type\":\"bar\"}],\"barpolar\":[{\"marker\":{\"line\":{\"color\":\"#E5ECF6\",\"width\":0.5},\"pattern\":{\"fillmode\":\"overlay\",\"size\":10,\"solidity\":0.2}},\"type\":\"barpolar\"}],\"carpet\":[{\"aaxis\":{\"endlinecolor\":\"#2a3f5f\",\"gridcolor\":\"white\",\"linecolor\":\"white\",\"minorgridcolor\":\"white\",\"startlinecolor\":\"#2a3f5f\"},\"baxis\":{\"endlinecolor\":\"#2a3f5f\",\"gridcolor\":\"white\",\"linecolor\":\"white\",\"minorgridcolor\":\"white\",\"startlinecolor\":\"#2a3f5f\"},\"type\":\"carpet\"}],\"choropleth\":[{\"colorbar\":{\"outlinewidth\":0,\"ticks\":\"\"},\"type\":\"choropleth\"}],\"contour\":[{\"colorbar\":{\"outlinewidth\":0,\"ticks\":\"\"},\"colorscale\":[[0.0,\"#0d0887\"],[0.1111111111111111,\"#46039f\"],[0.2222222222222222,\"#7201a8\"],[0.3333333333333333,\"#9c179e\"],[0.4444444444444444,\"#bd3786\"],[0.5555555555555556,\"#d8576b\"],[0.6666666666666666,\"#ed7953\"],[0.7777777777777778,\"#fb9f3a\"],[0.8888888888888888,\"#fdca26\"],[1.0,\"#f0f921\"]],\"type\":\"contour\"}],\"contourcarpet\":[{\"colorbar\":{\"outlinewidth\":0,\"ticks\":\"\"},\"type\":\"contourcarpet\"}],\"heatmap\":[{\"colorbar\":{\"outlinewidth\":0,\"ticks\":\"\"},\"colorscale\":[[0.0,\"#0d0887\"],[0.1111111111111111,\"#46039f\"],[0.2222222222222222,\"#7201a8\"],[0.3333333333333333,\"#9c179e\"],[0.4444444444444444,\"#bd3786\"],[0.5555555555555556,\"#d8576b\"],[0.6666666666666666,\"#ed7953\"],[0.7777777777777778,\"#fb9f3a\"],[0.8888888888888888,\"#fdca26\"],[1.0,\"#f0f921\"]],\"type\":\"heatmap\"}],\"heatmapgl\":[{\"colorbar\":{\"outlinewidth\":0,\"ticks\":\"\"},\"colorscale\":[[0.0,\"#0d0887\"],[0.1111111111111111,\"#46039f\"],[0.2222222222222222,\"#7201a8\"],[0.3333333333333333,\"#9c179e\"],[0.4444444444444444,\"#bd3786\"],[0.5555555555555556,\"#d8576b\"],[0.6666666666666666,\"#ed7953\"],[0.7777777777777778,\"#fb9f3a\"],[0.8888888888888888,\"#fdca26\"],[1.0,\"#f0f921\"]],\"type\":\"heatmapgl\"}],\"histogram\":[{\"marker\":{\"pattern\":{\"fillmode\":\"overlay\",\"size\":10,\"solidity\":0.2}},\"type\":\"histogram\"}],\"histogram2d\":[{\"colorbar\":{\"outlinewidth\":0,\"ticks\":\"\"},\"colorscale\":[[0.0,\"#0d0887\"],[0.1111111111111111,\"#46039f\"],[0.2222222222222222,\"#7201a8\"],[0.3333333333333333,\"#9c179e\"],[0.4444444444444444,\"#bd3786\"],[0.5555555555555556,\"#d8576b\"],[0.6666666666666666,\"#ed7953\"],[0.7777777777777778,\"#fb9f3a\"],[0.8888888888888888,\"#fdca26\"],[1.0,\"#f0f921\"]],\"type\":\"histogram2d\"}],\"histogram2dcontour\":[{\"colorbar\":{\"outlinewidth\":0,\"ticks\":\"\"},\"colorscale\":[[0.0,\"#0d0887\"],[0.1111111111111111,\"#46039f\"],[0.2222222222222222,\"#7201a8\"],[0.3333333333333333,\"#9c179e\"],[0.4444444444444444,\"#bd3786\"],[0.5555555555555556,\"#d8576b\"],[0.6666666666666666,\"#ed7953\"],[0.7777777777777778,\"#fb9f3a\"],[0.8888888888888888,\"#fdca26\"],[1.0,\"#f0f921\"]],\"type\":\"histogram2dcontour\"}],\"mesh3d\":[{\"colorbar\":{\"outlinewidth\":0,\"ticks\":\"\"},\"type\":\"mesh3d\"}],\"parcoords\":[{\"line\":{\"colorbar\":{\"outlinewidth\":0,\"ticks\":\"\"}},\"type\":\"parcoords\"}],\"pie\":[{\"automargin\":true,\"type\":\"pie\"}],\"scatter\":[{\"marker\":{\"colorbar\":{\"outlinewidth\":0,\"ticks\":\"\"}},\"type\":\"scatter\"}],\"scatter3d\":[{\"line\":{\"colorbar\":{\"outlinewidth\":0,\"ticks\":\"\"}},\"marker\":{\"colorbar\":{\"outlinewidth\":0,\"ticks\":\"\"}},\"type\":\"scatter3d\"}],\"scattercarpet\":[{\"marker\":{\"colorbar\":{\"outlinewidth\":0,\"ticks\":\"\"}},\"type\":\"scattercarpet\"}],\"scattergeo\":[{\"marker\":{\"colorbar\":{\"outlinewidth\":0,\"ticks\":\"\"}},\"type\":\"scattergeo\"}],\"scattergl\":[{\"marker\":{\"colorbar\":{\"outlinewidth\":0,\"ticks\":\"\"}},\"type\":\"scattergl\"}],\"scattermapbox\":[{\"marker\":{\"colorbar\":{\"outlinewidth\":0,\"ticks\":\"\"}},\"type\":\"scattermapbox\"}],\"scatterpolar\":[{\"marker\":{\"colorbar\":{\"outlinewidth\":0,\"ticks\":\"\"}},\"type\":\"scatterpolar\"}],\"scatterpolargl\":[{\"marker\":{\"colorbar\":{\"outlinewidth\":0,\"ticks\":\"\"}},\"type\":\"scatterpolargl\"}],\"scatterternary\":[{\"marker\":{\"colorbar\":{\"outlinewidth\":0,\"ticks\":\"\"}},\"type\":\"scatterternary\"}],\"surface\":[{\"colorbar\":{\"outlinewidth\":0,\"ticks\":\"\"},\"colorscale\":[[0.0,\"#0d0887\"],[0.1111111111111111,\"#46039f\"],[0.2222222222222222,\"#7201a8\"],[0.3333333333333333,\"#9c179e\"],[0.4444444444444444,\"#bd3786\"],[0.5555555555555556,\"#d8576b\"],[0.6666666666666666,\"#ed7953\"],[0.7777777777777778,\"#fb9f3a\"],[0.8888888888888888,\"#fdca26\"],[1.0,\"#f0f921\"]],\"type\":\"surface\"}],\"table\":[{\"cells\":{\"fill\":{\"color\":\"#EBF0F8\"},\"line\":{\"color\":\"white\"}},\"header\":{\"fill\":{\"color\":\"#C8D4E3\"},\"line\":{\"color\":\"white\"}},\"type\":\"table\"}]},\"layout\":{\"annotationdefaults\":{\"arrowcolor\":\"#2a3f5f\",\"arrowhead\":0,\"arrowwidth\":1},\"autotypenumbers\":\"strict\",\"coloraxis\":{\"colorbar\":{\"outlinewidth\":0,\"ticks\":\"\"}},\"colorscale\":{\"diverging\":[[0,\"#8e0152\"],[0.1,\"#c51b7d\"],[0.2,\"#de77ae\"],[0.3,\"#f1b6da\"],[0.4,\"#fde0ef\"],[0.5,\"#f7f7f7\"],[0.6,\"#e6f5d0\"],[0.7,\"#b8e186\"],[0.8,\"#7fbc41\"],[0.9,\"#4d9221\"],[1,\"#276419\"]],\"sequential\":[[0.0,\"#0d0887\"],[0.1111111111111111,\"#46039f\"],[0.2222222222222222,\"#7201a8\"],[0.3333333333333333,\"#9c179e\"],[0.4444444444444444,\"#bd3786\"],[0.5555555555555556,\"#d8576b\"],[0.6666666666666666,\"#ed7953\"],[0.7777777777777778,\"#fb9f3a\"],[0.8888888888888888,\"#fdca26\"],[1.0,\"#f0f921\"]],\"sequentialminus\":[[0.0,\"#0d0887\"],[0.1111111111111111,\"#46039f\"],[0.2222222222222222,\"#7201a8\"],[0.3333333333333333,\"#9c179e\"],[0.4444444444444444,\"#bd3786\"],[0.5555555555555556,\"#d8576b\"],[0.6666666666666666,\"#ed7953\"],[0.7777777777777778,\"#fb9f3a\"],[0.8888888888888888,\"#fdca26\"],[1.0,\"#f0f921\"]]},\"colorway\":[\"#636efa\",\"#EF553B\",\"#00cc96\",\"#ab63fa\",\"#FFA15A\",\"#19d3f3\",\"#FF6692\",\"#B6E880\",\"#FF97FF\",\"#FECB52\"],\"font\":{\"color\":\"#2a3f5f\"},\"geo\":{\"bgcolor\":\"white\",\"lakecolor\":\"white\",\"landcolor\":\"#E5ECF6\",\"showlakes\":true,\"showland\":true,\"subunitcolor\":\"white\"},\"hoverlabel\":{\"align\":\"left\"},\"hovermode\":\"closest\",\"mapbox\":{\"style\":\"light\"},\"paper_bgcolor\":\"white\",\"plot_bgcolor\":\"#E5ECF6\",\"polar\":{\"angularaxis\":{\"gridcolor\":\"white\",\"linecolor\":\"white\",\"ticks\":\"\"},\"bgcolor\":\"#E5ECF6\",\"radialaxis\":{\"gridcolor\":\"white\",\"linecolor\":\"white\",\"ticks\":\"\"}},\"scene\":{\"xaxis\":{\"backgroundcolor\":\"#E5ECF6\",\"gridcolor\":\"white\",\"gridwidth\":2,\"linecolor\":\"white\",\"showbackground\":true,\"ticks\":\"\",\"zerolinecolor\":\"white\"},\"yaxis\":{\"backgroundcolor\":\"#E5ECF6\",\"gridcolor\":\"white\",\"gridwidth\":2,\"linecolor\":\"white\",\"showbackground\":true,\"ticks\":\"\",\"zerolinecolor\":\"white\"},\"zaxis\":{\"backgroundcolor\":\"#E5ECF6\",\"gridcolor\":\"white\",\"gridwidth\":2,\"linecolor\":\"white\",\"showbackground\":true,\"ticks\":\"\",\"zerolinecolor\":\"white\"}},\"shapedefaults\":{\"line\":{\"color\":\"#2a3f5f\"}},\"ternary\":{\"aaxis\":{\"gridcolor\":\"white\",\"linecolor\":\"white\",\"ticks\":\"\"},\"baxis\":{\"gridcolor\":\"white\",\"linecolor\":\"white\",\"ticks\":\"\"},\"bgcolor\":\"#E5ECF6\",\"caxis\":{\"gridcolor\":\"white\",\"linecolor\":\"white\",\"ticks\":\"\"}},\"title\":{\"x\":0.05},\"xaxis\":{\"automargin\":true,\"gridcolor\":\"white\",\"linecolor\":\"white\",\"ticks\":\"\",\"title\":{\"standoff\":15},\"zerolinecolor\":\"white\",\"zerolinewidth\":2},\"yaxis\":{\"automargin\":true,\"gridcolor\":\"white\",\"linecolor\":\"white\",\"ticks\":\"\",\"title\":{\"standoff\":15},\"zerolinecolor\":\"white\",\"zerolinewidth\":2}}},\"xaxis\":{\"anchor\":\"y\",\"domain\":[0.0,0.94],\"title\":{\"text\":\"Timeline\"}},\"yaxis\":{\"anchor\":\"x\",\"domain\":[0.0,1.0],\"title\":{\"text\":\"<b>actual</b> targets\"}},\"yaxis2\":{\"anchor\":\"x\",\"overlaying\":\"y\",\"side\":\"right\",\"title\":{\"text\":\"<b>predicted</b> targets\"}},\"title\":{\"text\":\"Actual vs Predicted Targets\"}},                        {\"responsive\": true}                    ).then(function(){\n",
              "                            \n",
              "var gd = document.getElementById('77ed3363-88a5-441c-92d3-648d3f566a98');\n",
              "var x = new MutationObserver(function (mutations, observer) {{\n",
              "        var display = window.getComputedStyle(gd).display;\n",
              "        if (!display || display === 'none') {{\n",
              "            console.log([gd, 'removed!']);\n",
              "            Plotly.purge(gd);\n",
              "            observer.disconnect();\n",
              "        }}\n",
              "}});\n",
              "\n",
              "// Listen for the removal of the full notebook cells\n",
              "var notebookContainer = gd.closest('#notebook-container');\n",
              "if (notebookContainer) {{\n",
              "    x.observe(notebookContainer, {childList: true});\n",
              "}}\n",
              "\n",
              "// Listen for the clearing of the current output cell\n",
              "var outputEl = gd.closest('.output');\n",
              "if (outputEl) {{\n",
              "    x.observe(outputEl, {childList: true});\n",
              "}}\n",
              "\n",
              "                        })                };                            </script>        </div>\n",
              "</body>\n",
              "</html>"
            ]
          },
          "metadata": {}
        }
      ]
    },
    {
      "cell_type": "code",
      "source": [
        "df_test = pd.read_csv(\"/content/test_6QvDdzb.csv\")\n",
        "\n",
        "test = dataPreprocessing(df_test.copy())\n",
        "test.head()"
      ],
      "metadata": {
        "colab": {
          "base_uri": "https://localhost:8080/",
          "height": 206
        },
        "id": "16c_5s-gCNo-",
        "outputId": "ca45e34f-573d-4b28-a056-7874566b768b"
      },
      "execution_count": 67,
      "outputs": [
        {
          "output_type": "execute_result",
          "data": {
            "text/plain": [
              "                 date\n",
              "0 2021-03-01 00:00:00\n",
              "1 2021-03-01 01:00:00\n",
              "2 2021-03-01 02:00:00\n",
              "3 2021-03-01 03:00:00\n",
              "4 2021-03-01 05:00:00"
            ],
            "text/html": [
              "\n",
              "  <div id=\"df-4b4caaa4-dc03-4b37-a135-fc5c641a7f8e\">\n",
              "    <div class=\"colab-df-container\">\n",
              "      <div>\n",
              "<style scoped>\n",
              "    .dataframe tbody tr th:only-of-type {\n",
              "        vertical-align: middle;\n",
              "    }\n",
              "\n",
              "    .dataframe tbody tr th {\n",
              "        vertical-align: top;\n",
              "    }\n",
              "\n",
              "    .dataframe thead th {\n",
              "        text-align: right;\n",
              "    }\n",
              "</style>\n",
              "<table border=\"1\" class=\"dataframe\">\n",
              "  <thead>\n",
              "    <tr style=\"text-align: right;\">\n",
              "      <th></th>\n",
              "      <th>date</th>\n",
              "    </tr>\n",
              "  </thead>\n",
              "  <tbody>\n",
              "    <tr>\n",
              "      <th>0</th>\n",
              "      <td>2021-03-01 00:00:00</td>\n",
              "    </tr>\n",
              "    <tr>\n",
              "      <th>1</th>\n",
              "      <td>2021-03-01 01:00:00</td>\n",
              "    </tr>\n",
              "    <tr>\n",
              "      <th>2</th>\n",
              "      <td>2021-03-01 02:00:00</td>\n",
              "    </tr>\n",
              "    <tr>\n",
              "      <th>3</th>\n",
              "      <td>2021-03-01 03:00:00</td>\n",
              "    </tr>\n",
              "    <tr>\n",
              "      <th>4</th>\n",
              "      <td>2021-03-01 05:00:00</td>\n",
              "    </tr>\n",
              "  </tbody>\n",
              "</table>\n",
              "</div>\n",
              "      <button class=\"colab-df-convert\" onclick=\"convertToInteractive('df-4b4caaa4-dc03-4b37-a135-fc5c641a7f8e')\"\n",
              "              title=\"Convert this dataframe to an interactive table.\"\n",
              "              style=\"display:none;\">\n",
              "        \n",
              "  <svg xmlns=\"http://www.w3.org/2000/svg\" height=\"24px\"viewBox=\"0 0 24 24\"\n",
              "       width=\"24px\">\n",
              "    <path d=\"M0 0h24v24H0V0z\" fill=\"none\"/>\n",
              "    <path d=\"M18.56 5.44l.94 2.06.94-2.06 2.06-.94-2.06-.94-.94-2.06-.94 2.06-2.06.94zm-11 1L8.5 8.5l.94-2.06 2.06-.94-2.06-.94L8.5 2.5l-.94 2.06-2.06.94zm10 10l.94 2.06.94-2.06 2.06-.94-2.06-.94-.94-2.06-.94 2.06-2.06.94z\"/><path d=\"M17.41 7.96l-1.37-1.37c-.4-.4-.92-.59-1.43-.59-.52 0-1.04.2-1.43.59L10.3 9.45l-7.72 7.72c-.78.78-.78 2.05 0 2.83L4 21.41c.39.39.9.59 1.41.59.51 0 1.02-.2 1.41-.59l7.78-7.78 2.81-2.81c.8-.78.8-2.07 0-2.86zM5.41 20L4 18.59l7.72-7.72 1.47 1.35L5.41 20z\"/>\n",
              "  </svg>\n",
              "      </button>\n",
              "      \n",
              "  <style>\n",
              "    .colab-df-container {\n",
              "      display:flex;\n",
              "      flex-wrap:wrap;\n",
              "      gap: 12px;\n",
              "    }\n",
              "\n",
              "    .colab-df-convert {\n",
              "      background-color: #E8F0FE;\n",
              "      border: none;\n",
              "      border-radius: 50%;\n",
              "      cursor: pointer;\n",
              "      display: none;\n",
              "      fill: #1967D2;\n",
              "      height: 32px;\n",
              "      padding: 0 0 0 0;\n",
              "      width: 32px;\n",
              "    }\n",
              "\n",
              "    .colab-df-convert:hover {\n",
              "      background-color: #E2EBFA;\n",
              "      box-shadow: 0px 1px 2px rgba(60, 64, 67, 0.3), 0px 1px 3px 1px rgba(60, 64, 67, 0.15);\n",
              "      fill: #174EA6;\n",
              "    }\n",
              "\n",
              "    [theme=dark] .colab-df-convert {\n",
              "      background-color: #3B4455;\n",
              "      fill: #D2E3FC;\n",
              "    }\n",
              "\n",
              "    [theme=dark] .colab-df-convert:hover {\n",
              "      background-color: #434B5C;\n",
              "      box-shadow: 0px 1px 3px 1px rgba(0, 0, 0, 0.15);\n",
              "      filter: drop-shadow(0px 1px 2px rgba(0, 0, 0, 0.3));\n",
              "      fill: #FFFFFF;\n",
              "    }\n",
              "  </style>\n",
              "\n",
              "      <script>\n",
              "        const buttonEl =\n",
              "          document.querySelector('#df-4b4caaa4-dc03-4b37-a135-fc5c641a7f8e button.colab-df-convert');\n",
              "        buttonEl.style.display =\n",
              "          google.colab.kernel.accessAllowed ? 'block' : 'none';\n",
              "\n",
              "        async function convertToInteractive(key) {\n",
              "          const element = document.querySelector('#df-4b4caaa4-dc03-4b37-a135-fc5c641a7f8e');\n",
              "          const dataTable =\n",
              "            await google.colab.kernel.invokeFunction('convertToInteractive',\n",
              "                                                     [key], {});\n",
              "          if (!dataTable) return;\n",
              "\n",
              "          const docLinkHtml = 'Like what you see? Visit the ' +\n",
              "            '<a target=\"_blank\" href=https://colab.research.google.com/notebooks/data_table.ipynb>data table notebook</a>'\n",
              "            + ' to learn more about interactive tables.';\n",
              "          element.innerHTML = '';\n",
              "          dataTable['output_type'] = 'display_data';\n",
              "          await google.colab.output.renderOutput(dataTable, element);\n",
              "          const docLink = document.createElement('div');\n",
              "          docLink.innerHTML = docLinkHtml;\n",
              "          element.appendChild(docLink);\n",
              "        }\n",
              "      </script>\n",
              "    </div>\n",
              "  </div>\n",
              "  "
            ]
          },
          "metadata": {},
          "execution_count": 67
        }
      ]
    },
    {
      "cell_type": "code",
      "source": [
        "df_test_pred = model.predict(pd.DataFrame({'ds':test['date']}))"
      ],
      "metadata": {
        "id": "rzJCo9Z-CfIC"
      },
      "execution_count": 71,
      "outputs": []
    },
    {
      "cell_type": "code",
      "source": [
        "df_test_pred  = df_test_pred ['yhat']\n",
        "df_test_pred  = df_test_pred .astype(int)\n",
        "df_test['demand'] = df_test_pred\n",
        "df_test.head()\n",
        "df_test.to_csv('submission.csv', index=False)"
      ],
      "metadata": {
        "id": "wD1R2xRXDDP2"
      },
      "execution_count": 72,
      "outputs": []
    },
    {
      "cell_type": "code",
      "source": [
        "df_test.to_csv('submission.csv', index=False)"
      ],
      "metadata": {
        "id": "f7EPJMVtEtzL"
      },
      "execution_count": 74,
      "outputs": []
    }
  ]
}